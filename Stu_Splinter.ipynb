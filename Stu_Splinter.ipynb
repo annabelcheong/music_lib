{
 "cells": [
  {
   "source": [
    "## Web Scraping\n",
    "*** Go to \"Rate Your Music\" website and retrieve a chart of the top albums of all time ***"
   ],
   "cell_type": "markdown",
   "metadata": {}
  },
  {
   "cell_type": "code",
   "execution_count": 14,
   "metadata": {},
   "outputs": [],
   "source": [
    "from splinter import Browser\n",
    "from bs4 import BeautifulSoup\n",
    "import time\n",
    "import pandas as pd\n"
   ]
  },
  {
   "cell_type": "code",
   "execution_count": 2,
   "metadata": {},
   "outputs": [
    {
     "output_type": "stream",
     "name": "stderr",
     "text": [
      "[WDM] - ====== WebDriver manager ======\n",
      "[WDM] - Current google-chrome version is 88.0.4324\n",
      "[WDM] - Get LATEST driver version for 88.0.4324\n",
      "\n",
      "\n",
      "[WDM] - Get LATEST driver version for 88.0.4324\n",
      "[WDM] - Trying to download new driver from https://chromedriver.storage.googleapis.com/88.0.4324.96/chromedriver_win32.zip\n",
      "[WDM] - Driver has been saved in cache [C:\\Users\\bentl\\.wdm\\drivers\\chromedriver\\win32\\88.0.4324.96]\n"
     ]
    }
   ],
   "source": [
    "from webdriver_manager.chrome import ChromeDriverManager\n",
    "executable_path = {'executable_path': ChromeDriverManager().install()}\n",
    "browser = Browser('chrome', **executable_path, headless=True)"
   ]
  },
  {
   "cell_type": "code",
   "execution_count": 3,
   "metadata": {},
   "outputs": [],
   "source": [
    "url = 'https://rateyourmusic.com/charts/top/album/all-time/'\n",
    "browser.visit(url)"
   ]
  },
  {
   "cell_type": "code",
   "execution_count": 56,
   "metadata": {
    "tags": []
   },
   "outputs": [
    {
     "output_type": "stream",
     "name": "stdout",
     "text": [
      "no record\nno record\n"
     ]
    }
   ],
   "source": [
    "# Iterate through all pages\n",
    "for x in range(1):\n",
    "    # HTML object\n",
    "    html = browser.html\n",
    "    # Parse HTML with Beautiful Soup\n",
    "    soup = BeautifulSoup(html, 'html.parser')\n",
    "    # Retrieve all elements that contain album information\n",
    "    albums = soup.find_all('div', class_='topcharts_itembox chart_item_release')\n",
    "\n",
    "    album_list = []\n",
    "    # Iterate through each album\n",
    "    for album in albums:\n",
    "        # Use Beautiful Soup's find() method to navigate and retrieve album attributes\n",
    "        try:\n",
    "            album_dict = {\n",
    "                \"position\" : album.find('div', class_='topcharts_position').text,\n",
    "                \"title\" : album.find('a', class_='release').text,\n",
    "                \"artist\" : album.find('a', class_='artist').text,\n",
    "                \"release_date\" : album.find('div', class_='topcharts_item_releasedate').text.strip('\\t\\r\\n'),\n",
    "                \"genres\" : album.find('div', class_='topcharts_item_genres_container').text.strip('\\t\\r\\n'),\n",
    "                \"secondarygenres\" : album.find('div', class_='topcharts_item_secondarygenres_container').text.strip('\\t\\r\\n'),\n",
    "                \"avg_rating\" : album.find('span', class_='topcharts_stat topcharts_avg_rating_stat').text,\n",
    "                \"rating_count\" : album.find('span', class_='topcharts_stat topcharts_ratings_stat').text,\n",
    "                \"review_count\" : album.find('span', class_='topcharts_stat topcharts_reviews_stat').text,\n",
    "                \"spotify_link\" : album.find('a', class_='ui_media_link_btn ui_media_link_btn_spotify').attrs.get(\"href\") }\n",
    "               \n",
    "        except AttributeError:\n",
    "            print('no record')\n",
    "        \n",
    "        album_list.append(album_dict)\n",
    "\n",
    "    # Click the 'Next' button on each page\n",
    "    try:\n",
    "        browser.click_link_by_partial_text('Next')\n",
    "          \n",
    "    except:\n",
    "        print(\"Scraping Complete\")\n",
    "\n",
    "    time.sleep(1)\n",
    "\n",
    "top_albums = pd.DataFrame(album_list)\n"
   ]
  },
  {
   "cell_type": "code",
   "execution_count": 57,
   "metadata": {},
   "outputs": [
    {
     "output_type": "execute_result",
     "data": {
      "text/plain": [
       "  position                           title                 artist  \\\n",
       "0     561.                    Twin Fantasy      Car Seat Headrest   \n",
       "1     562.             A Crow Looked at Me            Mount Eerie   \n",
       "2     563.                     The Fragile        Nine Inch Nails   \n",
       "3     564.                         Scott 4            Scott Engel   \n",
       "4     565.               Elvis: TV Special          Elvis Presley   \n",
       "5     566.          Deep Purple in Concert            Deep Purple   \n",
       "6     567.  Ella in Berlin: Mack the Knife        Ella Fitzgerald   \n",
       "7     568.                 Live in Hamburg  Esbjörn Svensson Trio   \n",
       "8     569.     Individual Thought Patterns                  Death   \n",
       "9     570.                Matthäus-Passion  Collegium Vocale Gent   \n",
       "\n",
       "                                        release_date  \\\n",
       "0  16 February 2018 \\n                  \\n       ...   \n",
       "1  24 March 2017 \\n                  \\n          ...   \n",
       "2  21 September 1999 \\n                  \\n      ...   \n",
       "3  November 1969 \\n                  \\n          ...   \n",
       "4    December 1968 \\n                           Live   \n",
       "5    December 1980 \\n                           Live   \n",
       "6              1960\\n                           Live   \n",
       "7  23 November 2007 \\n                           ...   \n",
       "8  30 June 1993 \\n                  \\n           ...   \n",
       "9  16 November 1999 \\n                  \\n       ...   \n",
       "\n",
       "                                              genres  \\\n",
       "0                                         Indie Rock   \n",
       "1  Singer/Songwriter, \\nIndie Folk, \\nContemporar...   \n",
       "2    Industrial Rock, \\nArt Rock, \\nAlternative Rock   \n",
       "3                   Baroque Pop, \\nSinger/Songwriter   \n",
       "4                            Rock & Roll, \\nPop Rock   \n",
       "5                                          Hard Rock   \n",
       "6                            Vocal Jazz, \\nStandards   \n",
       "7                 ECM Style Jazz, \\nAvant-Garde Jazz   \n",
       "8                              Technical Death Metal   \n",
       "9  Baroque Music, \\nOratorio, \\nChristian Liturgi...   \n",
       "\n",
       "                                     secondarygenres avg_rating rating_count  \\\n",
       "0                     Singer/Songwriter, \\nPower Pop       3.85       15,384   \n",
       "1                                           Slowcore       3.86       12,565   \n",
       "2                        Industrial Metal, \\nAmbient       3.89       10,795   \n",
       "3                                                          3.91        7,506   \n",
       "4  Blue-Eyed Soul, \\nGospel, \\nRockabilly, \\nRhyt...       3.98          595   \n",
       "5                                   Progressive Rock       3.99          548   \n",
       "6                                              Swing       3.98          487   \n",
       "7                            Post-Bop, \\nJazz Fusion       4.00          281   \n",
       "8                                  Progressive Metal       3.90        7,825   \n",
       "9                                             Choral       3.96          741   \n",
       "\n",
       "  review_count                                       spotify_link  \n",
       "0          200  https://open.spotify.com/album/20U1UWeGcGq7JVW...  \n",
       "1          190  https://open.spotify.com/album/5p64XgvFREt1P6m...  \n",
       "2          221  https://open.spotify.com/album/4uiVwLbTzE6VMkX...  \n",
       "3          134  https://open.spotify.com/album/7uU2qrFZQSdQaci...  \n",
       "4           28  https://open.spotify.com/album/4OaxrDxZe97lotU...  \n",
       "5           23  https://open.spotify.com/album/63KHr72RpRS3k0A...  \n",
       "6           19  https://open.spotify.com/album/1wQ8jRyqbHquuUB...  \n",
       "7           10  https://open.spotify.com/album/3PU1b3aDrbMKucR...  \n",
       "8          132  https://open.spotify.com/album/56gbykNskCFungP...  \n",
       "9            7  https://open.spotify.com/album/5ZHCqltda5ywYkH...  "
      ],
      "text/html": "<div>\n<style scoped>\n    .dataframe tbody tr th:only-of-type {\n        vertical-align: middle;\n    }\n\n    .dataframe tbody tr th {\n        vertical-align: top;\n    }\n\n    .dataframe thead th {\n        text-align: right;\n    }\n</style>\n<table border=\"1\" class=\"dataframe\">\n  <thead>\n    <tr style=\"text-align: right;\">\n      <th></th>\n      <th>position</th>\n      <th>title</th>\n      <th>artist</th>\n      <th>release_date</th>\n      <th>genres</th>\n      <th>secondarygenres</th>\n      <th>avg_rating</th>\n      <th>rating_count</th>\n      <th>review_count</th>\n      <th>spotify_link</th>\n    </tr>\n  </thead>\n  <tbody>\n    <tr>\n      <th>0</th>\n      <td>561.</td>\n      <td>Twin Fantasy</td>\n      <td>Car Seat Headrest</td>\n      <td>16 February 2018 \\n                  \\n       ...</td>\n      <td>Indie Rock</td>\n      <td>Singer/Songwriter, \\nPower Pop</td>\n      <td>3.85</td>\n      <td>15,384</td>\n      <td>200</td>\n      <td>https://open.spotify.com/album/20U1UWeGcGq7JVW...</td>\n    </tr>\n    <tr>\n      <th>1</th>\n      <td>562.</td>\n      <td>A Crow Looked at Me</td>\n      <td>Mount Eerie</td>\n      <td>24 March 2017 \\n                  \\n          ...</td>\n      <td>Singer/Songwriter, \\nIndie Folk, \\nContemporar...</td>\n      <td>Slowcore</td>\n      <td>3.86</td>\n      <td>12,565</td>\n      <td>190</td>\n      <td>https://open.spotify.com/album/5p64XgvFREt1P6m...</td>\n    </tr>\n    <tr>\n      <th>2</th>\n      <td>563.</td>\n      <td>The Fragile</td>\n      <td>Nine Inch Nails</td>\n      <td>21 September 1999 \\n                  \\n      ...</td>\n      <td>Industrial Rock, \\nArt Rock, \\nAlternative Rock</td>\n      <td>Industrial Metal, \\nAmbient</td>\n      <td>3.89</td>\n      <td>10,795</td>\n      <td>221</td>\n      <td>https://open.spotify.com/album/4uiVwLbTzE6VMkX...</td>\n    </tr>\n    <tr>\n      <th>3</th>\n      <td>564.</td>\n      <td>Scott 4</td>\n      <td>Scott Engel</td>\n      <td>November 1969 \\n                  \\n          ...</td>\n      <td>Baroque Pop, \\nSinger/Songwriter</td>\n      <td></td>\n      <td>3.91</td>\n      <td>7,506</td>\n      <td>134</td>\n      <td>https://open.spotify.com/album/7uU2qrFZQSdQaci...</td>\n    </tr>\n    <tr>\n      <th>4</th>\n      <td>565.</td>\n      <td>Elvis: TV Special</td>\n      <td>Elvis Presley</td>\n      <td>December 1968 \\n                           Live</td>\n      <td>Rock &amp; Roll, \\nPop Rock</td>\n      <td>Blue-Eyed Soul, \\nGospel, \\nRockabilly, \\nRhyt...</td>\n      <td>3.98</td>\n      <td>595</td>\n      <td>28</td>\n      <td>https://open.spotify.com/album/4OaxrDxZe97lotU...</td>\n    </tr>\n    <tr>\n      <th>5</th>\n      <td>566.</td>\n      <td>Deep Purple in Concert</td>\n      <td>Deep Purple</td>\n      <td>December 1980 \\n                           Live</td>\n      <td>Hard Rock</td>\n      <td>Progressive Rock</td>\n      <td>3.99</td>\n      <td>548</td>\n      <td>23</td>\n      <td>https://open.spotify.com/album/63KHr72RpRS3k0A...</td>\n    </tr>\n    <tr>\n      <th>6</th>\n      <td>567.</td>\n      <td>Ella in Berlin: Mack the Knife</td>\n      <td>Ella Fitzgerald</td>\n      <td>1960\\n                           Live</td>\n      <td>Vocal Jazz, \\nStandards</td>\n      <td>Swing</td>\n      <td>3.98</td>\n      <td>487</td>\n      <td>19</td>\n      <td>https://open.spotify.com/album/1wQ8jRyqbHquuUB...</td>\n    </tr>\n    <tr>\n      <th>7</th>\n      <td>568.</td>\n      <td>Live in Hamburg</td>\n      <td>Esbjörn Svensson Trio</td>\n      <td>23 November 2007 \\n                           ...</td>\n      <td>ECM Style Jazz, \\nAvant-Garde Jazz</td>\n      <td>Post-Bop, \\nJazz Fusion</td>\n      <td>4.00</td>\n      <td>281</td>\n      <td>10</td>\n      <td>https://open.spotify.com/album/3PU1b3aDrbMKucR...</td>\n    </tr>\n    <tr>\n      <th>8</th>\n      <td>569.</td>\n      <td>Individual Thought Patterns</td>\n      <td>Death</td>\n      <td>30 June 1993 \\n                  \\n           ...</td>\n      <td>Technical Death Metal</td>\n      <td>Progressive Metal</td>\n      <td>3.90</td>\n      <td>7,825</td>\n      <td>132</td>\n      <td>https://open.spotify.com/album/56gbykNskCFungP...</td>\n    </tr>\n    <tr>\n      <th>9</th>\n      <td>570.</td>\n      <td>Matthäus-Passion</td>\n      <td>Collegium Vocale Gent</td>\n      <td>16 November 1999 \\n                  \\n       ...</td>\n      <td>Baroque Music, \\nOratorio, \\nChristian Liturgi...</td>\n      <td>Choral</td>\n      <td>3.96</td>\n      <td>741</td>\n      <td>7</td>\n      <td>https://open.spotify.com/album/5ZHCqltda5ywYkH...</td>\n    </tr>\n  </tbody>\n</table>\n</div>"
     },
     "metadata": {},
     "execution_count": 57
    }
   ],
   "source": [
    "top_albums.head(10)"
   ]
  },
  {
   "source": [
    "*** Transform ***\n",
    "* Remove end of line characters\n",
    "* set the index to the position"
   ],
   "cell_type": "markdown",
   "metadata": {}
  },
  {
   "cell_type": "code",
   "execution_count": 58,
   "metadata": {},
   "outputs": [],
   "source": [
    "top_albums['release_date'].replace(r'\\s+|\\\\n', ' ', regex=True, inplace=True)\n",
    "top_albums['genres'].replace(r'\\s+|\\\\n', ' ', regex=True, inplace=True)\n",
    "top_albums['secondarygenres'].replace(r'\\s+|\\\\n', ' ', regex=True, inplace=True)\n",
    "top_albums['position'] = top_albums['position'].str.replace('[^\\w\\s]','')\n"
   ]
  },
  {
   "cell_type": "code",
   "execution_count": 59,
   "metadata": {},
   "outputs": [
    {
     "output_type": "execute_result",
     "data": {
      "text/plain": [
       "   position                                        title  \\\n",
       "0       561                                 Twin Fantasy   \n",
       "1       562                          A Crow Looked at Me   \n",
       "2       563                                  The Fragile   \n",
       "3       564                                      Scott 4   \n",
       "4       565                            Elvis: TV Special   \n",
       "5       566                       Deep Purple in Concert   \n",
       "6       567               Ella in Berlin: Mack the Knife   \n",
       "7       568                              Live in Hamburg   \n",
       "8       569                  Individual Thought Patterns   \n",
       "9       570                             Matthäus-Passion   \n",
       "10      571  Live... With a Little Help From Our Friends   \n",
       "11      572                               Titanic Rising   \n",
       "12      573                Anthems to the Welkin at Dusk   \n",
       "13      573                Anthems to the Welkin at Dusk   \n",
       "14      575                               Roforofo Fight   \n",
       "\n",
       "                   artist           release_date  \\\n",
       "0       Car Seat Headrest      16 February 2018    \n",
       "1             Mount Eerie         24 March 2017    \n",
       "2         Nine Inch Nails     21 September 1999    \n",
       "3             Scott Engel         November 1969    \n",
       "4           Elvis Presley     December 1968 Live   \n",
       "5             Deep Purple     December 1980 Live   \n",
       "6         Ella Fitzgerald              1960 Live   \n",
       "7   Esbjörn Svensson Trio  23 November 2007 Live   \n",
       "8                   Death          30 June 1993    \n",
       "9   Collegium Vocale Gent      16 November 1999    \n",
       "10             Gov't Mule     23 March 1999 Live   \n",
       "11            Weyes Blood          5 April 2019    \n",
       "12                Emperor           8 July 1997    \n",
       "13                Emperor           8 July 1997    \n",
       "14              Fela Kuti                  1972    \n",
       "\n",
       "                                               genres  \\\n",
       "0                                          Indie Rock   \n",
       "1    Singer/Songwriter, Indie Folk, Contemporary Folk   \n",
       "2         Industrial Rock, Art Rock, Alternative Rock   \n",
       "3                      Baroque Pop, Singer/Songwriter   \n",
       "4                               Rock & Roll, Pop Rock   \n",
       "5                                           Hard Rock   \n",
       "6                               Vocal Jazz, Standards   \n",
       "7                    ECM Style Jazz, Avant-Garde Jazz   \n",
       "8                               Technical Death Metal   \n",
       "9   Baroque Music, Oratorio, Christian Liturgical ...   \n",
       "10                Jam Band, Blues Rock, Southern Rock   \n",
       "11                               Baroque Pop, Art Pop   \n",
       "12                              Symphonic Black Metal   \n",
       "13                              Symphonic Black Metal   \n",
       "14                                           Afrobeat   \n",
       "\n",
       "                                      secondarygenres avg_rating rating_count  \\\n",
       "0                        Singer/Songwriter, Power Pop       3.85       15,384   \n",
       "1                                            Slowcore       3.86       12,565   \n",
       "2                           Industrial Metal, Ambient       3.89       10,795   \n",
       "3                                                           3.91        7,506   \n",
       "4   Blue-Eyed Soul, Gospel, Rockabilly, Rhythm & B...       3.98          595   \n",
       "5                                    Progressive Rock       3.99          548   \n",
       "6                                               Swing       3.98          487   \n",
       "7                               Post-Bop, Jazz Fusion       4.00          281   \n",
       "8                                   Progressive Metal       3.90        7,825   \n",
       "9                                              Choral       3.96          741   \n",
       "10                                          Hard Rock       3.97          313   \n",
       "11        Progressive Pop, Dream Pop, Psychedelic Pop       3.86       16,690   \n",
       "12                                                          3.92        6,271   \n",
       "13                                                          3.92        6,271   \n",
       "14                                                          3.96        2,792   \n",
       "\n",
       "   review_count                                       spotify_link  \n",
       "0           200  https://open.spotify.com/album/20U1UWeGcGq7JVW...  \n",
       "1           190  https://open.spotify.com/album/5p64XgvFREt1P6m...  \n",
       "2           221  https://open.spotify.com/album/4uiVwLbTzE6VMkX...  \n",
       "3           134  https://open.spotify.com/album/7uU2qrFZQSdQaci...  \n",
       "4            28  https://open.spotify.com/album/4OaxrDxZe97lotU...  \n",
       "5            23  https://open.spotify.com/album/63KHr72RpRS3k0A...  \n",
       "6            19  https://open.spotify.com/album/1wQ8jRyqbHquuUB...  \n",
       "7            10  https://open.spotify.com/album/3PU1b3aDrbMKucR...  \n",
       "8           132  https://open.spotify.com/album/56gbykNskCFungP...  \n",
       "9             7  https://open.spotify.com/album/5ZHCqltda5ywYkH...  \n",
       "10           12  https://open.spotify.com/album/73j2N2158tWcLXv...  \n",
       "11          209  https://open.spotify.com/album/53VKICyqCf91sVk...  \n",
       "12          117  https://open.spotify.com/album/0PIidVsFr9Oji1Y...  \n",
       "13          117  https://open.spotify.com/album/0PIidVsFr9Oji1Y...  \n",
       "14           30  https://open.spotify.com/album/0NOMegBVWAB9jnm...  "
      ],
      "text/html": "<div>\n<style scoped>\n    .dataframe tbody tr th:only-of-type {\n        vertical-align: middle;\n    }\n\n    .dataframe tbody tr th {\n        vertical-align: top;\n    }\n\n    .dataframe thead th {\n        text-align: right;\n    }\n</style>\n<table border=\"1\" class=\"dataframe\">\n  <thead>\n    <tr style=\"text-align: right;\">\n      <th></th>\n      <th>position</th>\n      <th>title</th>\n      <th>artist</th>\n      <th>release_date</th>\n      <th>genres</th>\n      <th>secondarygenres</th>\n      <th>avg_rating</th>\n      <th>rating_count</th>\n      <th>review_count</th>\n      <th>spotify_link</th>\n    </tr>\n  </thead>\n  <tbody>\n    <tr>\n      <th>0</th>\n      <td>561</td>\n      <td>Twin Fantasy</td>\n      <td>Car Seat Headrest</td>\n      <td>16 February 2018</td>\n      <td>Indie Rock</td>\n      <td>Singer/Songwriter, Power Pop</td>\n      <td>3.85</td>\n      <td>15,384</td>\n      <td>200</td>\n      <td>https://open.spotify.com/album/20U1UWeGcGq7JVW...</td>\n    </tr>\n    <tr>\n      <th>1</th>\n      <td>562</td>\n      <td>A Crow Looked at Me</td>\n      <td>Mount Eerie</td>\n      <td>24 March 2017</td>\n      <td>Singer/Songwriter, Indie Folk, Contemporary Folk</td>\n      <td>Slowcore</td>\n      <td>3.86</td>\n      <td>12,565</td>\n      <td>190</td>\n      <td>https://open.spotify.com/album/5p64XgvFREt1P6m...</td>\n    </tr>\n    <tr>\n      <th>2</th>\n      <td>563</td>\n      <td>The Fragile</td>\n      <td>Nine Inch Nails</td>\n      <td>21 September 1999</td>\n      <td>Industrial Rock, Art Rock, Alternative Rock</td>\n      <td>Industrial Metal, Ambient</td>\n      <td>3.89</td>\n      <td>10,795</td>\n      <td>221</td>\n      <td>https://open.spotify.com/album/4uiVwLbTzE6VMkX...</td>\n    </tr>\n    <tr>\n      <th>3</th>\n      <td>564</td>\n      <td>Scott 4</td>\n      <td>Scott Engel</td>\n      <td>November 1969</td>\n      <td>Baroque Pop, Singer/Songwriter</td>\n      <td></td>\n      <td>3.91</td>\n      <td>7,506</td>\n      <td>134</td>\n      <td>https://open.spotify.com/album/7uU2qrFZQSdQaci...</td>\n    </tr>\n    <tr>\n      <th>4</th>\n      <td>565</td>\n      <td>Elvis: TV Special</td>\n      <td>Elvis Presley</td>\n      <td>December 1968 Live</td>\n      <td>Rock &amp; Roll, Pop Rock</td>\n      <td>Blue-Eyed Soul, Gospel, Rockabilly, Rhythm &amp; B...</td>\n      <td>3.98</td>\n      <td>595</td>\n      <td>28</td>\n      <td>https://open.spotify.com/album/4OaxrDxZe97lotU...</td>\n    </tr>\n    <tr>\n      <th>5</th>\n      <td>566</td>\n      <td>Deep Purple in Concert</td>\n      <td>Deep Purple</td>\n      <td>December 1980 Live</td>\n      <td>Hard Rock</td>\n      <td>Progressive Rock</td>\n      <td>3.99</td>\n      <td>548</td>\n      <td>23</td>\n      <td>https://open.spotify.com/album/63KHr72RpRS3k0A...</td>\n    </tr>\n    <tr>\n      <th>6</th>\n      <td>567</td>\n      <td>Ella in Berlin: Mack the Knife</td>\n      <td>Ella Fitzgerald</td>\n      <td>1960 Live</td>\n      <td>Vocal Jazz, Standards</td>\n      <td>Swing</td>\n      <td>3.98</td>\n      <td>487</td>\n      <td>19</td>\n      <td>https://open.spotify.com/album/1wQ8jRyqbHquuUB...</td>\n    </tr>\n    <tr>\n      <th>7</th>\n      <td>568</td>\n      <td>Live in Hamburg</td>\n      <td>Esbjörn Svensson Trio</td>\n      <td>23 November 2007 Live</td>\n      <td>ECM Style Jazz, Avant-Garde Jazz</td>\n      <td>Post-Bop, Jazz Fusion</td>\n      <td>4.00</td>\n      <td>281</td>\n      <td>10</td>\n      <td>https://open.spotify.com/album/3PU1b3aDrbMKucR...</td>\n    </tr>\n    <tr>\n      <th>8</th>\n      <td>569</td>\n      <td>Individual Thought Patterns</td>\n      <td>Death</td>\n      <td>30 June 1993</td>\n      <td>Technical Death Metal</td>\n      <td>Progressive Metal</td>\n      <td>3.90</td>\n      <td>7,825</td>\n      <td>132</td>\n      <td>https://open.spotify.com/album/56gbykNskCFungP...</td>\n    </tr>\n    <tr>\n      <th>9</th>\n      <td>570</td>\n      <td>Matthäus-Passion</td>\n      <td>Collegium Vocale Gent</td>\n      <td>16 November 1999</td>\n      <td>Baroque Music, Oratorio, Christian Liturgical ...</td>\n      <td>Choral</td>\n      <td>3.96</td>\n      <td>741</td>\n      <td>7</td>\n      <td>https://open.spotify.com/album/5ZHCqltda5ywYkH...</td>\n    </tr>\n    <tr>\n      <th>10</th>\n      <td>571</td>\n      <td>Live... With a Little Help From Our Friends</td>\n      <td>Gov't Mule</td>\n      <td>23 March 1999 Live</td>\n      <td>Jam Band, Blues Rock, Southern Rock</td>\n      <td>Hard Rock</td>\n      <td>3.97</td>\n      <td>313</td>\n      <td>12</td>\n      <td>https://open.spotify.com/album/73j2N2158tWcLXv...</td>\n    </tr>\n    <tr>\n      <th>11</th>\n      <td>572</td>\n      <td>Titanic Rising</td>\n      <td>Weyes Blood</td>\n      <td>5 April 2019</td>\n      <td>Baroque Pop, Art Pop</td>\n      <td>Progressive Pop, Dream Pop, Psychedelic Pop</td>\n      <td>3.86</td>\n      <td>16,690</td>\n      <td>209</td>\n      <td>https://open.spotify.com/album/53VKICyqCf91sVk...</td>\n    </tr>\n    <tr>\n      <th>12</th>\n      <td>573</td>\n      <td>Anthems to the Welkin at Dusk</td>\n      <td>Emperor</td>\n      <td>8 July 1997</td>\n      <td>Symphonic Black Metal</td>\n      <td></td>\n      <td>3.92</td>\n      <td>6,271</td>\n      <td>117</td>\n      <td>https://open.spotify.com/album/0PIidVsFr9Oji1Y...</td>\n    </tr>\n    <tr>\n      <th>13</th>\n      <td>573</td>\n      <td>Anthems to the Welkin at Dusk</td>\n      <td>Emperor</td>\n      <td>8 July 1997</td>\n      <td>Symphonic Black Metal</td>\n      <td></td>\n      <td>3.92</td>\n      <td>6,271</td>\n      <td>117</td>\n      <td>https://open.spotify.com/album/0PIidVsFr9Oji1Y...</td>\n    </tr>\n    <tr>\n      <th>14</th>\n      <td>575</td>\n      <td>Roforofo Fight</td>\n      <td>Fela Kuti</td>\n      <td>1972</td>\n      <td>Afrobeat</td>\n      <td></td>\n      <td>3.96</td>\n      <td>2,792</td>\n      <td>30</td>\n      <td>https://open.spotify.com/album/0NOMegBVWAB9jnm...</td>\n    </tr>\n  </tbody>\n</table>\n</div>"
     },
     "metadata": {},
     "execution_count": 59
    }
   ],
   "source": [
    "top_albums.head(15)"
   ]
  },
  {
   "cell_type": "code",
   "execution_count": null,
   "metadata": {},
   "outputs": [],
   "source": []
  },
  {
   "cell_type": "code",
   "execution_count": null,
   "metadata": {},
   "outputs": [],
   "source": []
  }
 ],
 "metadata": {
  "kernelspec": {
   "name": "python3",
   "display_name": "Python 3",
   "language": "python"
  },
  "language_info": {
   "codemirror_mode": {
    "name": "ipython",
    "version": 3
   },
   "file_extension": ".py",
   "mimetype": "text/x-python",
   "name": "python",
   "nbconvert_exporter": "python",
   "pygments_lexer": "ipython3",
   "version": "3.6.10-final"
  },
  "varInspector": {
   "cols": {
    "lenName": 16,
    "lenType": 16,
    "lenVar": 40
   },
   "kernels_config": {
    "python": {
     "delete_cmd_postfix": "",
     "delete_cmd_prefix": "del ",
     "library": "var_list.py",
     "varRefreshCmd": "print(var_dic_list())"
    },
    "r": {
     "delete_cmd_postfix": ") ",
     "delete_cmd_prefix": "rm(",
     "library": "var_list.r",
     "varRefreshCmd": "cat(var_dic_list()) "
    }
   },
   "types_to_exclude": [
    "module",
    "function",
    "builtin_function_or_method",
    "instance",
    "_Feature"
   ],
   "window_display": false
  }
 },
 "nbformat": 4,
 "nbformat_minor": 2
}