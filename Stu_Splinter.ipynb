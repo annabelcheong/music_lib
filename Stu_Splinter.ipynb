{
 "cells": [
  {
   "source": [
    "## Web Scraping\n",
    "*** Go to \"Rate Your Music\" website and retrieve a chart of the top albums of all time ***"
   ],
   "cell_type": "markdown",
   "metadata": {}
  },
  {
   "cell_type": "code",
   "execution_count": 14,
   "metadata": {},
   "outputs": [],
   "source": [
    "from splinter import Browser\n",
    "from bs4 import BeautifulSoup\n",
    "import time\n",
    "import pandas as pd\n"
   ]
  },
  {
   "cell_type": "code",
   "execution_count": 2,
   "metadata": {},
   "outputs": [
    {
     "output_type": "stream",
     "name": "stderr",
     "text": [
      "[WDM] - ====== WebDriver manager ======\n",
      "[WDM] - Current google-chrome version is 88.0.4324\n",
      "[WDM] - Get LATEST driver version for 88.0.4324\n",
      "\n",
      "\n",
      "[WDM] - Get LATEST driver version for 88.0.4324\n",
      "[WDM] - Trying to download new driver from https://chromedriver.storage.googleapis.com/88.0.4324.96/chromedriver_win32.zip\n",
      "[WDM] - Driver has been saved in cache [C:\\Users\\bentl\\.wdm\\drivers\\chromedriver\\win32\\88.0.4324.96]\n"
     ]
    }
   ],
   "source": [
    "from webdriver_manager.chrome import ChromeDriverManager\n",
    "executable_path = {'executable_path': ChromeDriverManager().install()}\n",
    "browser = Browser('chrome', **executable_path, headless=True)"
   ]
  },
  {
   "cell_type": "code",
   "execution_count": 3,
   "metadata": {},
   "outputs": [],
   "source": [
    "url = 'https://rateyourmusic.com/charts/top/album/all-time/'\n",
    "browser.visit(url)"
   ]
  },
  {
   "cell_type": "code",
   "execution_count": 35,
   "metadata": {
    "tags": []
   },
   "outputs": [
    {
     "output_type": "stream",
     "name": "stdout",
     "text": [
      "no record\nno record\nno record\nno record\nno record\nno record\nno record\nno record\nno record\nno record\n"
     ]
    }
   ],
   "source": [
    "# Iterate through all pages\n",
    "for x in range(1):\n",
    "    # HTML object\n",
    "    html = browser.html\n",
    "    # Parse HTML with Beautiful Soup\n",
    "    soup = BeautifulSoup(html, 'html.parser')\n",
    "    # Retrieve all elements that contain album information\n",
    "    albums = soup.find_all('div', class_='topcharts_itembox chart_item_release')\n",
    "\n",
    "    album_list = []\n",
    "    # Iterate through each album\n",
    "    for album in albums:\n",
    "        # Use Beautiful Soup's find() method to navigate and retrieve album attributes\n",
    "        try:\n",
    "            album_dict = {\n",
    "                \"position\" : album.find('div', class_='topcharts_position').text,\n",
    "                \"title\" : album.find('a', class_='release').text,\n",
    "                \"artist\" : album.find('a', class_='artist').text,\n",
    "                \"release_date\" : album.find('div', class_='topcharts_item_releasedate').text.strip(),\n",
    "                \"genres\" : album.find('div', class_='topcharts_item_genres_container').text.strip(),\n",
    "                \"secondarygenres\" : album.find('div', class_='topcharts_item_secondarygenres_container').text.strip(),\n",
    "                \"avg_rating\" : album.find('span', class_='topcharts_stat topcharts_avg_rating_stat').text,\n",
    "                \"rating_count\" : album.find('span', class_='topcharts_stat topcharts_ratings_stat').text,\n",
    "                \"review_count\" : album.find('span', class_='topcharts_stat topcharts_reviews_stat').text,\n",
    "                \"spotify_link\" : album.find('a', class_='ui_media_link_btn ui_media_link_btn_spotify').attrs.get(\"href\") }\n",
    "                # print('-----------')\n",
    "                # print(position)\n",
    "                # print(title)\n",
    "                # print(artist)\n",
    "                # print(release_date)\n",
    "                # print(genres)\n",
    "                # print(secondarygenres)\n",
    "                # print(avg_rating)\n",
    "                # print(rating_count)\n",
    "                # print(review_count)\n",
    "                # print(spotify_link)\n",
    "        except AttributeError:\n",
    "            print('no record')\n",
    "        \n",
    "        album_list.append(album_dict)\n",
    "\n",
    "    # Click the 'Next' button on each page\n",
    "    try:\n",
    "        browser.click_link_by_partial_text('Next')\n",
    "          \n",
    "    except:\n",
    "        print(\"Scraping Complete\")\n",
    "\n",
    "    time.sleep(1)\n",
    "\n",
    "top_albums = pd.DataFrame(album_list)\n"
   ]
  },
  {
   "cell_type": "code",
   "execution_count": 37,
   "metadata": {},
   "outputs": [
    {
     "output_type": "execute_result",
     "data": {
      "text/plain": [
       "  position                       title                       artist  \\\n",
       "0     441.                    Time Out     The Dave Brubeck Quartet   \n",
       "1     441.                    Time Out     The Dave Brubeck Quartet   \n",
       "2     443.  Double Nickels on the Dime                    Minutemen   \n",
       "3     444.                      Rising                      Rainbow   \n",
       "4     445.                BBC Sessions  The Jimi Hendrix Experience   \n",
       "5     445.                BBC Sessions  The Jimi Hendrix Experience   \n",
       "6     447.   Quartet (Santa Cruz) 1993              Anthony Braxton   \n",
       "7     448.           The Soft Bulletin             The Flaming Lips   \n",
       "8     449.                      Murmur                       R.E.M.   \n",
       "9     450.                         Aja                   Steely Dan   \n",
       "\n",
       "                                        release_date  \\\n",
       "0                                   14 December 1959   \n",
       "1                                   14 December 1959   \n",
       "2                                       October 1984   \n",
       "3                                        17 May 1976   \n",
       "4  2 June 1998 \\n                  \\n            ...   \n",
       "5  2 June 1998 \\n                  \\n            ...   \n",
       "6              1997\\n                           Live   \n",
       "7                                       22 June 1999   \n",
       "8                                      12 April 1983   \n",
       "9                                  23 September 1977   \n",
       "\n",
       "                                              genres  \\\n",
       "0                                          Cool Jazz   \n",
       "1                                          Cool Jazz   \n",
       "2  Post-Punk, \\nArt Punk, \\nPost-Hardcore, \\nPunk...   \n",
       "3                           Hard Rock, \\nHeavy Metal   \n",
       "4                     Blues Rock, \\nPsychedelic Rock   \n",
       "5                     Blues Rock, \\nPsychedelic Rock   \n",
       "6                    Free Jazz, \\nFree Improvisation   \n",
       "7                 Neo-Psychedelia, \\nPsychedelic Pop   \n",
       "8                     Jangle Pop, \\nAlternative Rock   \n",
       "9                              Jazz-Rock, \\nPop Rock   \n",
       "\n",
       "                                    secondarygenres avg_rating rating_count  \\\n",
       "0                                                         3.95        9,057   \n",
       "1                                                         3.95        9,057   \n",
       "2                        Funk Rock, \\nPost-Hardcore       3.92       10,377   \n",
       "3                                  Progressive Rock       3.93        7,444   \n",
       "4               Hard Rock, \\nAcid Rock, \\nInterview       4.02          868   \n",
       "5               Hard Rock, \\nAcid Rock, \\nInterview       4.02          868   \n",
       "6       Conducted Improvisation, \\nModern Classical       4.01          294   \n",
       "7         Art Pop, \\nProgressive Pop, \\nChamber Pop       3.88       17,806   \n",
       "8                                         Post-Punk       3.90       13,528   \n",
       "9  Funk Rock, \\nSoft Rock, \\nYacht Rock, \\nJazz Pop       3.92        9,220   \n",
       "\n",
       "  review_count                                       spotify_link  \n",
       "0          169  https://open.spotify.com/album/0nTTEAhCZsbbepl...  \n",
       "1          169  https://open.spotify.com/album/0nTTEAhCZsbbepl...  \n",
       "2          230  https://open.spotify.com/album/5viZ5HyYtV0wafK...  \n",
       "3          206  https://open.spotify.com/album/0fVPz60pAqX2bZk...  \n",
       "4           28  https://open.spotify.com/album/3DnRgUY7EP00ckl...  \n",
       "5           28  https://open.spotify.com/album/3DnRgUY7EP00ckl...  \n",
       "6            5  https://open.spotify.com/album/3ls6x8ddPzTdFS6...  \n",
       "7          368  https://open.spotify.com/album/1mJFgPeuLhU1PzL...  \n",
       "8          291  https://open.spotify.com/album/33XZTGUv8p3Cl3K...  \n",
       "9          229  https://open.spotify.com/album/51XjnQQ9SR8VSEp...  "
      ],
      "text/html": "<div>\n<style scoped>\n    .dataframe tbody tr th:only-of-type {\n        vertical-align: middle;\n    }\n\n    .dataframe tbody tr th {\n        vertical-align: top;\n    }\n\n    .dataframe thead th {\n        text-align: right;\n    }\n</style>\n<table border=\"1\" class=\"dataframe\">\n  <thead>\n    <tr style=\"text-align: right;\">\n      <th></th>\n      <th>position</th>\n      <th>title</th>\n      <th>artist</th>\n      <th>release_date</th>\n      <th>genres</th>\n      <th>secondarygenres</th>\n      <th>avg_rating</th>\n      <th>rating_count</th>\n      <th>review_count</th>\n      <th>spotify_link</th>\n    </tr>\n  </thead>\n  <tbody>\n    <tr>\n      <th>0</th>\n      <td>441.</td>\n      <td>Time Out</td>\n      <td>The Dave Brubeck Quartet</td>\n      <td>14 December 1959</td>\n      <td>Cool Jazz</td>\n      <td></td>\n      <td>3.95</td>\n      <td>9,057</td>\n      <td>169</td>\n      <td>https://open.spotify.com/album/0nTTEAhCZsbbepl...</td>\n    </tr>\n    <tr>\n      <th>1</th>\n      <td>441.</td>\n      <td>Time Out</td>\n      <td>The Dave Brubeck Quartet</td>\n      <td>14 December 1959</td>\n      <td>Cool Jazz</td>\n      <td></td>\n      <td>3.95</td>\n      <td>9,057</td>\n      <td>169</td>\n      <td>https://open.spotify.com/album/0nTTEAhCZsbbepl...</td>\n    </tr>\n    <tr>\n      <th>2</th>\n      <td>443.</td>\n      <td>Double Nickels on the Dime</td>\n      <td>Minutemen</td>\n      <td>October 1984</td>\n      <td>Post-Punk, \\nArt Punk, \\nPost-Hardcore, \\nPunk...</td>\n      <td>Funk Rock, \\nPost-Hardcore</td>\n      <td>3.92</td>\n      <td>10,377</td>\n      <td>230</td>\n      <td>https://open.spotify.com/album/5viZ5HyYtV0wafK...</td>\n    </tr>\n    <tr>\n      <th>3</th>\n      <td>444.</td>\n      <td>Rising</td>\n      <td>Rainbow</td>\n      <td>17 May 1976</td>\n      <td>Hard Rock, \\nHeavy Metal</td>\n      <td>Progressive Rock</td>\n      <td>3.93</td>\n      <td>7,444</td>\n      <td>206</td>\n      <td>https://open.spotify.com/album/0fVPz60pAqX2bZk...</td>\n    </tr>\n    <tr>\n      <th>4</th>\n      <td>445.</td>\n      <td>BBC Sessions</td>\n      <td>The Jimi Hendrix Experience</td>\n      <td>2 June 1998 \\n                  \\n            ...</td>\n      <td>Blues Rock, \\nPsychedelic Rock</td>\n      <td>Hard Rock, \\nAcid Rock, \\nInterview</td>\n      <td>4.02</td>\n      <td>868</td>\n      <td>28</td>\n      <td>https://open.spotify.com/album/3DnRgUY7EP00ckl...</td>\n    </tr>\n    <tr>\n      <th>5</th>\n      <td>445.</td>\n      <td>BBC Sessions</td>\n      <td>The Jimi Hendrix Experience</td>\n      <td>2 June 1998 \\n                  \\n            ...</td>\n      <td>Blues Rock, \\nPsychedelic Rock</td>\n      <td>Hard Rock, \\nAcid Rock, \\nInterview</td>\n      <td>4.02</td>\n      <td>868</td>\n      <td>28</td>\n      <td>https://open.spotify.com/album/3DnRgUY7EP00ckl...</td>\n    </tr>\n    <tr>\n      <th>6</th>\n      <td>447.</td>\n      <td>Quartet (Santa Cruz) 1993</td>\n      <td>Anthony Braxton</td>\n      <td>1997\\n                           Live</td>\n      <td>Free Jazz, \\nFree Improvisation</td>\n      <td>Conducted Improvisation, \\nModern Classical</td>\n      <td>4.01</td>\n      <td>294</td>\n      <td>5</td>\n      <td>https://open.spotify.com/album/3ls6x8ddPzTdFS6...</td>\n    </tr>\n    <tr>\n      <th>7</th>\n      <td>448.</td>\n      <td>The Soft Bulletin</td>\n      <td>The Flaming Lips</td>\n      <td>22 June 1999</td>\n      <td>Neo-Psychedelia, \\nPsychedelic Pop</td>\n      <td>Art Pop, \\nProgressive Pop, \\nChamber Pop</td>\n      <td>3.88</td>\n      <td>17,806</td>\n      <td>368</td>\n      <td>https://open.spotify.com/album/1mJFgPeuLhU1PzL...</td>\n    </tr>\n    <tr>\n      <th>8</th>\n      <td>449.</td>\n      <td>Murmur</td>\n      <td>R.E.M.</td>\n      <td>12 April 1983</td>\n      <td>Jangle Pop, \\nAlternative Rock</td>\n      <td>Post-Punk</td>\n      <td>3.90</td>\n      <td>13,528</td>\n      <td>291</td>\n      <td>https://open.spotify.com/album/33XZTGUv8p3Cl3K...</td>\n    </tr>\n    <tr>\n      <th>9</th>\n      <td>450.</td>\n      <td>Aja</td>\n      <td>Steely Dan</td>\n      <td>23 September 1977</td>\n      <td>Jazz-Rock, \\nPop Rock</td>\n      <td>Funk Rock, \\nSoft Rock, \\nYacht Rock, \\nJazz Pop</td>\n      <td>3.92</td>\n      <td>9,220</td>\n      <td>229</td>\n      <td>https://open.spotify.com/album/51XjnQQ9SR8VSEp...</td>\n    </tr>\n  </tbody>\n</table>\n</div>"
     },
     "metadata": {},
     "execution_count": 37
    }
   ],
   "source": [
    "top_albums.head(10)"
   ]
  },
  {
   "cell_type": "code",
   "execution_count": null,
   "metadata": {},
   "outputs": [],
   "source": []
  }
 ],
 "metadata": {
  "kernelspec": {
   "name": "python3",
   "display_name": "Python 3",
   "language": "python"
  },
  "language_info": {
   "codemirror_mode": {
    "name": "ipython",
    "version": 3
   },
   "file_extension": ".py",
   "mimetype": "text/x-python",
   "name": "python",
   "nbconvert_exporter": "python",
   "pygments_lexer": "ipython3",
   "version": "3.6.10-final"
  },
  "varInspector": {
   "cols": {
    "lenName": 16,
    "lenType": 16,
    "lenVar": 40
   },
   "kernels_config": {
    "python": {
     "delete_cmd_postfix": "",
     "delete_cmd_prefix": "del ",
     "library": "var_list.py",
     "varRefreshCmd": "print(var_dic_list())"
    },
    "r": {
     "delete_cmd_postfix": ") ",
     "delete_cmd_prefix": "rm(",
     "library": "var_list.r",
     "varRefreshCmd": "cat(var_dic_list()) "
    }
   },
   "types_to_exclude": [
    "module",
    "function",
    "builtin_function_or_method",
    "instance",
    "_Feature"
   ],
   "window_display": false
  }
 },
 "nbformat": 4,
 "nbformat_minor": 2
}