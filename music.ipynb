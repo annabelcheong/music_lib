{
 "metadata": {
  "language_info": {
   "codemirror_mode": {
    "name": "ipython",
    "version": 3
   },
   "file_extension": ".py",
   "mimetype": "text/x-python",
   "name": "python",
   "nbconvert_exporter": "python",
   "pygments_lexer": "ipython3",
   "version": "3.6.10-final"
  },
  "orig_nbformat": 2,
  "kernelspec": {
   "name": "python3",
   "display_name": "Python 3.6.10 64-bit ('PythonData': conda)",
   "metadata": {
    "interpreter": {
     "hash": "e7fc2354c13015bdfad1755b4a48a3eeb5cb703f1c2bff07599d6953b8d3ca77"
    }
   }
  }
 },
 "nbformat": 4,
 "nbformat_minor": 2,
 "cells": [
  {
   "source": [
    "- Spotify CSV File: data.csv\n",
    "- Spotify API: https://developer.spotify.com/documentation/web-api/reference/#endpoint-get-audio-features\n",
    "* .gitignore file contains config.py file to store the spotify API client username and password. "
   ],
   "cell_type": "markdown",
   "metadata": {}
  },
  {
   "cell_type": "code",
   "execution_count": 1,
   "metadata": {},
   "outputs": [],
   "source": [
    "#Dependencies\n",
    "import pandas as pd\n",
    "from sqlalchemy import create_engine"
   ]
  },
  {
   "source": [
    "SPOTIFY CSV FILE - Extract and Transform"
   ],
   "cell_type": "markdown",
   "metadata": {}
  },
  {
   "source": [
    "\n",
    "\n",
    "Extract CSV into DataFrames"
   ],
   "cell_type": "markdown",
   "metadata": {}
  },
  {
   "cell_type": "code",
   "execution_count": 2,
   "metadata": {},
   "outputs": [],
   "source": [
    "spotify_csv = \"resources/data.csv\""
   ]
  },
  {
   "source": [
    "Transform CSV DataFrame"
   ],
   "cell_type": "markdown",
   "metadata": {}
  },
  {
   "cell_type": "code",
   "execution_count": 23,
   "metadata": {},
   "outputs": [
    {
     "output_type": "execute_result",
     "data": {
      "text/plain": [
       "   acousticness                    artists  danceability  duration_ms  energy  \\\n",
       "0      0.991000            ['Mamie Smith']         0.598       168333   0.224   \n",
       "1      0.643000  [\"Screamin' Jay Hawkins\"]         0.852       150200   0.517   \n",
       "2      0.993000            ['Mamie Smith']         0.647       163827   0.186   \n",
       "3      0.000173        ['Oscar Velazquez']         0.730       422087   0.798   \n",
       "4      0.295000                   ['Mixe']         0.704       165224   0.707   \n",
       "\n",
       "   explicit                      id  instrumentalness  key  liveness  \\\n",
       "0         0  0cS0A1fUEUd1EW3FcF8AEI          0.000522    5    0.3790   \n",
       "1         0  0hbkKFIJm7Z05H8Zl9w30f          0.026400    5    0.0809   \n",
       "2         0  11m7laMUgmOKqI3oYzuhne          0.000018    0    0.5190   \n",
       "3         0  19Lc5SfJJ5O1oaxY0fpwfh          0.801000    2    0.1280   \n",
       "4         1  2hJjbsLCytGsnAHfdsLejp          0.000246   10    0.4020   \n",
       "\n",
       "   loudness  mode                                               name  \\\n",
       "0   -12.628     0                           Keep A Song In Your Soul   \n",
       "1    -7.261     0                               I Put A Spell On You   \n",
       "2   -12.098     1                                       Golfing Papa   \n",
       "3    -7.311     1  True House Music - Xavier Santos & Carlos Gomi...   \n",
       "4    -6.036     0                                          Xuniverxe   \n",
       "\n",
       "   popularity release_date  speechiness    tempo  valence  year  \n",
       "0          12         1920       0.0936  149.976   0.6340  1920  \n",
       "1           7   1920-01-05       0.0534   86.889   0.9500  1920  \n",
       "2           4         1920       0.1740   97.600   0.6890  1920  \n",
       "3          17   1920-01-01       0.0425  127.997   0.0422  1920  \n",
       "4           2   1920-10-01       0.0768  122.076   0.2990  1920  "
      ],
      "text/html": "<div>\n<style scoped>\n    .dataframe tbody tr th:only-of-type {\n        vertical-align: middle;\n    }\n\n    .dataframe tbody tr th {\n        vertical-align: top;\n    }\n\n    .dataframe thead th {\n        text-align: right;\n    }\n</style>\n<table border=\"1\" class=\"dataframe\">\n  <thead>\n    <tr style=\"text-align: right;\">\n      <th></th>\n      <th>acousticness</th>\n      <th>artists</th>\n      <th>danceability</th>\n      <th>duration_ms</th>\n      <th>energy</th>\n      <th>explicit</th>\n      <th>id</th>\n      <th>instrumentalness</th>\n      <th>key</th>\n      <th>liveness</th>\n      <th>loudness</th>\n      <th>mode</th>\n      <th>name</th>\n      <th>popularity</th>\n      <th>release_date</th>\n      <th>speechiness</th>\n      <th>tempo</th>\n      <th>valence</th>\n      <th>year</th>\n    </tr>\n  </thead>\n  <tbody>\n    <tr>\n      <th>0</th>\n      <td>0.991000</td>\n      <td>['Mamie Smith']</td>\n      <td>0.598</td>\n      <td>168333</td>\n      <td>0.224</td>\n      <td>0</td>\n      <td>0cS0A1fUEUd1EW3FcF8AEI</td>\n      <td>0.000522</td>\n      <td>5</td>\n      <td>0.3790</td>\n      <td>-12.628</td>\n      <td>0</td>\n      <td>Keep A Song In Your Soul</td>\n      <td>12</td>\n      <td>1920</td>\n      <td>0.0936</td>\n      <td>149.976</td>\n      <td>0.6340</td>\n      <td>1920</td>\n    </tr>\n    <tr>\n      <th>1</th>\n      <td>0.643000</td>\n      <td>[\"Screamin' Jay Hawkins\"]</td>\n      <td>0.852</td>\n      <td>150200</td>\n      <td>0.517</td>\n      <td>0</td>\n      <td>0hbkKFIJm7Z05H8Zl9w30f</td>\n      <td>0.026400</td>\n      <td>5</td>\n      <td>0.0809</td>\n      <td>-7.261</td>\n      <td>0</td>\n      <td>I Put A Spell On You</td>\n      <td>7</td>\n      <td>1920-01-05</td>\n      <td>0.0534</td>\n      <td>86.889</td>\n      <td>0.9500</td>\n      <td>1920</td>\n    </tr>\n    <tr>\n      <th>2</th>\n      <td>0.993000</td>\n      <td>['Mamie Smith']</td>\n      <td>0.647</td>\n      <td>163827</td>\n      <td>0.186</td>\n      <td>0</td>\n      <td>11m7laMUgmOKqI3oYzuhne</td>\n      <td>0.000018</td>\n      <td>0</td>\n      <td>0.5190</td>\n      <td>-12.098</td>\n      <td>1</td>\n      <td>Golfing Papa</td>\n      <td>4</td>\n      <td>1920</td>\n      <td>0.1740</td>\n      <td>97.600</td>\n      <td>0.6890</td>\n      <td>1920</td>\n    </tr>\n    <tr>\n      <th>3</th>\n      <td>0.000173</td>\n      <td>['Oscar Velazquez']</td>\n      <td>0.730</td>\n      <td>422087</td>\n      <td>0.798</td>\n      <td>0</td>\n      <td>19Lc5SfJJ5O1oaxY0fpwfh</td>\n      <td>0.801000</td>\n      <td>2</td>\n      <td>0.1280</td>\n      <td>-7.311</td>\n      <td>1</td>\n      <td>True House Music - Xavier Santos &amp; Carlos Gomi...</td>\n      <td>17</td>\n      <td>1920-01-01</td>\n      <td>0.0425</td>\n      <td>127.997</td>\n      <td>0.0422</td>\n      <td>1920</td>\n    </tr>\n    <tr>\n      <th>4</th>\n      <td>0.295000</td>\n      <td>['Mixe']</td>\n      <td>0.704</td>\n      <td>165224</td>\n      <td>0.707</td>\n      <td>1</td>\n      <td>2hJjbsLCytGsnAHfdsLejp</td>\n      <td>0.000246</td>\n      <td>10</td>\n      <td>0.4020</td>\n      <td>-6.036</td>\n      <td>0</td>\n      <td>Xuniverxe</td>\n      <td>2</td>\n      <td>1920-10-01</td>\n      <td>0.0768</td>\n      <td>122.076</td>\n      <td>0.2990</td>\n      <td>1920</td>\n    </tr>\n  </tbody>\n</table>\n</div>"
     },
     "metadata": {},
     "execution_count": 23
    }
   ],
   "source": [
    "csv_df = pd.read_csv(spotify_csv)\n",
    "csv_df.head()\n",
    "# Keep columns: id, name, artist, key, tempo, year, popularity"
   ]
  },
  {
   "cell_type": "code",
   "execution_count": 24,
   "metadata": {},
   "outputs": [],
   "source": [
    "# Select only the columns required\n",
    "new_csv_df = csv_df[['id','name', 'artists','key','tempo','year','popularity']].copy()\n",
    "new_csv_df.head()\n",
    "\n",
    "# Drop ids with duplicates to ensure no double up\n",
    "new_csv_df = new_csv_df.drop_duplicates(subset=['id'])\n",
    "\n",
    "# TEST: new_csv_df.info()\n",
    "# There are 174389 row entries before drop duplicates\n",
    "# There are 172230 row entries after drop duplicates\n",
    "\n",
    "# Rename columns\n",
    "new_csv_df=new_csv_df.rename(columns={'name':'title', 'artists': 'artist'})\n",
    "new_csv_df\n",
    "\n",
    "# Save transformed dataframe to a csv file.\n",
    "new_csv_df.to_csv('resources/new_csv.csv', index=False)\n"
   ]
  },
  {
   "source": [
    "SPOTIFY API\n",
    "\n",
    "- Objective: To extract the time signature of all tracks on spotify"
   ],
   "cell_type": "markdown",
   "metadata": {}
  },
  {
   "cell_type": "code",
   "execution_count": 5,
   "metadata": {},
   "outputs": [],
   "source": [
    "#Dependences\n",
    "import spotipy\n",
    "from spotipy.oauth2 import SpotifyClientCredentials\n",
    "from config import *\n",
    "import requests\n",
    "# from config import cid\n",
    "# from config import secret"
   ]
  },
  {
   "cell_type": "code",
   "execution_count": 6,
   "metadata": {},
   "outputs": [],
   "source": [
    "CLIENT_ID = cid\n",
    "CLIENT_SECRET = secret\n",
    "\n",
    "AUTH_URL = 'https://accounts.spotify.com/api/token'\n",
    "\n",
    "# POST\n",
    "auth_response = requests.post(AUTH_URL, {\n",
    "    'grant_type': 'client_credentials',\n",
    "    'client_id': CLIENT_ID,\n",
    "    'client_secret': CLIENT_SECRET,\n",
    "})\n",
    "\n",
    "# convert the response to JSON\n",
    "auth_response_data = auth_response.json()\n",
    "\n",
    "# save the access token\n",
    "access_token = auth_response_data['access_token']\n",
    "\n",
    "headers = {\n",
    "    'Authorization': 'Bearer {token}'.format(token=access_token)\n",
    "}"
   ]
  },
  {
   "cell_type": "code",
   "execution_count": 7,
   "metadata": {},
   "outputs": [
    {
     "output_type": "stream",
     "name": "stdout",
     "text": [
      "Completed populating id_list.\n"
     ]
    }
   ],
   "source": [
    "id_list= []\n",
    "for index, row in csv_df.iterrows():\n",
    "    id_list.append(row['id'])\n",
    "    # print(row['id'])\n",
    "    # print(id_list)\n",
    "print('Completed populating id_list.')"
   ]
  },
  {
   "cell_type": "code",
   "execution_count": 9,
   "metadata": {
    "tags": []
   },
   "outputs": [
    {
     "output_type": "stream",
     "name": "stdout",
     "text": [
      "Achieved 5000 entries\n"
     ]
    },
    {
     "output_type": "error",
     "ename": "KeyError",
     "evalue": "'id'",
     "traceback": [
      "\u001b[0;31m---------------------------------------------------------------------------\u001b[0m",
      "\u001b[0;31mKeyError\u001b[0m                                  Traceback (most recent call last)",
      "\u001b[0;32m<ipython-input-9-1cb2c58b1914>\u001b[0m in \u001b[0;36m<module>\u001b[0;34m\u001b[0m\n\u001b[1;32m     16\u001b[0m \u001b[0;34m\u001b[0m\u001b[0m\n\u001b[1;32m     17\u001b[0m     \u001b[0;32mtry\u001b[0m\u001b[0;34m:\u001b[0m\u001b[0;34m\u001b[0m\u001b[0;34m\u001b[0m\u001b[0m\n\u001b[0;32m---> 18\u001b[0;31m         \u001b[0mnew_song\u001b[0m \u001b[0;34m=\u001b[0m \u001b[0mr\u001b[0m\u001b[0;34m[\u001b[0m\u001b[0;34m'id'\u001b[0m\u001b[0;34m]\u001b[0m\u001b[0;34m,\u001b[0m\u001b[0mr\u001b[0m\u001b[0;34m[\u001b[0m\u001b[0;34m'time_signature'\u001b[0m\u001b[0;34m]\u001b[0m\u001b[0;34m\u001b[0m\u001b[0;34m\u001b[0m\u001b[0m\n\u001b[0m\u001b[1;32m     19\u001b[0m         \u001b[0mid_timesig\u001b[0m\u001b[0;34m.\u001b[0m\u001b[0mappend\u001b[0m\u001b[0;34m(\u001b[0m\u001b[0mnew_song\u001b[0m\u001b[0;34m)\u001b[0m\u001b[0;34m\u001b[0m\u001b[0;34m\u001b[0m\u001b[0m\n\u001b[1;32m     20\u001b[0m         \u001b[0mcount\u001b[0m\u001b[0;34m+=\u001b[0m\u001b[0;36m1\u001b[0m\u001b[0;34m\u001b[0m\u001b[0;34m\u001b[0m\u001b[0m\n",
      "\u001b[0;31mKeyError\u001b[0m: 'id'"
     ]
    }
   ],
   "source": [
    "id_timesig= []\n",
    "count=0\n",
    "\n",
    "# url = \"https://api.spotify.com/v1/audio-features/{id}\" \n",
    "BASE_URL = 'https://api.spotify.com/v1/'\n",
    "\n",
    "# for item in id_list[:5]:\n",
    "for item in id_list:\n",
    "    # Track ID from the URI\n",
    "    # track_id = '6y0igZArWVi6Iz0rj35c1Y'\n",
    "    track_id = item\n",
    "    # actual GET request with proper header\n",
    "    r = requests.get(BASE_URL + 'audio-features/' + track_id, headers=headers)\n",
    "    r = r.json()\n",
    "    # print(r)\n",
    "\n",
    "    try:\n",
    "        new_song = r['id'],r['time_signature']\n",
    "        id_timesig.append(new_song)\n",
    "        count+=1\n",
    "        # print(count)\n",
    "\n",
    "        # print(f\"id: {r['id']}\")\n",
    "        # print(f\"time_signature: {r['time_signature']}\")\n",
    "        # print('-------------------------')\n",
    "        if (count == 5000):\n",
    "            print('Achieved 5000 entries')\n",
    "        elif (count == 20000):\n",
    "            print('Achieved 20000 entries')\n",
    "        # elif (count == 50000):\n",
    "        #     print('Achieved 50000 entries')\n",
    "        # elif (count == 70000):\n",
    "        #     print('Achieved 70000 entries')\n",
    "        # elif (count == 100000):\n",
    "        #     print('Achieved 100000 entries')\n",
    "        # elif (count == 150000):\n",
    "        #     print('Achieved 150000 entries')\n",
    "\n",
    "    # except ValueError:\n",
    "    except ValueError or KeyError:\n",
    "        print(\"JSON Decode Error on id or time signature\")\n",
    "\n",
    "print(\"All ids and time signatures appended\")"
   ]
  },
  {
   "cell_type": "code",
   "execution_count": 10,
   "metadata": {},
   "outputs": [
    {
     "output_type": "execute_result",
     "data": {
      "text/plain": [
       "                           0  1\n",
       "0     0cS0A1fUEUd1EW3FcF8AEI  4\n",
       "1     0hbkKFIJm7Z05H8Zl9w30f  4\n",
       "2     11m7laMUgmOKqI3oYzuhne  4\n",
       "3     19Lc5SfJJ5O1oaxY0fpwfh  4\n",
       "4     2hJjbsLCytGsnAHfdsLejp  4\n",
       "...                      ... ..\n",
       "9472  3lN8PP6R2IxbLP05QpYXng  4\n",
       "9473  3Xls4cNOwy01dtrNXb1inG  4\n",
       "9474  2fDHuS1PTkHBbCWWZF1ph9  4\n",
       "9475  1kPBT8S2wJFNAyBMnGVZgL  3\n",
       "9476  4kP69y3GKHi9tXckfgp4bK  4\n",
       "\n",
       "[9477 rows x 2 columns]"
      ],
      "text/html": "<div>\n<style scoped>\n    .dataframe tbody tr th:only-of-type {\n        vertical-align: middle;\n    }\n\n    .dataframe tbody tr th {\n        vertical-align: top;\n    }\n\n    .dataframe thead th {\n        text-align: right;\n    }\n</style>\n<table border=\"1\" class=\"dataframe\">\n  <thead>\n    <tr style=\"text-align: right;\">\n      <th></th>\n      <th>0</th>\n      <th>1</th>\n    </tr>\n  </thead>\n  <tbody>\n    <tr>\n      <th>0</th>\n      <td>0cS0A1fUEUd1EW3FcF8AEI</td>\n      <td>4</td>\n    </tr>\n    <tr>\n      <th>1</th>\n      <td>0hbkKFIJm7Z05H8Zl9w30f</td>\n      <td>4</td>\n    </tr>\n    <tr>\n      <th>2</th>\n      <td>11m7laMUgmOKqI3oYzuhne</td>\n      <td>4</td>\n    </tr>\n    <tr>\n      <th>3</th>\n      <td>19Lc5SfJJ5O1oaxY0fpwfh</td>\n      <td>4</td>\n    </tr>\n    <tr>\n      <th>4</th>\n      <td>2hJjbsLCytGsnAHfdsLejp</td>\n      <td>4</td>\n    </tr>\n    <tr>\n      <th>...</th>\n      <td>...</td>\n      <td>...</td>\n    </tr>\n    <tr>\n      <th>9472</th>\n      <td>3lN8PP6R2IxbLP05QpYXng</td>\n      <td>4</td>\n    </tr>\n    <tr>\n      <th>9473</th>\n      <td>3Xls4cNOwy01dtrNXb1inG</td>\n      <td>4</td>\n    </tr>\n    <tr>\n      <th>9474</th>\n      <td>2fDHuS1PTkHBbCWWZF1ph9</td>\n      <td>4</td>\n    </tr>\n    <tr>\n      <th>9475</th>\n      <td>1kPBT8S2wJFNAyBMnGVZgL</td>\n      <td>3</td>\n    </tr>\n    <tr>\n      <th>9476</th>\n      <td>4kP69y3GKHi9tXckfgp4bK</td>\n      <td>4</td>\n    </tr>\n  </tbody>\n</table>\n<p>9477 rows × 2 columns</p>\n</div>"
     },
     "metadata": {},
     "execution_count": 10
    }
   ],
   "source": [
    "id_timesig_df = pd.DataFrame(id_timesig)\n",
    "id_timesig_df"
   ]
  },
  {
   "cell_type": "code",
   "execution_count": 26,
   "metadata": {},
   "outputs": [
    {
     "output_type": "execute_result",
     "data": {
      "text/plain": [
       "                          id  timesig\n",
       "0     0cS0A1fUEUd1EW3FcF8AEI        4\n",
       "1     0hbkKFIJm7Z05H8Zl9w30f        4\n",
       "2     11m7laMUgmOKqI3oYzuhne        4\n",
       "3     19Lc5SfJJ5O1oaxY0fpwfh        4\n",
       "4     2hJjbsLCytGsnAHfdsLejp        4\n",
       "...                      ...      ...\n",
       "9472  3lN8PP6R2IxbLP05QpYXng        4\n",
       "9473  3Xls4cNOwy01dtrNXb1inG        4\n",
       "9474  2fDHuS1PTkHBbCWWZF1ph9        4\n",
       "9475  1kPBT8S2wJFNAyBMnGVZgL        3\n",
       "9476  4kP69y3GKHi9tXckfgp4bK        4\n",
       "\n",
       "[9477 rows x 2 columns]"
      ],
      "text/html": "<div>\n<style scoped>\n    .dataframe tbody tr th:only-of-type {\n        vertical-align: middle;\n    }\n\n    .dataframe tbody tr th {\n        vertical-align: top;\n    }\n\n    .dataframe thead th {\n        text-align: right;\n    }\n</style>\n<table border=\"1\" class=\"dataframe\">\n  <thead>\n    <tr style=\"text-align: right;\">\n      <th></th>\n      <th>id</th>\n      <th>timesig</th>\n    </tr>\n  </thead>\n  <tbody>\n    <tr>\n      <th>0</th>\n      <td>0cS0A1fUEUd1EW3FcF8AEI</td>\n      <td>4</td>\n    </tr>\n    <tr>\n      <th>1</th>\n      <td>0hbkKFIJm7Z05H8Zl9w30f</td>\n      <td>4</td>\n    </tr>\n    <tr>\n      <th>2</th>\n      <td>11m7laMUgmOKqI3oYzuhne</td>\n      <td>4</td>\n    </tr>\n    <tr>\n      <th>3</th>\n      <td>19Lc5SfJJ5O1oaxY0fpwfh</td>\n      <td>4</td>\n    </tr>\n    <tr>\n      <th>4</th>\n      <td>2hJjbsLCytGsnAHfdsLejp</td>\n      <td>4</td>\n    </tr>\n    <tr>\n      <th>...</th>\n      <td>...</td>\n      <td>...</td>\n    </tr>\n    <tr>\n      <th>9472</th>\n      <td>3lN8PP6R2IxbLP05QpYXng</td>\n      <td>4</td>\n    </tr>\n    <tr>\n      <th>9473</th>\n      <td>3Xls4cNOwy01dtrNXb1inG</td>\n      <td>4</td>\n    </tr>\n    <tr>\n      <th>9474</th>\n      <td>2fDHuS1PTkHBbCWWZF1ph9</td>\n      <td>4</td>\n    </tr>\n    <tr>\n      <th>9475</th>\n      <td>1kPBT8S2wJFNAyBMnGVZgL</td>\n      <td>3</td>\n    </tr>\n    <tr>\n      <th>9476</th>\n      <td>4kP69y3GKHi9tXckfgp4bK</td>\n      <td>4</td>\n    </tr>\n  </tbody>\n</table>\n<p>9477 rows × 2 columns</p>\n</div>"
     },
     "metadata": {},
     "execution_count": 26
    }
   ],
   "source": [
    "id_timesig_df=id_timesig_df.rename(columns={0: \"id\", 1: \"timesig\"})\n",
    "#Save to csv file\n",
    "id_timesig_df.to_csv('resources/timesig.csv', index=False)\n",
    "id_timesig_df\n"
   ]
  },
  {
   "source": [
    "Load"
   ],
   "cell_type": "markdown",
   "metadata": {}
  },
  {
   "cell_type": "code",
   "execution_count": 28,
   "metadata": {},
   "outputs": [],
   "source": [
    "# Connect to local database\n",
    "rds_connection_string = \"postgres:postgres@localhost:5432/music_db\"\n",
    "engine = create_engine(f'postgresql://{rds_connection_string}')"
   ]
  },
  {
   "cell_type": "code",
   "execution_count": 29,
   "metadata": {},
   "outputs": [
    {
     "output_type": "execute_result",
     "data": {
      "text/plain": [
       "['spotify_csv', 'spotify_api', 'album']"
      ]
     },
     "metadata": {},
     "execution_count": 29
    }
   ],
   "source": [
    "# Create a music_db. Add the tables into postgres database as per schema.sql\n",
    "engine.table_names()"
   ]
  },
  {
   "cell_type": "code",
   "execution_count": 31,
   "metadata": {},
   "outputs": [],
   "source": [
    "# Load pandas dataframe new_csv_df to database music_db, table spotify_csv\n",
    "new_csv_df.to_sql(name='spotify_csv', con=engine, if_exists='append', index=False)"
   ]
  },
  {
   "cell_type": "code",
   "execution_count": 32,
   "metadata": {},
   "outputs": [],
   "source": [
    "# Load pandas dataframe id_timesig_df to database music_db, table spotify_api\n",
    "id_timesig_df.to_sql(name='spotify_api', con=engine, if_exists='append', index=False)\n",
    "\n",
    "# Alternatively, id_timesig_df pandas dataframe has been saved as a csv file. This csv file can be loaded into postgres database directly in table 'spotify_api'\n",
    "# Relative csv link location: resources/id_timesig_df.csv\n"
   ]
  }
 ]
}