{
 "metadata": {
  "language_info": {
   "codemirror_mode": {
    "name": "ipython",
    "version": 3
   },
   "file_extension": ".py",
   "mimetype": "text/x-python",
   "name": "python",
   "nbconvert_exporter": "python",
   "pygments_lexer": "ipython3",
   "version": "3.6.10-final"
  },
  "orig_nbformat": 2,
  "kernelspec": {
   "name": "python3",
   "display_name": "Python 3.6.10 64-bit ('PythonData': conda)",
   "metadata": {
    "interpreter": {
     "hash": "e7fc2354c13015bdfad1755b4a48a3eeb5cb703f1c2bff07599d6953b8d3ca77"
    }
   }
  }
 },
 "nbformat": 4,
 "nbformat_minor": 2,
 "cells": [
  {
   "source": [
    "- Spotify CSV File: data.csv\n",
    "- Spotify API: xxxxx Insert API Website *****\n",
    "- Need to create a git ignore .py file to store the spotify API passwords. "
   ],
   "cell_type": "markdown",
   "metadata": {}
  },
  {
   "cell_type": "code",
   "execution_count": 1,
   "metadata": {},
   "outputs": [],
   "source": [
    "#Dependencies\n",
    "import pandas as pd\n",
    "from sqlalchemy import create_engine"
   ]
  },
  {
   "source": [
    "Extract CSV into DataFrames"
   ],
   "cell_type": "markdown",
   "metadata": {}
  },
  {
   "cell_type": "code",
   "execution_count": 2,
   "metadata": {},
   "outputs": [],
   "source": [
    "spotify_csv = \"resources/data.csv\""
   ]
  },
  {
   "source": [
    "Transform CSV DataFrame"
   ],
   "cell_type": "markdown",
   "metadata": {}
  },
  {
   "cell_type": "code",
   "execution_count": 3,
   "metadata": {},
   "outputs": [
    {
     "output_type": "execute_result",
     "data": {
      "text/plain": [
       "   acousticness                    artists  danceability  duration_ms  energy  \\\n",
       "0      0.991000            ['Mamie Smith']         0.598       168333   0.224   \n",
       "1      0.643000  [\"Screamin' Jay Hawkins\"]         0.852       150200   0.517   \n",
       "2      0.993000            ['Mamie Smith']         0.647       163827   0.186   \n",
       "3      0.000173        ['Oscar Velazquez']         0.730       422087   0.798   \n",
       "4      0.295000                   ['Mixe']         0.704       165224   0.707   \n",
       "\n",
       "   explicit                      id  instrumentalness  key  liveness  \\\n",
       "0         0  0cS0A1fUEUd1EW3FcF8AEI          0.000522    5    0.3790   \n",
       "1         0  0hbkKFIJm7Z05H8Zl9w30f          0.026400    5    0.0809   \n",
       "2         0  11m7laMUgmOKqI3oYzuhne          0.000018    0    0.5190   \n",
       "3         0  19Lc5SfJJ5O1oaxY0fpwfh          0.801000    2    0.1280   \n",
       "4         1  2hJjbsLCytGsnAHfdsLejp          0.000246   10    0.4020   \n",
       "\n",
       "   loudness  mode                                               name  \\\n",
       "0   -12.628     0                           Keep A Song In Your Soul   \n",
       "1    -7.261     0                               I Put A Spell On You   \n",
       "2   -12.098     1                                       Golfing Papa   \n",
       "3    -7.311     1  True House Music - Xavier Santos & Carlos Gomi...   \n",
       "4    -6.036     0                                          Xuniverxe   \n",
       "\n",
       "   popularity release_date  speechiness    tempo  valence  year  \n",
       "0          12         1920       0.0936  149.976   0.6340  1920  \n",
       "1           7   1920-01-05       0.0534   86.889   0.9500  1920  \n",
       "2           4         1920       0.1740   97.600   0.6890  1920  \n",
       "3          17   1920-01-01       0.0425  127.997   0.0422  1920  \n",
       "4           2   1920-10-01       0.0768  122.076   0.2990  1920  "
      ],
      "text/html": "<div>\n<style scoped>\n    .dataframe tbody tr th:only-of-type {\n        vertical-align: middle;\n    }\n\n    .dataframe tbody tr th {\n        vertical-align: top;\n    }\n\n    .dataframe thead th {\n        text-align: right;\n    }\n</style>\n<table border=\"1\" class=\"dataframe\">\n  <thead>\n    <tr style=\"text-align: right;\">\n      <th></th>\n      <th>acousticness</th>\n      <th>artists</th>\n      <th>danceability</th>\n      <th>duration_ms</th>\n      <th>energy</th>\n      <th>explicit</th>\n      <th>id</th>\n      <th>instrumentalness</th>\n      <th>key</th>\n      <th>liveness</th>\n      <th>loudness</th>\n      <th>mode</th>\n      <th>name</th>\n      <th>popularity</th>\n      <th>release_date</th>\n      <th>speechiness</th>\n      <th>tempo</th>\n      <th>valence</th>\n      <th>year</th>\n    </tr>\n  </thead>\n  <tbody>\n    <tr>\n      <th>0</th>\n      <td>0.991000</td>\n      <td>['Mamie Smith']</td>\n      <td>0.598</td>\n      <td>168333</td>\n      <td>0.224</td>\n      <td>0</td>\n      <td>0cS0A1fUEUd1EW3FcF8AEI</td>\n      <td>0.000522</td>\n      <td>5</td>\n      <td>0.3790</td>\n      <td>-12.628</td>\n      <td>0</td>\n      <td>Keep A Song In Your Soul</td>\n      <td>12</td>\n      <td>1920</td>\n      <td>0.0936</td>\n      <td>149.976</td>\n      <td>0.6340</td>\n      <td>1920</td>\n    </tr>\n    <tr>\n      <th>1</th>\n      <td>0.643000</td>\n      <td>[\"Screamin' Jay Hawkins\"]</td>\n      <td>0.852</td>\n      <td>150200</td>\n      <td>0.517</td>\n      <td>0</td>\n      <td>0hbkKFIJm7Z05H8Zl9w30f</td>\n      <td>0.026400</td>\n      <td>5</td>\n      <td>0.0809</td>\n      <td>-7.261</td>\n      <td>0</td>\n      <td>I Put A Spell On You</td>\n      <td>7</td>\n      <td>1920-01-05</td>\n      <td>0.0534</td>\n      <td>86.889</td>\n      <td>0.9500</td>\n      <td>1920</td>\n    </tr>\n    <tr>\n      <th>2</th>\n      <td>0.993000</td>\n      <td>['Mamie Smith']</td>\n      <td>0.647</td>\n      <td>163827</td>\n      <td>0.186</td>\n      <td>0</td>\n      <td>11m7laMUgmOKqI3oYzuhne</td>\n      <td>0.000018</td>\n      <td>0</td>\n      <td>0.5190</td>\n      <td>-12.098</td>\n      <td>1</td>\n      <td>Golfing Papa</td>\n      <td>4</td>\n      <td>1920</td>\n      <td>0.1740</td>\n      <td>97.600</td>\n      <td>0.6890</td>\n      <td>1920</td>\n    </tr>\n    <tr>\n      <th>3</th>\n      <td>0.000173</td>\n      <td>['Oscar Velazquez']</td>\n      <td>0.730</td>\n      <td>422087</td>\n      <td>0.798</td>\n      <td>0</td>\n      <td>19Lc5SfJJ5O1oaxY0fpwfh</td>\n      <td>0.801000</td>\n      <td>2</td>\n      <td>0.1280</td>\n      <td>-7.311</td>\n      <td>1</td>\n      <td>True House Music - Xavier Santos &amp; Carlos Gomi...</td>\n      <td>17</td>\n      <td>1920-01-01</td>\n      <td>0.0425</td>\n      <td>127.997</td>\n      <td>0.0422</td>\n      <td>1920</td>\n    </tr>\n    <tr>\n      <th>4</th>\n      <td>0.295000</td>\n      <td>['Mixe']</td>\n      <td>0.704</td>\n      <td>165224</td>\n      <td>0.707</td>\n      <td>1</td>\n      <td>2hJjbsLCytGsnAHfdsLejp</td>\n      <td>0.000246</td>\n      <td>10</td>\n      <td>0.4020</td>\n      <td>-6.036</td>\n      <td>0</td>\n      <td>Xuniverxe</td>\n      <td>2</td>\n      <td>1920-10-01</td>\n      <td>0.0768</td>\n      <td>122.076</td>\n      <td>0.2990</td>\n      <td>1920</td>\n    </tr>\n  </tbody>\n</table>\n</div>"
     },
     "metadata": {},
     "execution_count": 3
    }
   ],
   "source": [
    "csv_df = pd.read_csv(spotify_csv)\n",
    "csv_df.head()\n",
    "# Keep columns: id, name, artist, key, tempo, year, popularity"
   ]
  },
  {
   "cell_type": "code",
   "execution_count": 4,
   "metadata": {},
   "outputs": [
    {
     "output_type": "execute_result",
     "data": {
      "text/plain": [
       "                       id                                               name  \\\n",
       "0  0cS0A1fUEUd1EW3FcF8AEI                           Keep A Song In Your Soul   \n",
       "1  0hbkKFIJm7Z05H8Zl9w30f                               I Put A Spell On You   \n",
       "2  11m7laMUgmOKqI3oYzuhne                                       Golfing Papa   \n",
       "3  19Lc5SfJJ5O1oaxY0fpwfh  True House Music - Xavier Santos & Carlos Gomi...   \n",
       "4  2hJjbsLCytGsnAHfdsLejp                                          Xuniverxe   \n",
       "\n",
       "                     artists  key    tempo  year  popularity  \n",
       "0            ['Mamie Smith']    5  149.976  1920          12  \n",
       "1  [\"Screamin' Jay Hawkins\"]    5   86.889  1920           7  \n",
       "2            ['Mamie Smith']    0   97.600  1920           4  \n",
       "3        ['Oscar Velazquez']    2  127.997  1920          17  \n",
       "4                   ['Mixe']   10  122.076  1920           2  "
      ],
      "text/html": "<div>\n<style scoped>\n    .dataframe tbody tr th:only-of-type {\n        vertical-align: middle;\n    }\n\n    .dataframe tbody tr th {\n        vertical-align: top;\n    }\n\n    .dataframe thead th {\n        text-align: right;\n    }\n</style>\n<table border=\"1\" class=\"dataframe\">\n  <thead>\n    <tr style=\"text-align: right;\">\n      <th></th>\n      <th>id</th>\n      <th>name</th>\n      <th>artists</th>\n      <th>key</th>\n      <th>tempo</th>\n      <th>year</th>\n      <th>popularity</th>\n    </tr>\n  </thead>\n  <tbody>\n    <tr>\n      <th>0</th>\n      <td>0cS0A1fUEUd1EW3FcF8AEI</td>\n      <td>Keep A Song In Your Soul</td>\n      <td>['Mamie Smith']</td>\n      <td>5</td>\n      <td>149.976</td>\n      <td>1920</td>\n      <td>12</td>\n    </tr>\n    <tr>\n      <th>1</th>\n      <td>0hbkKFIJm7Z05H8Zl9w30f</td>\n      <td>I Put A Spell On You</td>\n      <td>[\"Screamin' Jay Hawkins\"]</td>\n      <td>5</td>\n      <td>86.889</td>\n      <td>1920</td>\n      <td>7</td>\n    </tr>\n    <tr>\n      <th>2</th>\n      <td>11m7laMUgmOKqI3oYzuhne</td>\n      <td>Golfing Papa</td>\n      <td>['Mamie Smith']</td>\n      <td>0</td>\n      <td>97.600</td>\n      <td>1920</td>\n      <td>4</td>\n    </tr>\n    <tr>\n      <th>3</th>\n      <td>19Lc5SfJJ5O1oaxY0fpwfh</td>\n      <td>True House Music - Xavier Santos &amp; Carlos Gomi...</td>\n      <td>['Oscar Velazquez']</td>\n      <td>2</td>\n      <td>127.997</td>\n      <td>1920</td>\n      <td>17</td>\n    </tr>\n    <tr>\n      <th>4</th>\n      <td>2hJjbsLCytGsnAHfdsLejp</td>\n      <td>Xuniverxe</td>\n      <td>['Mixe']</td>\n      <td>10</td>\n      <td>122.076</td>\n      <td>1920</td>\n      <td>2</td>\n    </tr>\n  </tbody>\n</table>\n</div>"
     },
     "metadata": {},
     "execution_count": 4
    }
   ],
   "source": [
    "new_csv_df = csv_df[['id','name', 'artists','key','tempo','year','popularity']].copy()\n",
    "new_csv_df.head()\n",
    "\n",
    "# TEST: new_csv_df.info()\n",
    "# There are 174389 row entries"
   ]
  },
  {
   "source": [
    "Extract from Spotify API, library already exists called spotipy"
   ],
   "cell_type": "markdown",
   "metadata": {}
  },
  {
   "cell_type": "code",
   "execution_count": 5,
   "metadata": {},
   "outputs": [
    {
     "output_type": "stream",
     "name": "stdout",
     "text": [
      "Requirement already satisfied: spotipy in /Users/annabelcheong/opt/anaconda3/envs/PythonData/lib/python3.6/site-packages (2.17.1)\n",
      "Requirement already satisfied: requests>=2.25.0 in /Users/annabelcheong/opt/anaconda3/envs/PythonData/lib/python3.6/site-packages (from spotipy) (2.25.1)\n",
      "Requirement already satisfied: urllib3>=1.26.0 in /Users/annabelcheong/opt/anaconda3/envs/PythonData/lib/python3.6/site-packages (from spotipy) (1.26.2)\n",
      "Requirement already satisfied: six>=1.15.0 in /Users/annabelcheong/opt/anaconda3/envs/PythonData/lib/python3.6/site-packages (from spotipy) (1.15.0)\n",
      "Requirement already satisfied: chardet<5,>=3.0.2 in /Users/annabelcheong/opt/anaconda3/envs/PythonData/lib/python3.6/site-packages (from requests>=2.25.0->spotipy) (4.0.0)\n",
      "Requirement already satisfied: idna<3,>=2.5 in /Users/annabelcheong/opt/anaconda3/envs/PythonData/lib/python3.6/site-packages (from requests>=2.25.0->spotipy) (2.10)\n",
      "Requirement already satisfied: certifi>=2017.4.17 in /Users/annabelcheong/opt/anaconda3/envs/PythonData/lib/python3.6/site-packages (from requests>=2.25.0->spotipy) (2020.12.5)\n"
     ]
    }
   ],
   "source": [
    "!pip install spotipy"
   ]
  },
  {
   "cell_type": "code",
   "execution_count": 8,
   "metadata": {},
   "outputs": [],
   "source": [
    "#Dependences\n",
    "import spotipy\n",
    "from spotipy.oauth2 import SpotifyClientCredentials\n",
    "from config import cid\n",
    "from config import secret"
   ]
  },
  {
   "cell_type": "code",
   "execution_count": 10,
   "metadata": {},
   "outputs": [
    {
     "output_type": "execute_result",
     "data": {
      "text/plain": [
       "<spotipy.client.Spotify at 0x7f97436e9780>"
      ]
     },
     "metadata": {},
     "execution_count": 10
    }
   ],
   "source": [
    "# cid = 'Your Client ID'\n",
    "# secret = 'Your Secret ID'\n",
    "client_credentials_manager = SpotifyClientCredentials(client_id = cid, client_secret = secret)\n",
    "sp = spotipy.Spotify(client_credentials_manager = client_credentials_manager)\n",
    "sp"
   ]
  },
  {
   "cell_type": "code",
   "execution_count": 12,
   "metadata": {
    "tags": [
     "outputPrepend"
    ]
   },
   "outputs": [
    {
     "output_type": "stream",
     "name": "stdout",
     "text": [
      "Y', 'BZ', 'CA', 'CH', 'CL', 'CM', 'CO', 'CR', 'CV', 'CW', 'CY', 'CZ', 'DE', 'DK', 'DM', 'DO', 'DZ', 'EC', 'EE', 'EG', 'ES', 'FI', 'FJ', 'FM', 'FR', 'GA', 'GB', 'GD', 'GE', 'GH', 'GM', 'GN', 'GQ', 'GR', 'GT', 'GW', 'GY', 'HK', 'HN', 'HR', 'HT', 'HU', 'ID', 'IE', 'IL', 'IN', 'IS', 'IT', 'JM', 'JO', 'JP', 'KE', 'KG', 'KH', 'KI', 'KM', 'KN', 'KR', 'KW', 'KZ', 'LA', 'LB', 'LC', 'LI', 'LK', 'LR', 'LS', 'LT', 'LU', 'LV', 'MA', 'MC', 'MD', 'ME', 'MH', 'MK', 'ML', 'MN', 'MO', 'MR', 'MT', 'MV', 'MW', 'MX', 'MY', 'NA', 'NE', 'NG', 'NI', 'NL', 'NO', 'NP', 'NR', 'NZ', 'OM', 'PA', 'PE', 'PG', 'PH', 'PK', 'PL', 'PS', 'PT', 'PW', 'PY', 'QA', 'RO', 'RS', 'RU', 'RW', 'SA', 'SB', 'SC', 'SE', 'SG', 'SI', 'SK', 'SL', 'SM', 'SN', 'SR', 'ST', 'SV', 'SZ', 'TD', 'TG', 'TH', 'TL', 'TN', 'TO', 'TR', 'TT', 'TV', 'TW', 'TZ', 'UA', 'UG', 'US', 'UY', 'UZ', 'VC', 'VN', 'VU', 'WS', 'XK', 'ZA', 'ZW'], 'external_urls': {'spotify': 'https://open.spotify.com/album/5gWxh24iphqQ8WDh8MBMfe'}, 'href': 'https://api.spotify.com/v1/albums/5gWxh24iphqQ8WDh8MBMfe', 'id': '5gWxh24iphqQ8WDh8MBMfe', 'images': [{'height': 640, 'url': 'https://i.scdn.co/image/ab67616d0000b2730ee14829c3e177241fa303be', 'width': 640}, {'height': 300, 'url': 'https://i.scdn.co/image/ab67616d00001e020ee14829c3e177241fa303be', 'width': 300}, {'height': 64, 'url': 'https://i.scdn.co/image/ab67616d000048510ee14829c3e177241fa303be', 'width': 64}], 'name': '軟弱', 'release_date': '2020-09-16', 'release_date_precision': 'day', 'total_tracks': 5, 'type': 'album', 'uri': 'spotify:album:5gWxh24iphqQ8WDh8MBMfe'}, 'artists': [{'external_urls': {'spotify': 'https://open.spotify.com/artist/6kfcndVsu8F9Y5gL5xc717'}, 'href': 'https://api.spotify.com/v1/artists/6kfcndVsu8F9Y5gL5xc717', 'id': '6kfcndVsu8F9Y5gL5xc717', 'name': 'Schoolgirl Byebye', 'type': 'artist', 'uri': 'spotify:artist:6kfcndVsu8F9Y5gL5xc717'}], 'available_markets': ['AD', 'AE', 'AG', 'AL', 'AM', 'AR', 'AT', 'AU', 'AZ', 'BA', 'BB', 'BD', 'BE', 'BF', 'BG', 'BH', 'BI', 'BN', 'BO', 'BR', 'BS', 'BT', 'BW', 'BY', 'BZ', 'CA', 'CH', 'CL', 'CM', 'CO', 'CR', 'CV', 'CW', 'CY', 'CZ', 'DE', 'DK', 'DM', 'DO', 'DZ', 'EC', 'EE', 'EG', 'ES', 'FI', 'FJ', 'FM', 'FR', 'GA', 'GB', 'GD', 'GE', 'GH', 'GM', 'GN', 'GQ', 'GR', 'GT', 'GW', 'GY', 'HK', 'HN', 'HR', 'HT', 'HU', 'ID', 'IE', 'IL', 'IN', 'IS', 'IT', 'JM', 'JO', 'JP', 'KE', 'KG', 'KH', 'KI', 'KM', 'KN', 'KR', 'KW', 'KZ', 'LA', 'LB', 'LC', 'LI', 'LK', 'LR', 'LS', 'LT', 'LU', 'LV', 'MA', 'MC', 'MD', 'ME', 'MH', 'MK', 'ML', 'MN', 'MO', 'MR', 'MT', 'MV', 'MW', 'MX', 'MY', 'NA', 'NE', 'NG', 'NI', 'NL', 'NO', 'NP', 'NR', 'NZ', 'OM', 'PA', 'PE', 'PG', 'PH', 'PK', 'PL', 'PS', 'PT', 'PW', 'PY', 'QA', 'RO', 'RS', 'RU', 'RW', 'SA', 'SB', 'SC', 'SE', 'SG', 'SI', 'SK', 'SL', 'SM', 'SN', 'SR', 'ST', 'SV', 'SZ', 'TD', 'TG', 'TH', 'TL', 'TN', 'TO', 'TR', 'TT', 'TV', 'TW', 'TZ', 'UA', 'UG', 'US', 'UY', 'UZ', 'VC', 'VN', 'VU', 'WS', 'XK', 'ZA', 'ZW'], 'disc_number': 1, 'duration_ms': 74301, 'explicit': False, 'external_ids': {'isrc': 'CNZ512000506'}, 'external_urls': {'spotify': 'https://open.spotify.com/track/0UsmyJDsst2xhX1ZiFF3JW'}, 'href': 'https://api.spotify.com/v1/tracks/0UsmyJDsst2xhX1ZiFF3JW', 'id': '0UsmyJDsst2xhX1ZiFF3JW', 'is_local': False, 'name': 'Year,2015', 'popularity': 21, 'preview_url': 'https://p.scdn.co/mp3-preview/6018ac74b6b816ad30cb292e011731e9b14ab67b?cid=85620ab821774af180acfd6959f0d6a9', 'track_number': 1, 'type': 'track', 'uri': 'spotify:track:0UsmyJDsst2xhX1ZiFF3JW'}, {'album': {'album_type': 'album', 'artists': [{'external_urls': {'spotify': 'https://open.spotify.com/artist/4oUHIQIBe0LHzYfvXNW4QM'}, 'href': 'https://api.spotify.com/v1/artists/4oUHIQIBe0LHzYfvXNW4QM', 'id': '4oUHIQIBe0LHzYfvXNW4QM', 'name': 'Morgan Wallen', 'type': 'artist', 'uri': 'spotify:artist:4oUHIQIBe0LHzYfvXNW4QM'}], 'available_markets': ['AD', 'AE', 'AG', 'AL', 'AM', 'AR', 'AT', 'AU', 'AZ', 'BA', 'BB', 'BD', 'BE', 'BF', 'BG', 'BH', 'BI', 'BN', 'BO', 'BR', 'BS', 'BT', 'BW', 'BY', 'BZ', 'CA', 'CH', 'CL', 'CM', 'CO', 'CR', 'CV', 'CW', 'CY', 'CZ', 'DE', 'DK', 'DM', 'DO', 'DZ', 'EC', 'EE', 'EG', 'ES', 'FI', 'FJ', 'FM', 'FR', 'GA', 'GB', 'GD', 'GE', 'GH', 'GM', 'GN', 'GQ', 'GR', 'GT', 'GW', 'GY', 'HK', 'HN', 'HR', 'HT', 'HU', 'ID', 'IE', 'IL', 'IN', 'IS', 'IT', 'JM', 'JO', 'JP', 'KE', 'KG', 'KH', 'KI', 'KM', 'KN', 'KR', 'KW', 'KZ', 'LA', 'LB', 'LC', 'LI', 'LK', 'LR', 'LS', 'LT', 'LU', 'LV', 'MA', 'MC', 'MD', 'ME', 'MH', 'MK', 'ML', 'MN', 'MO', 'MR', 'MT', 'MV', 'MW', 'MX', 'MY', 'NA', 'NE', 'NG', 'NI', 'NL', 'NO', 'NP', 'NR', 'NZ', 'OM', 'PA', 'PE', 'PG', 'PH', 'PK', 'PL', 'PS', 'PT', 'PW', 'PY', 'QA', 'RO', 'RS', 'RU', 'RW', 'SA', 'SB', 'SC', 'SE', 'SG', 'SI', 'SK', 'SL', 'SM', 'SN', 'SR', 'ST', 'SV', 'SZ', 'TD', 'TG', 'TH', 'TL', 'TN', 'TO', 'TR', 'TT', 'TV', 'TW', 'TZ', 'UA', 'UG', 'US', 'UY', 'UZ', 'VC', 'VN', 'VU', 'WS', 'XK', 'ZA', 'ZW'], 'external_urls': {'spotify': 'https://open.spotify.com/album/1IR2nlwX6YVTXXeu2qzoWO'}, 'href': 'https://api.spotify.com/v1/albums/1IR2nlwX6YVTXXeu2qzoWO', 'id': '1IR2nlwX6YVTXXeu2qzoWO', 'images': [{'height': 640, 'url': 'https://i.scdn.co/image/ab67616d0000b273f9f2dda2df2a695b9bad3440', 'width': 640}, {'height': 300, 'url': 'https://i.scdn.co/image/ab67616d00001e02f9f2dda2df2a695b9bad3440', 'width': 300}, {'height': 64, 'url': 'https://i.scdn.co/image/ab67616d00004851f9f2dda2df2a695b9bad3440', 'width': 64}], 'name': 'If I Know Me', 'release_date': '2018-04-27', 'release_date_precision': 'day', 'total_tracks': 14, 'type': 'album', 'uri': 'spotify:album:1IR2nlwX6YVTXXeu2qzoWO'}, 'artists': [{'external_urls': {'spotify': 'https://open.spotify.com/artist/4oUHIQIBe0LHzYfvXNW4QM'}, 'href': 'https://api.spotify.com/v1/artists/4oUHIQIBe0LHzYfvXNW4QM', 'id': '4oUHIQIBe0LHzYfvXNW4QM', 'name': 'Morgan Wallen', 'type': 'artist', 'uri': 'spotify:artist:4oUHIQIBe0LHzYfvXNW4QM'}], 'available_markets': ['AD', 'AE', 'AG', 'AL', 'AM', 'AR', 'AT', 'AU', 'AZ', 'BA', 'BB', 'BD', 'BE', 'BF', 'BG', 'BH', 'BI', 'BN', 'BO', 'BR', 'BS', 'BT', 'BW', 'BY', 'BZ', 'CA', 'CH', 'CL', 'CM', 'CO', 'CR', 'CV', 'CW', 'CY', 'CZ', 'DE', 'DK', 'DM', 'DO', 'DZ', 'EC', 'EE', 'EG', 'ES', 'FI', 'FJ', 'FM', 'FR', 'GA', 'GB', 'GD', 'GE', 'GH', 'GM', 'GN', 'GQ', 'GR', 'GT', 'GW', 'GY', 'HK', 'HN', 'HR', 'HT', 'HU', 'ID', 'IE', 'IL', 'IN', 'IS', 'IT', 'JM', 'JO', 'JP', 'KE', 'KG', 'KH', 'KI', 'KM', 'KN', 'KR', 'KW', 'KZ', 'LA', 'LB', 'LC', 'LI', 'LK', 'LR', 'LS', 'LT', 'LU', 'LV', 'MA', 'MC', 'MD', 'ME', 'MH', 'MK', 'ML', 'MN', 'MO', 'MR', 'MT', 'MV', 'MW', 'MX', 'MY', 'NA', 'NE', 'NG', 'NI', 'NL', 'NO', 'NP', 'NR', 'NZ', 'OM', 'PA', 'PE', 'PG', 'PH', 'PK', 'PL', 'PS', 'PT', 'PW', 'PY', 'QA', 'RO', 'RS', 'RU', 'RW', 'SA', 'SB', 'SC', 'SE', 'SG', 'SI', 'SK', 'SL', 'SM', 'SN', 'SR', 'ST', 'SV', 'SZ', 'TD', 'TG', 'TH', 'TL', 'TN', 'TO', 'TR', 'TT', 'TV', 'TW', 'TZ', 'UA', 'UG', 'US', 'UY', 'UZ', 'VC', 'VN', 'VU', 'WS', 'XK', 'ZA', 'ZW'], 'disc_number': 1, 'duration_ms': 234346, 'explicit': False, 'external_ids': {'isrc': 'QZ22S1500059'}, 'external_urls': {'spotify': 'https://open.spotify.com/track/6foY66mWZN0pSRjZ408c00'}, 'href': 'https://api.spotify.com/v1/tracks/6foY66mWZN0pSRjZ408c00', 'id': '6foY66mWZN0pSRjZ408c00', 'is_local': False, 'name': 'Whiskey Glasses', 'popularity': 80, 'preview_url': 'https://p.scdn.co/mp3-preview/95ac7dba403384cdb429dc9a838a889a6579ecb2?cid=85620ab821774af180acfd6959f0d6a9', 'track_number': 4, 'type': 'track', 'uri': 'spotify:track:6foY66mWZN0pSRjZ408c00'}, {'album': {'album_type': 'album', 'artists': [{'external_urls': {'spotify': 'https://open.spotify.com/artist/08GQAI4eElDnROBrJRGE0X'}, 'href': 'https://api.spotify.com/v1/artists/08GQAI4eElDnROBrJRGE0X', 'id': '08GQAI4eElDnROBrJRGE0X', 'name': 'Fleetwood Mac', 'type': 'artist', 'uri': 'spotify:artist:08GQAI4eElDnROBrJRGE0X'}], 'available_markets': ['AD', 'AE', 'AG', 'AL', 'AM', 'AR', 'AT', 'AU', 'AZ', 'BA', 'BB', 'BD', 'BE', 'BF', 'BG', 'BH', 'BI', 'BN', 'BO', 'BR', 'BS', 'BT', 'BW', 'BY', 'BZ', 'CA', 'CH', 'CL', 'CM', 'CO', 'CR', 'CV', 'CW', 'CY', 'CZ', 'DE', 'DK', 'DM', 'DO', 'DZ', 'EC', 'EE', 'EG', 'ES', 'FI', 'FJ', 'FM', 'FR', 'GA', 'GB', 'GD', 'GE', 'GH', 'GM', 'GN', 'GQ', 'GR', 'GT', 'GW', 'GY', 'HK', 'HN', 'HR', 'HT', 'HU', 'ID', 'IE', 'IL', 'IN', 'IS', 'IT', 'JM', 'JO', 'JP', 'KE', 'KG', 'KH', 'KI', 'KM', 'KN', 'KR', 'KW', 'KZ', 'LA', 'LB', 'LC', 'LI', 'LK', 'LR', 'LS', 'LT', 'LU', 'LV', 'MA', 'MC', 'MD', 'ME', 'MH', 'MK', 'ML', 'MN', 'MO', 'MR', 'MT', 'MV', 'MW', 'MX', 'MY', 'NA', 'NE', 'NG', 'NI', 'NL', 'NO', 'NP', 'NR', 'NZ', 'OM', 'PA', 'PE', 'PG', 'PH', 'PK', 'PL', 'PS', 'PT', 'PW', 'PY', 'QA', 'RO', 'RS', 'RU', 'RW', 'SA', 'SB', 'SC', 'SE', 'SG', 'SI', 'SK', 'SL', 'SM', 'SN', 'SR', 'ST', 'SV', 'SZ', 'TD', 'TG', 'TH', 'TL', 'TN', 'TO', 'TR', 'TT', 'TV', 'TW', 'TZ', 'UA', 'UG', 'US', 'UY', 'UZ', 'VC', 'VN', 'VU', 'WS', 'XK', 'ZA', 'ZW'], 'external_urls': {'spotify': 'https://open.spotify.com/album/06JqOkwwy91OxrApXclzYf'}, 'href': 'https://api.spotify.com/v1/albums/06JqOkwwy91OxrApXclzYf', 'id': '06JqOkwwy91OxrApXclzYf', 'images': [{'height': 640, 'url': 'https://i.scdn.co/image/ab67616d0000b273470a57c2dc8710171d4783df', 'width': 640}, {'height': 300, 'url': 'https://i.scdn.co/image/ab67616d00001e02470a57c2dc8710171d4783df', 'width': 300}, {'height': 64, 'url': 'https://i.scdn.co/image/ab67616d00004851470a57c2dc8710171d4783df', 'width': 64}], 'name': \"50 Years - Don't Stop\", 'release_date': '2018-11-16', 'release_date_precision': 'day', 'total_tracks': 50, 'type': 'album', 'uri': 'spotify:album:06JqOkwwy91OxrApXclzYf'}, 'artists': [{'external_urls': {'spotify': 'https://open.spotify.com/artist/08GQAI4eElDnROBrJRGE0X'}, 'href': 'https://api.spotify.com/v1/artists/08GQAI4eElDnROBrJRGE0X', 'id': '08GQAI4eElDnROBrJRGE0X', 'name': 'Fleetwood Mac', 'type': 'artist', 'uri': 'spotify:artist:08GQAI4eElDnROBrJRGE0X'}], 'available_markets': ['AD', 'AE', 'AG', 'AL', 'AM', 'AR', 'AT', 'AU', 'AZ', 'BA', 'BB', 'BD', 'BE', 'BF', 'BG', 'BH', 'BI', 'BN', 'BO', 'BR', 'BS', 'BT', 'BW', 'BY', 'BZ', 'CA', 'CH', 'CL', 'CM', 'CO', 'CR', 'CV', 'CW', 'CY', 'CZ', 'DE', 'DK', 'DM', 'DO', 'DZ', 'EC', 'EE', 'EG', 'ES', 'FI', 'FJ', 'FM', 'FR', 'GA', 'GB', 'GD', 'GE', 'GH', 'GM', 'GN', 'GQ', 'GR', 'GT', 'GW', 'GY', 'HK', 'HN', 'HR', 'HT', 'HU', 'ID', 'IE', 'IL', 'IN', 'IS', 'IT', 'JM', 'JO', 'JP', 'KE', 'KG', 'KH', 'KI', 'KM', 'KN', 'KR', 'KW', 'KZ', 'LA', 'LB', 'LC', 'LI', 'LK', 'LR', 'LS', 'LT', 'LU', 'LV', 'MA', 'MC', 'MD', 'ME', 'MH', 'MK', 'ML', 'MN', 'MO', 'MR', 'MT', 'MV', 'MW', 'MX', 'MY', 'NA', 'NE', 'NG', 'NI', 'NL', 'NO', 'NP', 'NR', 'NZ', 'OM', 'PA', 'PE', 'PG', 'PH', 'PK', 'PL', 'PS', 'PT', 'PW', 'PY', 'QA', 'RO', 'RS', 'RU', 'RW', 'SA', 'SB', 'SC', 'SE', 'SG', 'SI', 'SK', 'SL', 'SM', 'SN', 'SR', 'ST', 'SV', 'SZ', 'TD', 'TG', 'TH', 'TL', 'TN', 'TO', 'TR', 'TT', 'TV', 'TW', 'TZ', 'UA', 'UG', 'US', 'UY', 'UZ', 'VC', 'VN', 'VU', 'WS', 'XK', 'ZA', 'ZW'], 'disc_number': 1, 'duration_ms': 263866, 'explicit': False, 'external_ids': {'isrc': 'USRH11802591'}, 'external_urls': {'spotify': 'https://open.spotify.com/track/5nTnApD6zNvuHJe0fXU5Jg'}, 'href': 'https://api.spotify.com/v1/tracks/5nTnApD6zNvuHJe0fXU5Jg', 'id': '5nTnApD6zNvuHJe0fXU5Jg', 'is_local': False, 'name': 'Gypsy - 2018 Remaster', 'popularity': 48, 'preview_url': 'https://p.scdn.co/mp3-preview/036c99a9e2988f828fe5f4accf98c85bd47c6931?cid=85620ab821774af180acfd6959f0d6a9', 'track_number': 12, 'type': 'track', 'uri': 'spotify:track:5nTnApD6zNvuHJe0fXU5Jg'}, {'album': {'album_type': 'single', 'artists': [{'external_urls': {'spotify': 'https://open.spotify.com/artist/6qqNVTkY8uBg9cP3Jd7DAH'}, 'href': 'https://api.spotify.com/v1/artists/6qqNVTkY8uBg9cP3Jd7DAH', 'id': '6qqNVTkY8uBg9cP3Jd7DAH', 'name': 'Billie Eilish', 'type': 'artist', 'uri': 'spotify:artist:6qqNVTkY8uBg9cP3Jd7DAH'}, {'external_urls': {'spotify': 'https://open.spotify.com/artist/6LuN9FCkKOj5PcnpouEgny'}, 'href': 'https://api.spotify.com/v1/artists/6LuN9FCkKOj5PcnpouEgny', 'id': '6LuN9FCkKOj5PcnpouEgny', 'name': 'Khalid', 'type': 'artist', 'uri': 'spotify:artist:6LuN9FCkKOj5PcnpouEgny'}], 'available_markets': ['AD', 'AE', 'AG', 'AL', 'AM', 'AR', 'AT', 'AU', 'AZ', 'BA', 'BB', 'BD', 'BE', 'BF', 'BG', 'BH', 'BI', 'BN', 'BO', 'BR', 'BS', 'BT', 'BW', 'BY', 'BZ', 'CA', 'CH', 'CL', 'CM', 'CO', 'CR', 'CV', 'CW', 'CY', 'CZ', 'DE', 'DK', 'DM', 'DO', 'DZ', 'EC', 'EE', 'EG', 'ES', 'FI', 'FJ', 'FM', 'FR', 'GA', 'GB', 'GD', 'GE', 'GH', 'GM', 'GN', 'GQ', 'GR', 'GT', 'GW', 'GY', 'HK', 'HN', 'HR', 'HT', 'HU', 'ID', 'IE', 'IL', 'IN', 'IS', 'IT', 'JM', 'JO', 'JP', 'KE', 'KG', 'KH', 'KI', 'KM', 'KN', 'KR', 'KW', 'KZ', 'LA', 'LB', 'LC', 'LI', 'LK', 'LR', 'LS', 'LT', 'LU', 'LV', 'MA', 'MC', 'MD', 'ME', 'MH', 'MK', 'ML', 'MN', 'MO', 'MR', 'MT', 'MV', 'MW', 'MX', 'MY', 'NA', 'NE', 'NG', 'NI', 'NL', 'NO', 'NP', 'NR', 'NZ', 'OM', 'PA', 'PE', 'PG', 'PH', 'PK', 'PL', 'PS', 'PT', 'PW', 'PY', 'QA', 'RO', 'RS', 'RU', 'RW', 'SA', 'SB', 'SC', 'SE', 'SG', 'SI', 'SK', 'SL', 'SM', 'SN', 'SR', 'ST', 'SV', 'SZ', 'TD', 'TG', 'TH', 'TL', 'TN', 'TO', 'TR', 'TT', 'TV', 'TW', 'TZ', 'UA', 'UG', 'US', 'UY', 'UZ', 'VC', 'VN', 'VU', 'WS', 'XK', 'ZA', 'ZW'], 'external_urls': {'spotify': 'https://open.spotify.com/album/2sBB17RXTamvj7Ncps15AK'}, 'href': 'https://api.spotify.com/v1/albums/2sBB17RXTamvj7Ncps15AK', 'id': '2sBB17RXTamvj7Ncps15AK', 'images': [{'height': 640, 'url': 'https://i.scdn.co/image/ab67616d0000b2738a3f0a3ca7929dea23cd274c', 'width': 640}, {'height': 300, 'url': 'https://i.scdn.co/image/ab67616d00001e028a3f0a3ca7929dea23cd274c', 'width': 300}, {'height': 64, 'url': 'https://i.scdn.co/image/ab67616d000048518a3f0a3ca7929dea23cd274c', 'width': 64}], 'name': 'lovely (with Khalid)', 'release_date': '2018-04-19', 'release_date_precision': 'day', 'total_tracks': 1, 'type': 'album', 'uri': 'spotify:album:2sBB17RXTamvj7Ncps15AK'}, 'artists': [{'external_urls': {'spotify': 'https://open.spotify.com/artist/6qqNVTkY8uBg9cP3Jd7DAH'}, 'href': 'https://api.spotify.com/v1/artists/6qqNVTkY8uBg9cP3Jd7DAH', 'id': '6qqNVTkY8uBg9cP3Jd7DAH', 'name': 'Billie Eilish', 'type': 'artist', 'uri': 'spotify:artist:6qqNVTkY8uBg9cP3Jd7DAH'}, {'external_urls': {'spotify': 'https://open.spotify.com/artist/6LuN9FCkKOj5PcnpouEgny'}, 'href': 'https://api.spotify.com/v1/artists/6LuN9FCkKOj5PcnpouEgny', 'id': '6LuN9FCkKOj5PcnpouEgny', 'name': 'Khalid', 'type': 'artist', 'uri': 'spotify:artist:6LuN9FCkKOj5PcnpouEgny'}], 'available_markets': ['AD', 'AE', 'AG', 'AL', 'AM', 'AR', 'AT', 'AU', 'AZ', 'BA', 'BB', 'BD', 'BE', 'BF', 'BG', 'BH', 'BI', 'BN', 'BO', 'BR', 'BS', 'BT', 'BW', 'BY', 'BZ', 'CA', 'CH', 'CL', 'CM', 'CO', 'CR', 'CV', 'CW', 'CY', 'CZ', 'DE', 'DK', 'DM', 'DO', 'DZ', 'EC', 'EE', 'EG', 'ES', 'FI', 'FJ', 'FM', 'FR', 'GA', 'GB', 'GD', 'GE', 'GH', 'GM', 'GN', 'GQ', 'GR', 'GT', 'GW', 'GY', 'HK', 'HN', 'HR', 'HT', 'HU', 'ID', 'IE', 'IL', 'IN', 'IS', 'IT', 'JM', 'JO', 'JP', 'KE', 'KG', 'KH', 'KI', 'KM', 'KN', 'KR', 'KW', 'KZ', 'LA', 'LB', 'LC', 'LI', 'LK', 'LR', 'LS', 'LT', 'LU', 'LV', 'MA', 'MC', 'MD', 'ME', 'MH', 'MK', 'ML', 'MN', 'MO', 'MR', 'MT', 'MV', 'MW', 'MX', 'MY', 'NA', 'NE', 'NG', 'NI', 'NL', 'NO', 'NP', 'NR', 'NZ', 'OM', 'PA', 'PE', 'PG', 'PH', 'PK', 'PL', 'PS', 'PT', 'PW', 'PY', 'QA', 'RO', 'RS', 'RU', 'RW', 'SA', 'SB', 'SC', 'SE', 'SG', 'SI', 'SK', 'SL', 'SM', 'SN', 'SR', 'ST', 'SV', 'SZ', 'TD', 'TG', 'TH', 'TL', 'TN', 'TO', 'TR', 'TT', 'TV', 'TW', 'TZ', 'UA', 'UG', 'US', 'UY', 'UZ', 'VC', 'VN', 'VU', 'WS', 'XK', 'ZA', 'ZW'], 'disc_number': 1, 'duration_ms': 200185, 'explicit': False, 'external_ids': {'isrc': 'USUM71804190'}, 'external_urls': {'spotify': 'https://open.spotify.com/track/0u2P5u6lvoDfwTYjAADbn4'}, 'href': 'https://api.spotify.com/v1/tracks/0u2P5u6lvoDfwTYjAADbn4', 'id': '0u2P5u6lvoDfwTYjAADbn4', 'is_local': False, 'name': 'lovely (with Khalid)', 'popularity': 88, 'preview_url': None, 'track_number': 1, 'type': 'track', 'uri': 'spotify:track:0u2P5u6lvoDfwTYjAADbn4'}, {'album': {'album_type': 'single', 'artists': [{'external_urls': {'spotify': 'https://open.spotify.com/artist/7kwEvDE8e7EBGKh5bLczqQ'}, 'href': 'https://api.spotify.com/v1/artists/7kwEvDE8e7EBGKh5bLczqQ', 'id': '7kwEvDE8e7EBGKh5bLczqQ', 'name': 'Anthem Lights', 'type': 'artist', 'uri': 'spotify:artist:7kwEvDE8e7EBGKh5bLczqQ'}], 'available_markets': ['AD', 'AE', 'AG', 'AL', 'AM', 'AR', 'AT', 'AU', 'AZ', 'BA', 'BB', 'BD', 'BE', 'BF', 'BG', 'BH', 'BI', 'BN', 'BO', 'BR', 'BS', 'BT', 'BW', 'BY', 'BZ', 'CA', 'CH', 'CL', 'CM', 'CO', 'CR', 'CV', 'CW', 'CY', 'CZ', 'DE', 'DK', 'DM', 'DO', 'DZ', 'EC', 'EE', 'EG', 'ES', 'FI', 'FJ', 'FM', 'FR', 'GA', 'GB', 'GD', 'GE', 'GH', 'GM', 'GN', 'GQ', 'GR', 'GT', 'GW', 'GY', 'HK', 'HN', 'HR', 'HT', 'HU', 'ID', 'IE', 'IL', 'IN', 'IS', 'IT', 'JM', 'JO', 'JP', 'KE', 'KG', 'KH', 'KI', 'KM', 'KN', 'KR', 'KW', 'KZ', 'LA', 'LB', 'LC', 'LI', 'LK', 'LR', 'LS', 'LT', 'LU', 'LV', 'MA', 'MC', 'MD', 'ME', 'MH', 'MK', 'ML', 'MN', 'MO', 'MR', 'MT', 'MV', 'MW', 'MX', 'MY', 'NA', 'NE', 'NG', 'NI', 'NL', 'NO', 'NP', 'NR', 'NZ', 'OM', 'PA', 'PE', 'PG', 'PH', 'PK', 'PL', 'PS', 'PT', 'PW', 'PY', 'QA', 'RO', 'RS', 'RU', 'RW', 'SA', 'SB', 'SC', 'SE', 'SG', 'SI', 'SK', 'SL', 'SM', 'SN', 'SR', 'ST', 'SV', 'SZ', 'TD', 'TG', 'TH', 'TL', 'TN', 'TO', 'TR', 'TT', 'TV', 'TW', 'TZ', 'UA', 'UG', 'US', 'UY', 'UZ', 'VC', 'VN', 'VU', 'WS', 'XK', 'ZA', 'ZW'], 'external_urls': {'spotify': 'https://open.spotify.com/album/00DpCtHn284WiPNunv1QG8'}, 'href': 'https://api.spotify.com/v1/albums/00DpCtHn284WiPNunv1QG8', 'id': '00DpCtHn284WiPNunv1QG8', 'images': [{'height': 640, 'url': 'https://i.scdn.co/image/ab67616d0000b273822f49edeef419fbf2cbb239', 'width': 640}, {'height': 300, 'url': 'https://i.scdn.co/image/ab67616d00001e02822f49edeef419fbf2cbb239', 'width': 300}, {'height': 64, 'url': 'https://i.scdn.co/image/ab67616d00004851822f49edeef419fbf2cbb239', 'width': 64}], 'name': 'K-LOVE Fan Awards: Songs of the Year (2015 Mash-Up)', 'release_date': '2015-03-31', 'release_date_precision': 'day', 'total_tracks': 1, 'type': 'album', 'uri': 'spotify:album:00DpCtHn284WiPNunv1QG8'}, 'artists': [{'external_urls': {'spotify': 'https://open.spotify.com/artist/7kwEvDE8e7EBGKh5bLczqQ'}, 'href': 'https://api.spotify.com/v1/artists/7kwEvDE8e7EBGKh5bLczqQ', 'id': '7kwEvDE8e7EBGKh5bLczqQ', 'name': 'Anthem Lights', 'type': 'artist', 'uri': 'spotify:artist:7kwEvDE8e7EBGKh5bLczqQ'}], 'available_markets': ['AD', 'AE', 'AG', 'AL', 'AM', 'AR', 'AT', 'AU', 'AZ', 'BA', 'BB', 'BD', 'BE', 'BF', 'BG', 'BH', 'BI', 'BN', 'BO', 'BR', 'BS', 'BT', 'BW', 'BY', 'BZ', 'CA', 'CH', 'CL', 'CM', 'CO', 'CR', 'CV', 'CW', 'CY', 'CZ', 'DE', 'DK', 'DM', 'DO', 'DZ', 'EC', 'EE', 'EG', 'ES', 'FI', 'FJ', 'FM', 'FR', 'GA', 'GB', 'GD', 'GE', 'GH', 'GM', 'GN', 'GQ', 'GR', 'GT', 'GW', 'GY', 'HK', 'HN', 'HR', 'HT', 'HU', 'ID', 'IE', 'IL', 'IN', 'IS', 'IT', 'JM', 'JO', 'JP', 'KE', 'KG', 'KH', 'KI', 'KM', 'KN', 'KR', 'KW', 'KZ', 'LA', 'LB', 'LC', 'LI', 'LK', 'LR', 'LS', 'LT', 'LU', 'LV', 'MA', 'MC', 'MD', 'ME', 'MH', 'MK', 'ML', 'MN', 'MO', 'MR', 'MT', 'MV', 'MW', 'MX', 'MY', 'NA', 'NE', 'NG', 'NI', 'NL', 'NO', 'NP', 'NR', 'NZ', 'OM', 'PA', 'PE', 'PG', 'PH', 'PK', 'PL', 'PS', 'PT', 'PW', 'PY', 'QA', 'RO', 'RS', 'RU', 'RW', 'SA', 'SB', 'SC', 'SE', 'SG', 'SI', 'SK', 'SL', 'SM', 'SN', 'SR', 'ST', 'SV', 'SZ', 'TD', 'TG', 'TH', 'TL', 'TN', 'TO', 'TR', 'TT', 'TV', 'TW', 'TZ', 'UA', 'UG', 'US', 'UY', 'UZ', 'VC', 'VN', 'VU', 'WS', 'XK', 'ZA', 'ZW'], 'disc_number': 1, 'duration_ms': 182287, 'explicit': False, 'external_ids': {'isrc': 'TCACE1502415'}, 'external_urls': {'spotify': 'https://open.spotify.com/track/5rJw9VsPNdfnV9Ar97xZG2'}, 'href': 'https://api.spotify.com/v1/tracks/5rJw9VsPNdfnV9Ar97xZG2', 'id': '5rJw9VsPNdfnV9Ar97xZG2', 'is_local': False, 'name': 'K-LOVE Fan Awards: Songs of the Year (2015 Mash-Up)', 'popularity': 33, 'preview_url': 'https://p.scdn.co/mp3-preview/4fe264f075e1cf1eb8f1fcc3285688b3f84e34b4?cid=85620ab821774af180acfd6959f0d6a9', 'track_number': 1, 'type': 'track', 'uri': 'spotify:track:5rJw9VsPNdfnV9Ar97xZG2'}], 'limit': 10, 'next': 'https://api.spotify.com/v1/search?query=year%3A2018&type=track&offset=10&limit=10', 'offset': 0, 'previous': None, 'total': 258564}}\n"
     ]
    }
   ],
   "source": [
    "for i in range (0,2):\n",
    "    track_results = sp.search(q='year:2018', type='track')\n",
    "    print(track_results)\n",
    "\n",
    "# artist_name = []\n",
    "# track_name = []\n",
    "# popularity = []\n",
    "# track_id = []\n",
    "# for i in range(0,10000,50):\n",
    "#     track_results = sp.search(q='year:2018', type='track', limit=50,offset=i)\n",
    "#     for i, t in enumerate(track_results['tracks']['items']):\n",
    "#         artist_name.append(t['artists'][0]['name'])\n",
    "#         track_name.append(t['name'])\n",
    "#         track_id.append(t['id'])\n",
    "#         popularity.append(t['popularity'])"
   ]
  },
  {
   "cell_type": "code",
   "execution_count": 13,
   "metadata": {},
   "outputs": [
    {
     "output_type": "execute_result",
     "data": {
      "text/plain": [
       "                                                     tracks\n",
       "href      https://api.spotify.com/v1/search?query=year%3...\n",
       "items     [{'album': {'album_type': 'album', 'artists': ...\n",
       "limit                                                    10\n",
       "next      https://api.spotify.com/v1/search?query=year%3...\n",
       "offset                                                    0\n",
       "previous                                               None\n",
       "total                                                258564"
      ],
      "text/html": "<div>\n<style scoped>\n    .dataframe tbody tr th:only-of-type {\n        vertical-align: middle;\n    }\n\n    .dataframe tbody tr th {\n        vertical-align: top;\n    }\n\n    .dataframe thead th {\n        text-align: right;\n    }\n</style>\n<table border=\"1\" class=\"dataframe\">\n  <thead>\n    <tr style=\"text-align: right;\">\n      <th></th>\n      <th>tracks</th>\n    </tr>\n  </thead>\n  <tbody>\n    <tr>\n      <th>href</th>\n      <td>https://api.spotify.com/v1/search?query=year%3...</td>\n    </tr>\n    <tr>\n      <th>items</th>\n      <td>[{'album': {'album_type': 'album', 'artists': ...</td>\n    </tr>\n    <tr>\n      <th>limit</th>\n      <td>10</td>\n    </tr>\n    <tr>\n      <th>next</th>\n      <td>https://api.spotify.com/v1/search?query=year%3...</td>\n    </tr>\n    <tr>\n      <th>offset</th>\n      <td>0</td>\n    </tr>\n    <tr>\n      <th>previous</th>\n      <td>None</td>\n    </tr>\n    <tr>\n      <th>total</th>\n      <td>258564</td>\n    </tr>\n  </tbody>\n</table>\n</div>"
     },
     "metadata": {},
     "execution_count": 13
    }
   ],
   "source": [
    "#Load dictionary into panda dataframe\n",
    "pd.DataFrame.from_dict(track_results)"
   ]
  },
  {
   "cell_type": "code",
   "execution_count": 21,
   "metadata": {
    "tags": []
   },
   "outputs": [
    {
     "output_type": "stream",
     "name": "stdout",
     "text": [
      "{'artists': {'href': 'https://api.spotify.com/v1/search?query=year%3A2020&type=artist&offset=0&limit=10', 'items': [{'external_urls': {'spotify': 'https://open.spotify.com/artist/3TVXtAsR1Inumwj472S9r4'}, 'followers': {'href': None, 'total': 53599263}, 'genres': ['canadian hip hop', 'canadian pop', 'hip hop', 'pop rap', 'rap', 'toronto rap'], 'href': 'https://api.spotify.com/v1/artists/3TVXtAsR1Inumwj472S9r4', 'id': '3TVXtAsR1Inumwj472S9r4', 'images': [{'height': 640, 'url': 'https://i.scdn.co/image/60cfab40c6bb160a1906be45276829d430058005', 'width': 640}, {'height': 320, 'url': 'https://i.scdn.co/image/5ea794cf832550943d5f8122afcf5f23ee9d85b7', 'width': 320}, {'height': 160, 'url': 'https://i.scdn.co/image/8eaace74aaca82eaccde400bbcab2653b9cf86e1', 'width': 160}], 'name': 'Drake', 'popularity': 99, 'type': 'artist', 'uri': 'spotify:artist:3TVXtAsR1Inumwj472S9r4'}, {'external_urls': {'spotify': 'https://open.spotify.com/artist/6JMGrupbzJZ3yuQhTGyeHr'}, 'followers': {'href': None, 'total': 4654}, 'genres': ['scorecore'], 'href': 'https://api.spotify.com/v1/artists/6JMGrupbzJZ3yuQhTGyeHr', 'id': '6JMGrupbzJZ3yuQhTGyeHr', 'images': [{'height': 640, 'url': 'https://i.scdn.co/image/ab67616d0000b273990d9b2be770804da6a82c2b', 'width': 640}, {'height': 300, 'url': 'https://i.scdn.co/image/ab67616d00001e02990d9b2be770804da6a82c2b', 'width': 300}, {'height': 64, 'url': 'https://i.scdn.co/image/ab67616d00004851990d9b2be770804da6a82c2b', 'width': 64}], 'name': 'Year 200X', 'popularity': 23, 'type': 'artist', 'uri': 'spotify:artist:6JMGrupbzJZ3yuQhTGyeHr'}, {'external_urls': {'spotify': 'https://open.spotify.com/artist/4MCBfE4596Uoi2O4DtmEMz'}, 'followers': {'href': None, 'total': 16441132}, 'genres': ['chicago rap', 'melodic rap'], 'href': 'https://api.spotify.com/v1/artists/4MCBfE4596Uoi2O4DtmEMz', 'id': '4MCBfE4596Uoi2O4DtmEMz', 'images': [{'height': 640, 'url': 'https://i.scdn.co/image/d8e62447a338a882b490460da20e90aac6d60ae7', 'width': 640}, {'height': 320, 'url': 'https://i.scdn.co/image/f356b341ebf9094c19d8f67f8bcb2dfe3ae9cdcf', 'width': 320}, {'height': 160, 'url': 'https://i.scdn.co/image/cdc83cb2d6bb6be1983aec3db35431a91248a220', 'width': 160}], 'name': 'Juice WRLD', 'popularity': 98, 'type': 'artist', 'uri': 'spotify:artist:4MCBfE4596Uoi2O4DtmEMz'}, {'external_urls': {'spotify': 'https://open.spotify.com/artist/1tK1SGYWdB9UhYKiMiRLtb'}, 'followers': {'href': None, 'total': 29}, 'genres': [], 'href': 'https://api.spotify.com/v1/artists/1tK1SGYWdB9UhYKiMiRLtb', 'id': '1tK1SGYWdB9UhYKiMiRLtb', 'images': [{'height': 640, 'url': 'https://i.scdn.co/image/ab67616d0000b273b7098fc026dbcda45f167822', 'width': 640}, {'height': 300, 'url': 'https://i.scdn.co/image/ab67616d00001e02b7098fc026dbcda45f167822', 'width': 300}, {'height': 64, 'url': 'https://i.scdn.co/image/ab67616d00004851b7098fc026dbcda45f167822', 'width': 64}], 'name': 'HCS Year12 2020', 'popularity': 0, 'type': 'artist', 'uri': 'spotify:artist:1tK1SGYWdB9UhYKiMiRLtb'}, {'external_urls': {'spotify': 'https://open.spotify.com/artist/06HL4z0CvFAxyc27GXpf02'}, 'followers': {'href': None, 'total': 37667674}, 'genres': ['dance pop', 'pop', 'pop dance'], 'href': 'https://api.spotify.com/v1/artists/06HL4z0CvFAxyc27GXpf02', 'id': '06HL4z0CvFAxyc27GXpf02', 'images': [{'height': 640, 'url': 'https://i.scdn.co/image/8389f45cac7a58e3ab67a3bdeb5b4a0f9d8f7919', 'width': 640}, {'height': 320, 'url': 'https://i.scdn.co/image/ca417f738fca37ef08447d45f9c32e2650f48a86', 'width': 320}, {'height': 160, 'url': 'https://i.scdn.co/image/02e96fdf26f6a3b1d435f163831ea50f7d2abb55', 'width': 160}], 'name': 'Taylor Swift', 'popularity': 98, 'type': 'artist', 'uri': 'spotify:artist:06HL4z0CvFAxyc27GXpf02'}, {'external_urls': {'spotify': 'https://open.spotify.com/artist/0JYjN3WvQHlIa5Mz83GJ4B'}, 'followers': {'href': None, 'total': 11}, 'genres': [], 'href': 'https://api.spotify.com/v1/artists/0JYjN3WvQHlIa5Mz83GJ4B', 'id': '0JYjN3WvQHlIa5Mz83GJ4B', 'images': [], 'name': 'Nominee Anthology of the Year 2000', 'popularity': 14, 'type': 'artist', 'uri': 'spotify:artist:0JYjN3WvQHlIa5Mz83GJ4B'}, {'external_urls': {'spotify': 'https://open.spotify.com/artist/4oUHIQIBe0LHzYfvXNW4QM'}, 'followers': {'href': None, 'total': 1517142}, 'genres': ['contemporary country', 'deep talent show'], 'href': 'https://api.spotify.com/v1/artists/4oUHIQIBe0LHzYfvXNW4QM', 'id': '4oUHIQIBe0LHzYfvXNW4QM', 'images': [{'height': 640, 'url': 'https://i.scdn.co/image/e9d5e31ed250f9eb331f17571a9a803cb41cf6c5', 'width': 640}, {'height': 320, 'url': 'https://i.scdn.co/image/2c68e0cbe59817fa728177d96ec3bfd3ed3833e3', 'width': 320}, {'height': 160, 'url': 'https://i.scdn.co/image/90cbd35d2e21315a122e79abf35babcd1c34e229', 'width': 160}], 'name': 'Morgan Wallen', 'popularity': 91, 'type': 'artist', 'uri': 'spotify:artist:4oUHIQIBe0LHzYfvXNW4QM'}, {'external_urls': {'spotify': 'https://open.spotify.com/artist/71yXiGWhadr7u3giWM7Aqa'}, 'followers': {'href': None, 'total': 71}, 'genres': [], 'href': 'https://api.spotify.com/v1/artists/71yXiGWhadr7u3giWM7Aqa', 'id': '71yXiGWhadr7u3giWM7Aqa', 'images': [{'height': 640, 'url': 'https://i.scdn.co/image/ab67616d0000b273041de08d5b69536859a0e579', 'width': 640}, {'height': 300, 'url': 'https://i.scdn.co/image/ab67616d00001e02041de08d5b69536859a0e579', 'width': 300}, {'height': 64, 'url': 'https://i.scdn.co/image/ab67616d00004851041de08d5b69536859a0e579', 'width': 64}], 'name': 'BRANDNEW YEAR 2020: BRANDNEW UP', 'popularity': 0, 'type': 'artist', 'uri': 'spotify:artist:71yXiGWhadr7u3giWM7Aqa'}, {'external_urls': {'spotify': 'https://open.spotify.com/artist/5f7VJjfbwm532GiveGC0ZK'}, 'followers': {'href': None, 'total': 6424508}, 'genres': ['atl hip hop', 'atl trap', 'rap', 'trap'], 'href': 'https://api.spotify.com/v1/artists/5f7VJjfbwm532GiveGC0ZK', 'id': '5f7VJjfbwm532GiveGC0ZK', 'images': [{'height': 640, 'url': 'https://i.scdn.co/image/56b6de5bda0459783c9e59b06efa45a14904ad06', 'width': 640}, {'height': 320, 'url': 'https://i.scdn.co/image/618f9c969cbda7a5924cbf17c6ef1f9921135c81', 'width': 320}, {'height': 160, 'url': 'https://i.scdn.co/image/962158d2e2a763c16aea50e738f798cf59c39fc3', 'width': 160}], 'name': 'Lil Baby', 'popularity': 94, 'type': 'artist', 'uri': 'spotify:artist:5f7VJjfbwm532GiveGC0ZK'}, {'external_urls': {'spotify': 'https://open.spotify.com/artist/1Xyo4u8uXC1ZmMpatF05PJ'}, 'followers': {'href': None, 'total': 29881504}, 'genres': ['canadian contemporary r&b', 'canadian pop', 'pop'], 'href': 'https://api.spotify.com/v1/artists/1Xyo4u8uXC1ZmMpatF05PJ', 'id': '1Xyo4u8uXC1ZmMpatF05PJ', 'images': [{'height': 640, 'url': 'https://i.scdn.co/image/37376dba0623c33923eae9d234e5e199b76d227f', 'width': 640}, {'height': 320, 'url': 'https://i.scdn.co/image/bf5643a4223bb6483f5b0b981bce1cf7b5f92f84', 'width': 320}, {'height': 160, 'url': 'https://i.scdn.co/image/8a188b7236f3c78416a3f75c9da52957ed3bcb9b', 'width': 160}], 'name': 'The Weeknd', 'popularity': 98, 'type': 'artist', 'uri': 'spotify:artist:1Xyo4u8uXC1ZmMpatF05PJ'}], 'limit': 10, 'next': 'https://api.spotify.com/v1/search?query=year%3A2020&type=artist&offset=10&limit=10', 'offset': 0, 'previous': None, 'total': 10004}}\n"
     ]
    },
    {
     "output_type": "error",
     "ename": "KeyError",
     "evalue": "'items'",
     "traceback": [
      "\u001b[0;31m---------------------------------------------------------------------------\u001b[0m",
      "\u001b[0;31mKeyError\u001b[0m                                  Traceback (most recent call last)",
      "\u001b[0;32m<ipython-input-21-12037d980d19>\u001b[0m in \u001b[0;36m<module>\u001b[0;34m\u001b[0m\n\u001b[1;32m      3\u001b[0m     \u001b[0mprint\u001b[0m\u001b[0;34m(\u001b[0m\u001b[0mtrack_results\u001b[0m\u001b[0;34m)\u001b[0m\u001b[0;34m\u001b[0m\u001b[0;34m\u001b[0m\u001b[0m\n\u001b[1;32m      4\u001b[0m \u001b[0;34m\u001b[0m\u001b[0m\n\u001b[0;32m----> 5\u001b[0;31m \u001b[0mtrack_results\u001b[0m\u001b[0;34m[\u001b[0m\u001b[0;34m'items'\u001b[0m\u001b[0;34m]\u001b[0m\u001b[0;34m\u001b[0m\u001b[0;34m\u001b[0m\u001b[0m\n\u001b[0m",
      "\u001b[0;31mKeyError\u001b[0m: 'items'"
     ]
    }
   ],
   "source": [
    "for i in range (0,1):\n",
    "    track_results = sp.search(q='year:2020', type='artist')\n",
    "    print(track_results)\n",
    "\n",
    "track_results['items']"
   ]
  },
  {
   "cell_type": "code",
   "execution_count": null,
   "metadata": {},
   "outputs": [],
   "source": []
  }
 ]
}