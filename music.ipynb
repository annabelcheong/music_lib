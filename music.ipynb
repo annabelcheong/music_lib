{
 "metadata": {
  "language_info": {
   "codemirror_mode": {
    "name": "ipython",
    "version": 3
   },
   "file_extension": ".py",
   "mimetype": "text/x-python",
   "name": "python",
   "nbconvert_exporter": "python",
   "pygments_lexer": "ipython3",
   "version": "3.6.10-final"
  },
  "orig_nbformat": 2,
  "kernelspec": {
   "name": "python3",
   "display_name": "Python 3.6.10 64-bit ('PythonData': conda)",
   "metadata": {
    "interpreter": {
     "hash": "e7fc2354c13015bdfad1755b4a48a3eeb5cb703f1c2bff07599d6953b8d3ca77"
    }
   }
  }
 },
 "nbformat": 4,
 "nbformat_minor": 2,
 "cells": [
  {
   "source": [
    "- Spotify CSV File: data.csv\n",
    "- Spotify API: https://developer.spotify.com/documentation/web-api/reference/#endpoint-get-audio-features\n",
    "* .gitignore file contains config.py file to store the spotify API client username and password. "
   ],
   "cell_type": "markdown",
   "metadata": {}
  },
  {
   "cell_type": "code",
   "execution_count": 1,
   "metadata": {},
   "outputs": [],
   "source": [
    "#Dependencies\n",
    "import pandas as pd\n",
    "from sqlalchemy import create_engine"
   ]
  },
  {
   "source": [
    "SPOTIFY CSV FILE - Extract and Transform"
   ],
   "cell_type": "markdown",
   "metadata": {}
  },
  {
   "source": [
    "\n",
    "\n",
    "Extract CSV into DataFrames"
   ],
   "cell_type": "markdown",
   "metadata": {}
  },
  {
   "cell_type": "code",
   "execution_count": 2,
   "metadata": {},
   "outputs": [],
   "source": [
    "spotify_csv = \"resources/data.csv\""
   ]
  },
  {
   "source": [
    "Transform CSV DataFrame"
   ],
   "cell_type": "markdown",
   "metadata": {}
  },
  {
   "cell_type": "code",
   "execution_count": 3,
   "metadata": {},
   "outputs": [
    {
     "output_type": "execute_result",
     "data": {
      "text/plain": [
       "   acousticness                    artists  danceability  duration_ms  energy  \\\n",
       "0      0.991000            ['Mamie Smith']         0.598       168333   0.224   \n",
       "1      0.643000  [\"Screamin' Jay Hawkins\"]         0.852       150200   0.517   \n",
       "2      0.993000            ['Mamie Smith']         0.647       163827   0.186   \n",
       "3      0.000173        ['Oscar Velazquez']         0.730       422087   0.798   \n",
       "4      0.295000                   ['Mixe']         0.704       165224   0.707   \n",
       "\n",
       "   explicit                      id  instrumentalness  key  liveness  \\\n",
       "0         0  0cS0A1fUEUd1EW3FcF8AEI          0.000522    5    0.3790   \n",
       "1         0  0hbkKFIJm7Z05H8Zl9w30f          0.026400    5    0.0809   \n",
       "2         0  11m7laMUgmOKqI3oYzuhne          0.000018    0    0.5190   \n",
       "3         0  19Lc5SfJJ5O1oaxY0fpwfh          0.801000    2    0.1280   \n",
       "4         1  2hJjbsLCytGsnAHfdsLejp          0.000246   10    0.4020   \n",
       "\n",
       "   loudness  mode                                               name  \\\n",
       "0   -12.628     0                           Keep A Song In Your Soul   \n",
       "1    -7.261     0                               I Put A Spell On You   \n",
       "2   -12.098     1                                       Golfing Papa   \n",
       "3    -7.311     1  True House Music - Xavier Santos & Carlos Gomi...   \n",
       "4    -6.036     0                                          Xuniverxe   \n",
       "\n",
       "   popularity release_date  speechiness    tempo  valence  year  \n",
       "0          12         1920       0.0936  149.976   0.6340  1920  \n",
       "1           7   1920-01-05       0.0534   86.889   0.9500  1920  \n",
       "2           4         1920       0.1740   97.600   0.6890  1920  \n",
       "3          17   1920-01-01       0.0425  127.997   0.0422  1920  \n",
       "4           2   1920-10-01       0.0768  122.076   0.2990  1920  "
      ],
      "text/html": "<div>\n<style scoped>\n    .dataframe tbody tr th:only-of-type {\n        vertical-align: middle;\n    }\n\n    .dataframe tbody tr th {\n        vertical-align: top;\n    }\n\n    .dataframe thead th {\n        text-align: right;\n    }\n</style>\n<table border=\"1\" class=\"dataframe\">\n  <thead>\n    <tr style=\"text-align: right;\">\n      <th></th>\n      <th>acousticness</th>\n      <th>artists</th>\n      <th>danceability</th>\n      <th>duration_ms</th>\n      <th>energy</th>\n      <th>explicit</th>\n      <th>id</th>\n      <th>instrumentalness</th>\n      <th>key</th>\n      <th>liveness</th>\n      <th>loudness</th>\n      <th>mode</th>\n      <th>name</th>\n      <th>popularity</th>\n      <th>release_date</th>\n      <th>speechiness</th>\n      <th>tempo</th>\n      <th>valence</th>\n      <th>year</th>\n    </tr>\n  </thead>\n  <tbody>\n    <tr>\n      <th>0</th>\n      <td>0.991000</td>\n      <td>['Mamie Smith']</td>\n      <td>0.598</td>\n      <td>168333</td>\n      <td>0.224</td>\n      <td>0</td>\n      <td>0cS0A1fUEUd1EW3FcF8AEI</td>\n      <td>0.000522</td>\n      <td>5</td>\n      <td>0.3790</td>\n      <td>-12.628</td>\n      <td>0</td>\n      <td>Keep A Song In Your Soul</td>\n      <td>12</td>\n      <td>1920</td>\n      <td>0.0936</td>\n      <td>149.976</td>\n      <td>0.6340</td>\n      <td>1920</td>\n    </tr>\n    <tr>\n      <th>1</th>\n      <td>0.643000</td>\n      <td>[\"Screamin' Jay Hawkins\"]</td>\n      <td>0.852</td>\n      <td>150200</td>\n      <td>0.517</td>\n      <td>0</td>\n      <td>0hbkKFIJm7Z05H8Zl9w30f</td>\n      <td>0.026400</td>\n      <td>5</td>\n      <td>0.0809</td>\n      <td>-7.261</td>\n      <td>0</td>\n      <td>I Put A Spell On You</td>\n      <td>7</td>\n      <td>1920-01-05</td>\n      <td>0.0534</td>\n      <td>86.889</td>\n      <td>0.9500</td>\n      <td>1920</td>\n    </tr>\n    <tr>\n      <th>2</th>\n      <td>0.993000</td>\n      <td>['Mamie Smith']</td>\n      <td>0.647</td>\n      <td>163827</td>\n      <td>0.186</td>\n      <td>0</td>\n      <td>11m7laMUgmOKqI3oYzuhne</td>\n      <td>0.000018</td>\n      <td>0</td>\n      <td>0.5190</td>\n      <td>-12.098</td>\n      <td>1</td>\n      <td>Golfing Papa</td>\n      <td>4</td>\n      <td>1920</td>\n      <td>0.1740</td>\n      <td>97.600</td>\n      <td>0.6890</td>\n      <td>1920</td>\n    </tr>\n    <tr>\n      <th>3</th>\n      <td>0.000173</td>\n      <td>['Oscar Velazquez']</td>\n      <td>0.730</td>\n      <td>422087</td>\n      <td>0.798</td>\n      <td>0</td>\n      <td>19Lc5SfJJ5O1oaxY0fpwfh</td>\n      <td>0.801000</td>\n      <td>2</td>\n      <td>0.1280</td>\n      <td>-7.311</td>\n      <td>1</td>\n      <td>True House Music - Xavier Santos &amp; Carlos Gomi...</td>\n      <td>17</td>\n      <td>1920-01-01</td>\n      <td>0.0425</td>\n      <td>127.997</td>\n      <td>0.0422</td>\n      <td>1920</td>\n    </tr>\n    <tr>\n      <th>4</th>\n      <td>0.295000</td>\n      <td>['Mixe']</td>\n      <td>0.704</td>\n      <td>165224</td>\n      <td>0.707</td>\n      <td>1</td>\n      <td>2hJjbsLCytGsnAHfdsLejp</td>\n      <td>0.000246</td>\n      <td>10</td>\n      <td>0.4020</td>\n      <td>-6.036</td>\n      <td>0</td>\n      <td>Xuniverxe</td>\n      <td>2</td>\n      <td>1920-10-01</td>\n      <td>0.0768</td>\n      <td>122.076</td>\n      <td>0.2990</td>\n      <td>1920</td>\n    </tr>\n  </tbody>\n</table>\n</div>"
     },
     "metadata": {},
     "execution_count": 3
    }
   ],
   "source": [
    "csv_df = pd.read_csv(spotify_csv)\n",
    "csv_df.head()\n",
    "# Keep columns: id, name, artist, key, tempo, year, popularity"
   ]
  },
  {
   "cell_type": "code",
   "execution_count": 4,
   "metadata": {},
   "outputs": [
    {
     "output_type": "execute_result",
     "data": {
      "text/plain": [
       "                            id  \\\n",
       "0       0cS0A1fUEUd1EW3FcF8AEI   \n",
       "1       0hbkKFIJm7Z05H8Zl9w30f   \n",
       "2       11m7laMUgmOKqI3oYzuhne   \n",
       "3       19Lc5SfJJ5O1oaxY0fpwfh   \n",
       "4       2hJjbsLCytGsnAHfdsLejp   \n",
       "...                        ...   \n",
       "174379  45XnLMuqf3vRfskEAMUeCH   \n",
       "174381  4pPFI9jsguIh3wC7Otoyy8   \n",
       "174383  52YtxLVUyvtiGPxwwxayHZ   \n",
       "174385  7tue2Wemjd0FZzRtDrQFZd   \n",
       "174387  1gcyHQpBQ1lfXGdhZmWrHP   \n",
       "\n",
       "                                                   s_name  \\\n",
       "0                                Keep A Song In Your Soul   \n",
       "1                                    I Put A Spell On You   \n",
       "2                                            Golfing Papa   \n",
       "3       True House Music - Xavier Santos & Carlos Gomi...   \n",
       "4                                               Xuniverxe   \n",
       "...                                                   ...   \n",
       "174379                                      A Little More   \n",
       "174381                                      A Little More   \n",
       "174383                                      A Little More   \n",
       "174385                                      A Little More   \n",
       "174387                                 champagne problems   \n",
       "\n",
       "                         s_artist  s_key  s_tempo  s_year  s_popularity  \n",
       "0                 ['Mamie Smith']      5  149.976    1920            12  \n",
       "1       [\"Screamin' Jay Hawkins\"]      5   86.889    1920             7  \n",
       "2                 ['Mamie Smith']      0   97.600    1920             4  \n",
       "3             ['Oscar Velazquez']      2  127.997    1920            17  \n",
       "4                        ['Mixe']     10  122.076    1920             2  \n",
       "...                           ...    ...      ...     ...           ...  \n",
       "174379           ['Alessia Cara']      4   94.710    2021             0  \n",
       "174381           ['Alessia Cara']      4   94.710    2021             0  \n",
       "174383           ['Alessia Cara']      4   94.710    2021             0  \n",
       "174385           ['Alessia Cara']      4   94.710    2021             0  \n",
       "174387           ['Taylor Swift']      0  171.319    2021            69  \n",
       "\n",
       "[172230 rows x 7 columns]"
      ],
      "text/html": "<div>\n<style scoped>\n    .dataframe tbody tr th:only-of-type {\n        vertical-align: middle;\n    }\n\n    .dataframe tbody tr th {\n        vertical-align: top;\n    }\n\n    .dataframe thead th {\n        text-align: right;\n    }\n</style>\n<table border=\"1\" class=\"dataframe\">\n  <thead>\n    <tr style=\"text-align: right;\">\n      <th></th>\n      <th>id</th>\n      <th>s_name</th>\n      <th>s_artist</th>\n      <th>s_key</th>\n      <th>s_tempo</th>\n      <th>s_year</th>\n      <th>s_popularity</th>\n    </tr>\n  </thead>\n  <tbody>\n    <tr>\n      <th>0</th>\n      <td>0cS0A1fUEUd1EW3FcF8AEI</td>\n      <td>Keep A Song In Your Soul</td>\n      <td>['Mamie Smith']</td>\n      <td>5</td>\n      <td>149.976</td>\n      <td>1920</td>\n      <td>12</td>\n    </tr>\n    <tr>\n      <th>1</th>\n      <td>0hbkKFIJm7Z05H8Zl9w30f</td>\n      <td>I Put A Spell On You</td>\n      <td>[\"Screamin' Jay Hawkins\"]</td>\n      <td>5</td>\n      <td>86.889</td>\n      <td>1920</td>\n      <td>7</td>\n    </tr>\n    <tr>\n      <th>2</th>\n      <td>11m7laMUgmOKqI3oYzuhne</td>\n      <td>Golfing Papa</td>\n      <td>['Mamie Smith']</td>\n      <td>0</td>\n      <td>97.600</td>\n      <td>1920</td>\n      <td>4</td>\n    </tr>\n    <tr>\n      <th>3</th>\n      <td>19Lc5SfJJ5O1oaxY0fpwfh</td>\n      <td>True House Music - Xavier Santos &amp; Carlos Gomi...</td>\n      <td>['Oscar Velazquez']</td>\n      <td>2</td>\n      <td>127.997</td>\n      <td>1920</td>\n      <td>17</td>\n    </tr>\n    <tr>\n      <th>4</th>\n      <td>2hJjbsLCytGsnAHfdsLejp</td>\n      <td>Xuniverxe</td>\n      <td>['Mixe']</td>\n      <td>10</td>\n      <td>122.076</td>\n      <td>1920</td>\n      <td>2</td>\n    </tr>\n    <tr>\n      <th>...</th>\n      <td>...</td>\n      <td>...</td>\n      <td>...</td>\n      <td>...</td>\n      <td>...</td>\n      <td>...</td>\n      <td>...</td>\n    </tr>\n    <tr>\n      <th>174379</th>\n      <td>45XnLMuqf3vRfskEAMUeCH</td>\n      <td>A Little More</td>\n      <td>['Alessia Cara']</td>\n      <td>4</td>\n      <td>94.710</td>\n      <td>2021</td>\n      <td>0</td>\n    </tr>\n    <tr>\n      <th>174381</th>\n      <td>4pPFI9jsguIh3wC7Otoyy8</td>\n      <td>A Little More</td>\n      <td>['Alessia Cara']</td>\n      <td>4</td>\n      <td>94.710</td>\n      <td>2021</td>\n      <td>0</td>\n    </tr>\n    <tr>\n      <th>174383</th>\n      <td>52YtxLVUyvtiGPxwwxayHZ</td>\n      <td>A Little More</td>\n      <td>['Alessia Cara']</td>\n      <td>4</td>\n      <td>94.710</td>\n      <td>2021</td>\n      <td>0</td>\n    </tr>\n    <tr>\n      <th>174385</th>\n      <td>7tue2Wemjd0FZzRtDrQFZd</td>\n      <td>A Little More</td>\n      <td>['Alessia Cara']</td>\n      <td>4</td>\n      <td>94.710</td>\n      <td>2021</td>\n      <td>0</td>\n    </tr>\n    <tr>\n      <th>174387</th>\n      <td>1gcyHQpBQ1lfXGdhZmWrHP</td>\n      <td>champagne problems</td>\n      <td>['Taylor Swift']</td>\n      <td>0</td>\n      <td>171.319</td>\n      <td>2021</td>\n      <td>69</td>\n    </tr>\n  </tbody>\n</table>\n<p>172230 rows × 7 columns</p>\n</div>"
     },
     "metadata": {},
     "execution_count": 4
    }
   ],
   "source": [
    "# Select only the columns required\n",
    "new_csv_df = csv_df[['id','name', 'artists','key','tempo','year','popularity']].copy()\n",
    "new_csv_df.head()\n",
    "\n",
    "# Drop ids with duplicates to ensure no double up\n",
    "new_csv_df = new_csv_df.drop_duplicates(subset=['id'])\n",
    "\n",
    "# TEST: new_csv_df.info()\n",
    "# There are 174389 row entries before drop duplicates\n",
    "# There are 172230 row entries after drop duplicates\n",
    "\n",
    "# Rename columns\n",
    "new_csv_df=new_csv_df.rename(columns={'name':'s_name', 'artists': 's_artist','key':'s_key','tempo':'s_tempo','year':'s_year','popularity':'s_popularity'})\n",
    "new_csv_df\n"
   ]
  },
  {
   "source": [
    "SPOTIFY API\n",
    "\n",
    "- Objective: To extract the time signature of all tracks on spotify"
   ],
   "cell_type": "markdown",
   "metadata": {}
  },
  {
   "cell_type": "code",
   "execution_count": 5,
   "metadata": {},
   "outputs": [],
   "source": [
    "#Dependences\n",
    "import spotipy\n",
    "from spotipy.oauth2 import SpotifyClientCredentials\n",
    "from config import *\n",
    "import requests\n",
    "# from config import cid\n",
    "# from config import secret"
   ]
  },
  {
   "cell_type": "code",
   "execution_count": 6,
   "metadata": {},
   "outputs": [],
   "source": [
    "CLIENT_ID = cid\n",
    "CLIENT_SECRET = secret\n",
    "\n",
    "AUTH_URL = 'https://accounts.spotify.com/api/token'\n",
    "\n",
    "# POST\n",
    "auth_response = requests.post(AUTH_URL, {\n",
    "    'grant_type': 'client_credentials',\n",
    "    'client_id': CLIENT_ID,\n",
    "    'client_secret': CLIENT_SECRET,\n",
    "})\n",
    "\n",
    "# convert the response to JSON\n",
    "auth_response_data = auth_response.json()\n",
    "\n",
    "# save the access token\n",
    "access_token = auth_response_data['access_token']\n",
    "\n",
    "headers = {\n",
    "    'Authorization': 'Bearer {token}'.format(token=access_token)\n",
    "}"
   ]
  },
  {
   "cell_type": "code",
   "execution_count": 7,
   "metadata": {},
   "outputs": [
    {
     "output_type": "stream",
     "name": "stdout",
     "text": [
      "Completed populating id_list.\n"
     ]
    }
   ],
   "source": [
    "id_list= []\n",
    "for index, row in csv_df.iterrows():\n",
    "    id_list.append(row['id'])\n",
    "    # print(row['id'])\n",
    "    # print(id_list)\n",
    "print('Completed populating id_list.')"
   ]
  },
  {
   "cell_type": "code",
   "execution_count": 13,
   "metadata": {
    "tags": []
   },
   "outputs": [
    {
     "output_type": "error",
     "ename": "KeyError",
     "evalue": "'id'",
     "traceback": [
      "\u001b[0;31m---------------------------------------------------------------------------\u001b[0m",
      "\u001b[0;31mKeyError\u001b[0m                                  Traceback (most recent call last)",
      "\u001b[0;32m<ipython-input-13-30805ce34710>\u001b[0m in \u001b[0;36m<module>\u001b[0;34m\u001b[0m\n\u001b[1;32m     19\u001b[0m         \u001b[0;31m# print(f\"time_signature: {r['time_signature']}\")\u001b[0m\u001b[0;34m\u001b[0m\u001b[0;34m\u001b[0m\u001b[0;34m\u001b[0m\u001b[0m\n\u001b[1;32m     20\u001b[0m         \u001b[0;31m# print('-------------------------')\u001b[0m\u001b[0;34m\u001b[0m\u001b[0;34m\u001b[0m\u001b[0;34m\u001b[0m\u001b[0m\n\u001b[0;32m---> 21\u001b[0;31m         \u001b[0mnew_song\u001b[0m \u001b[0;34m=\u001b[0m \u001b[0mr\u001b[0m\u001b[0;34m[\u001b[0m\u001b[0;34m'id'\u001b[0m\u001b[0;34m]\u001b[0m\u001b[0;34m,\u001b[0m\u001b[0mr\u001b[0m\u001b[0;34m[\u001b[0m\u001b[0;34m'time_signature'\u001b[0m\u001b[0;34m]\u001b[0m\u001b[0;34m\u001b[0m\u001b[0;34m\u001b[0m\u001b[0m\n\u001b[0m\u001b[1;32m     22\u001b[0m         \u001b[0mid_timesig\u001b[0m\u001b[0;34m.\u001b[0m\u001b[0mappend\u001b[0m\u001b[0;34m(\u001b[0m\u001b[0mnew_song\u001b[0m\u001b[0;34m)\u001b[0m\u001b[0;34m\u001b[0m\u001b[0;34m\u001b[0m\u001b[0m\n\u001b[1;32m     23\u001b[0m         \u001b[0mcount\u001b[0m\u001b[0;34m+=\u001b[0m\u001b[0;36m1\u001b[0m\u001b[0;34m\u001b[0m\u001b[0;34m\u001b[0m\u001b[0m\n",
      "\u001b[0;31mKeyError\u001b[0m: 'id'"
     ]
    }
   ],
   "source": [
    "id_timesig= []\n",
    "count=0\n",
    "\n",
    "# url = \"https://api.spotify.com/v1/audio-features/{id}\" \n",
    "BASE_URL = 'https://api.spotify.com/v1/'\n",
    "\n",
    "# for item in id_list[:5]:\n",
    "for item in id_list:\n",
    "    # Track ID from the URI\n",
    "    # track_id = '6y0igZArWVi6Iz0rj35c1Y'\n",
    "    track_id = item\n",
    "    # actual GET request with proper header\n",
    "    r = requests.get(BASE_URL + 'audio-features/' + track_id, headers=headers)\n",
    "    r = r.json()\n",
    "    # print(r)\n",
    "\n",
    "    try:\n",
    "        # print(f\"id: {r['id']}\")\n",
    "        # print(f\"time_signature: {r['time_signature']}\")\n",
    "        # print('-------------------------')\n",
    "        new_song = r['id'],r['time_signature']\n",
    "        id_timesig.append(new_song)\n",
    "        count+=1\n",
    "        # print(count)\n",
    "        if (count == 5000):\n",
    "            print('Achieved 5000 entries')\n",
    "        elif (count == 20000):\n",
    "            print('Achieved 20000 entries')\n",
    "        elif (count == 50000):\n",
    "            print('Achieved 50000 entries')\n",
    "        elif (count == 70000):\n",
    "            print('Achieved 70000 entries')\n",
    "        elif (count == 100000):\n",
    "            print('Achieved 100000 entries')\n",
    "        elif (count == 150000):\n",
    "            print('Achieved 150000 entries')\n",
    "\n",
    "    # except ValueError:\n",
    "    except ValueError or KeyError:\n",
    "        print(\"JSON Decode Error on id or time signature\")\n",
    "\n",
    "print(\"All ids and time signatures appended\")"
   ]
  },
  {
   "cell_type": "code",
   "execution_count": 23,
   "metadata": {},
   "outputs": [
    {
     "output_type": "execute_result",
     "data": {
      "text/plain": [
       "                           0  1\n",
       "0     0cS0A1fUEUd1EW3FcF8AEI  4\n",
       "1     0hbkKFIJm7Z05H8Zl9w30f  4\n",
       "2     11m7laMUgmOKqI3oYzuhne  4\n",
       "3     19Lc5SfJJ5O1oaxY0fpwfh  4\n",
       "4     2hJjbsLCytGsnAHfdsLejp  4\n",
       "...                      ... ..\n",
       "5817  5jSpy3KyBwLxruntfWbcDR  4\n",
       "5818  5ttXtQa7Ru0AlS9ox0v0kC  4\n",
       "5819  6cD744rp35E6G1XfVkoKj6  4\n",
       "5820  0KKOffDuUhWFxyrA4yCbom  4\n",
       "5821  0ZpkHcX2TPlKSFXnGh9l7I  4\n",
       "\n",
       "[5822 rows x 2 columns]"
      ],
      "text/html": "<div>\n<style scoped>\n    .dataframe tbody tr th:only-of-type {\n        vertical-align: middle;\n    }\n\n    .dataframe tbody tr th {\n        vertical-align: top;\n    }\n\n    .dataframe thead th {\n        text-align: right;\n    }\n</style>\n<table border=\"1\" class=\"dataframe\">\n  <thead>\n    <tr style=\"text-align: right;\">\n      <th></th>\n      <th>0</th>\n      <th>1</th>\n    </tr>\n  </thead>\n  <tbody>\n    <tr>\n      <th>0</th>\n      <td>0cS0A1fUEUd1EW3FcF8AEI</td>\n      <td>4</td>\n    </tr>\n    <tr>\n      <th>1</th>\n      <td>0hbkKFIJm7Z05H8Zl9w30f</td>\n      <td>4</td>\n    </tr>\n    <tr>\n      <th>2</th>\n      <td>11m7laMUgmOKqI3oYzuhne</td>\n      <td>4</td>\n    </tr>\n    <tr>\n      <th>3</th>\n      <td>19Lc5SfJJ5O1oaxY0fpwfh</td>\n      <td>4</td>\n    </tr>\n    <tr>\n      <th>4</th>\n      <td>2hJjbsLCytGsnAHfdsLejp</td>\n      <td>4</td>\n    </tr>\n    <tr>\n      <th>...</th>\n      <td>...</td>\n      <td>...</td>\n    </tr>\n    <tr>\n      <th>5817</th>\n      <td>5jSpy3KyBwLxruntfWbcDR</td>\n      <td>4</td>\n    </tr>\n    <tr>\n      <th>5818</th>\n      <td>5ttXtQa7Ru0AlS9ox0v0kC</td>\n      <td>4</td>\n    </tr>\n    <tr>\n      <th>5819</th>\n      <td>6cD744rp35E6G1XfVkoKj6</td>\n      <td>4</td>\n    </tr>\n    <tr>\n      <th>5820</th>\n      <td>0KKOffDuUhWFxyrA4yCbom</td>\n      <td>4</td>\n    </tr>\n    <tr>\n      <th>5821</th>\n      <td>0ZpkHcX2TPlKSFXnGh9l7I</td>\n      <td>4</td>\n    </tr>\n  </tbody>\n</table>\n<p>5822 rows × 2 columns</p>\n</div>"
     },
     "metadata": {},
     "execution_count": 23
    }
   ],
   "source": [
    "id_timesig_df = pd.DataFrame(id_timesig)\n",
    "id_timesig_df"
   ]
  },
  {
   "cell_type": "code",
   "execution_count": 36,
   "metadata": {},
   "outputs": [
    {
     "output_type": "execute_result",
     "data": {
      "text/plain": [
       "                          id  s_timesig\n",
       "0     0cS0A1fUEUd1EW3FcF8AEI          4\n",
       "1     0hbkKFIJm7Z05H8Zl9w30f          4\n",
       "2     11m7laMUgmOKqI3oYzuhne          4\n",
       "3     19Lc5SfJJ5O1oaxY0fpwfh          4\n",
       "4     2hJjbsLCytGsnAHfdsLejp          4\n",
       "...                      ...        ...\n",
       "5817  5jSpy3KyBwLxruntfWbcDR          4\n",
       "5818  5ttXtQa7Ru0AlS9ox0v0kC          4\n",
       "5819  6cD744rp35E6G1XfVkoKj6          4\n",
       "5820  0KKOffDuUhWFxyrA4yCbom          4\n",
       "5821  0ZpkHcX2TPlKSFXnGh9l7I          4\n",
       "\n",
       "[5822 rows x 2 columns]"
      ],
      "text/html": "<div>\n<style scoped>\n    .dataframe tbody tr th:only-of-type {\n        vertical-align: middle;\n    }\n\n    .dataframe tbody tr th {\n        vertical-align: top;\n    }\n\n    .dataframe thead th {\n        text-align: right;\n    }\n</style>\n<table border=\"1\" class=\"dataframe\">\n  <thead>\n    <tr style=\"text-align: right;\">\n      <th></th>\n      <th>id</th>\n      <th>s_timesig</th>\n    </tr>\n  </thead>\n  <tbody>\n    <tr>\n      <th>0</th>\n      <td>0cS0A1fUEUd1EW3FcF8AEI</td>\n      <td>4</td>\n    </tr>\n    <tr>\n      <th>1</th>\n      <td>0hbkKFIJm7Z05H8Zl9w30f</td>\n      <td>4</td>\n    </tr>\n    <tr>\n      <th>2</th>\n      <td>11m7laMUgmOKqI3oYzuhne</td>\n      <td>4</td>\n    </tr>\n    <tr>\n      <th>3</th>\n      <td>19Lc5SfJJ5O1oaxY0fpwfh</td>\n      <td>4</td>\n    </tr>\n    <tr>\n      <th>4</th>\n      <td>2hJjbsLCytGsnAHfdsLejp</td>\n      <td>4</td>\n    </tr>\n    <tr>\n      <th>...</th>\n      <td>...</td>\n      <td>...</td>\n    </tr>\n    <tr>\n      <th>5817</th>\n      <td>5jSpy3KyBwLxruntfWbcDR</td>\n      <td>4</td>\n    </tr>\n    <tr>\n      <th>5818</th>\n      <td>5ttXtQa7Ru0AlS9ox0v0kC</td>\n      <td>4</td>\n    </tr>\n    <tr>\n      <th>5819</th>\n      <td>6cD744rp35E6G1XfVkoKj6</td>\n      <td>4</td>\n    </tr>\n    <tr>\n      <th>5820</th>\n      <td>0KKOffDuUhWFxyrA4yCbom</td>\n      <td>4</td>\n    </tr>\n    <tr>\n      <th>5821</th>\n      <td>0ZpkHcX2TPlKSFXnGh9l7I</td>\n      <td>4</td>\n    </tr>\n  </tbody>\n</table>\n<p>5822 rows × 2 columns</p>\n</div>"
     },
     "metadata": {},
     "execution_count": 36
    }
   ],
   "source": [
    "id_timesig_df=id_timesig_df.rename(columns={0: \"id\", 1: \"s_timesig\"})\n",
    "#Save to csv file\n",
    "id_timesig_df.to_csv('resources/id_timesig_df.csv', index=False)\n",
    "id_timesig_df\n"
   ]
  },
  {
   "source": [
    "Load"
   ],
   "cell_type": "markdown",
   "metadata": {}
  },
  {
   "cell_type": "code",
   "execution_count": 18,
   "metadata": {},
   "outputs": [],
   "source": [
    "# Connect to local database\n",
    "rds_connection_string = \"postgres:postgres@localhost:5432/music_db\"\n",
    "engine = create_engine(f'postgresql://{rds_connection_string}')"
   ]
  },
  {
   "cell_type": "code",
   "execution_count": 19,
   "metadata": {},
   "outputs": [
    {
     "output_type": "execute_result",
     "data": {
      "text/plain": [
       "['spotify_api', 'spotify_csv']"
      ]
     },
     "metadata": {},
     "execution_count": 19
    }
   ],
   "source": [
    "# Create a music_db. Add the tables into postgres database as per schema.sql\n",
    "engine.table_names()"
   ]
  },
  {
   "cell_type": "code",
   "execution_count": 17,
   "metadata": {},
   "outputs": [
    {
     "output_type": "error",
     "ename": "IntegrityError",
     "evalue": "(psycopg2.errors.UniqueViolation) duplicate key value violates unique constraint \"spotify_csv_pkey\"\nDETAIL:  Key (id)=(0cS0A1fUEUd1EW3FcF8AEI) already exists.\n\n[SQL: INSERT INTO spotify_csv (id, s_name, s_artist, s_key, s_tempo, s_year, s_popularity) VALUES (%(id)s, %(s_name)s, %(s_artist)s, %(s_key)s, %(s_tempo)s, %(s_year)s, %(s_popularity)s)]\n[parameters: ({'id': '0cS0A1fUEUd1EW3FcF8AEI', 's_name': 'Keep A Song In Your Soul', 's_artist': \"['Mamie Smith']\", 's_key': 5, 's_tempo': 149.976, 's_year': 1920, 's_popularity': 12}, {'id': '0hbkKFIJm7Z05H8Zl9w30f', 's_name': 'I Put A Spell On You', 's_artist': '[\"Screamin\\' Jay Hawkins\"]', 's_key': 5, 's_tempo': 86.889, 's_year': 1920, 's_popularity': 7}, {'id': '11m7laMUgmOKqI3oYzuhne', 's_name': 'Golfing Papa', 's_artist': \"['Mamie Smith']\", 's_key': 0, 's_tempo': 97.6, 's_year': 1920, 's_popularity': 4}, {'id': '19Lc5SfJJ5O1oaxY0fpwfh', 's_name': 'True House Music - Xavier Santos & Carlos Gomix Remix', 's_artist': \"['Oscar Velazquez']\", 's_key': 2, 's_tempo': 127.997, 's_year': 1920, 's_popularity': 17}, {'id': '2hJjbsLCytGsnAHfdsLejp', 's_name': 'Xuniverxe', 's_artist': \"['Mixe']\", 's_key': 10, 's_tempo': 122.076, 's_year': 1920, 's_popularity': 2}, {'id': '3HnrHGLE9u2MjHtdobfWl9', 's_name': 'Crazy Blues - 78rpm Version', 's_artist': \"['Mamie Smith & Her Jazz Hounds']\", 's_key': 5, 's_tempo': 103.87, 's_year': 1920, 's_popularity': 9}, {'id': '5DlCyqLyX2AOVDTjjkDZ8x', 's_name': \"Don't You Advertise Your Man\", 's_artist': \"['Mamie Smith']\", 's_key': 5, 's_tempo': 85.652, 's_year': 1920, 's_popularity': 5}, {'id': '02FzJbHtqElixxCmrpSCUa', 's_name': 'Arkansas Blues', 's_artist': \"['Mamie Smith & Her Jazz Hounds']\", 's_key': 9, 's_tempo': 78.78399999999998, 's_year': 1920, 's_popularity': 0}  ... displaying 10 of 172230 total bound parameter sets ...  {'id': '7tue2Wemjd0FZzRtDrQFZd', 's_name': 'A Little More', 's_artist': \"['Alessia Cara']\", 's_key': 4, 's_tempo': 94.71, 's_year': 2021, 's_popularity': 0}, {'id': '1gcyHQpBQ1lfXGdhZmWrHP', 's_name': 'champagne problems', 's_artist': \"['Taylor Swift']\", 's_key': 0, 's_tempo': 171.31900000000005, 's_year': 2021, 's_popularity': 69})]\n(Background on this error at: http://sqlalche.me/e/13/gkpj)",
     "traceback": [
      "\u001b[0;31m---------------------------------------------------------------------------\u001b[0m",
      "\u001b[0;31mUniqueViolation\u001b[0m                           Traceback (most recent call last)",
      "\u001b[0;32m~/opt/anaconda3/envs/PythonData/lib/python3.6/site-packages/sqlalchemy/engine/base.py\u001b[0m in \u001b[0;36m_execute_context\u001b[0;34m(self, dialect, constructor, statement, parameters, *args)\u001b[0m\n\u001b[1;32m   1256\u001b[0m                     self.dialect.do_executemany(\n\u001b[0;32m-> 1257\u001b[0;31m                         \u001b[0mcursor\u001b[0m\u001b[0;34m,\u001b[0m \u001b[0mstatement\u001b[0m\u001b[0;34m,\u001b[0m \u001b[0mparameters\u001b[0m\u001b[0;34m,\u001b[0m \u001b[0mcontext\u001b[0m\u001b[0;34m\u001b[0m\u001b[0;34m\u001b[0m\u001b[0m\n\u001b[0m\u001b[1;32m   1258\u001b[0m                     )\n",
      "\u001b[0;32m~/opt/anaconda3/envs/PythonData/lib/python3.6/site-packages/sqlalchemy/dialects/postgresql/psycopg2.py\u001b[0m in \u001b[0;36mdo_executemany\u001b[0;34m(self, cursor, statement, parameters, context)\u001b[0m\n\u001b[1;32m    897\u001b[0m         \u001b[0;32mif\u001b[0m \u001b[0mself\u001b[0m\u001b[0;34m.\u001b[0m\u001b[0mexecutemany_mode\u001b[0m \u001b[0;32mis\u001b[0m \u001b[0mEXECUTEMANY_DEFAULT\u001b[0m\u001b[0;34m:\u001b[0m\u001b[0;34m\u001b[0m\u001b[0;34m\u001b[0m\u001b[0m\n\u001b[0;32m--> 898\u001b[0;31m             \u001b[0mcursor\u001b[0m\u001b[0;34m.\u001b[0m\u001b[0mexecutemany\u001b[0m\u001b[0;34m(\u001b[0m\u001b[0mstatement\u001b[0m\u001b[0;34m,\u001b[0m \u001b[0mparameters\u001b[0m\u001b[0;34m)\u001b[0m\u001b[0;34m\u001b[0m\u001b[0;34m\u001b[0m\u001b[0m\n\u001b[0m\u001b[1;32m    899\u001b[0m             \u001b[0;32mreturn\u001b[0m\u001b[0;34m\u001b[0m\u001b[0;34m\u001b[0m\u001b[0m\n",
      "\u001b[0;31mUniqueViolation\u001b[0m: duplicate key value violates unique constraint \"spotify_csv_pkey\"\nDETAIL:  Key (id)=(0cS0A1fUEUd1EW3FcF8AEI) already exists.\n",
      "\nThe above exception was the direct cause of the following exception:\n",
      "\u001b[0;31mIntegrityError\u001b[0m                            Traceback (most recent call last)",
      "\u001b[0;32m<ipython-input-17-56bad50d2376>\u001b[0m in \u001b[0;36m<module>\u001b[0;34m\u001b[0m\n\u001b[1;32m      1\u001b[0m \u001b[0;31m# Load pandas dataframe new_csv_df to database music_db, table spotify_csv\u001b[0m\u001b[0;34m\u001b[0m\u001b[0;34m\u001b[0m\u001b[0;34m\u001b[0m\u001b[0m\n\u001b[0;32m----> 2\u001b[0;31m \u001b[0mnew_csv_df\u001b[0m\u001b[0;34m.\u001b[0m\u001b[0mto_sql\u001b[0m\u001b[0;34m(\u001b[0m\u001b[0mname\u001b[0m\u001b[0;34m=\u001b[0m\u001b[0;34m'spotify_csv'\u001b[0m\u001b[0;34m,\u001b[0m \u001b[0mcon\u001b[0m\u001b[0;34m=\u001b[0m\u001b[0mengine\u001b[0m\u001b[0;34m,\u001b[0m \u001b[0mif_exists\u001b[0m\u001b[0;34m=\u001b[0m\u001b[0;34m'append'\u001b[0m\u001b[0;34m,\u001b[0m \u001b[0mindex\u001b[0m\u001b[0;34m=\u001b[0m\u001b[0;32mFalse\u001b[0m\u001b[0;34m)\u001b[0m\u001b[0;34m\u001b[0m\u001b[0;34m\u001b[0m\u001b[0m\n\u001b[0m",
      "\u001b[0;32m~/opt/anaconda3/envs/PythonData/lib/python3.6/site-packages/pandas/core/generic.py\u001b[0m in \u001b[0;36mto_sql\u001b[0;34m(self, name, con, schema, if_exists, index, index_label, chunksize, dtype, method)\u001b[0m\n\u001b[1;32m   2661\u001b[0m             \u001b[0mchunksize\u001b[0m\u001b[0;34m=\u001b[0m\u001b[0mchunksize\u001b[0m\u001b[0;34m,\u001b[0m\u001b[0;34m\u001b[0m\u001b[0;34m\u001b[0m\u001b[0m\n\u001b[1;32m   2662\u001b[0m             \u001b[0mdtype\u001b[0m\u001b[0;34m=\u001b[0m\u001b[0mdtype\u001b[0m\u001b[0;34m,\u001b[0m\u001b[0;34m\u001b[0m\u001b[0;34m\u001b[0m\u001b[0m\n\u001b[0;32m-> 2663\u001b[0;31m             \u001b[0mmethod\u001b[0m\u001b[0;34m=\u001b[0m\u001b[0mmethod\u001b[0m\u001b[0;34m,\u001b[0m\u001b[0;34m\u001b[0m\u001b[0;34m\u001b[0m\u001b[0m\n\u001b[0m\u001b[1;32m   2664\u001b[0m         )\n\u001b[1;32m   2665\u001b[0m \u001b[0;34m\u001b[0m\u001b[0m\n",
      "\u001b[0;32m~/opt/anaconda3/envs/PythonData/lib/python3.6/site-packages/pandas/io/sql.py\u001b[0m in \u001b[0;36mto_sql\u001b[0;34m(frame, name, con, schema, if_exists, index, index_label, chunksize, dtype, method)\u001b[0m\n\u001b[1;32m    519\u001b[0m         \u001b[0mchunksize\u001b[0m\u001b[0;34m=\u001b[0m\u001b[0mchunksize\u001b[0m\u001b[0;34m,\u001b[0m\u001b[0;34m\u001b[0m\u001b[0;34m\u001b[0m\u001b[0m\n\u001b[1;32m    520\u001b[0m         \u001b[0mdtype\u001b[0m\u001b[0;34m=\u001b[0m\u001b[0mdtype\u001b[0m\u001b[0;34m,\u001b[0m\u001b[0;34m\u001b[0m\u001b[0;34m\u001b[0m\u001b[0m\n\u001b[0;32m--> 521\u001b[0;31m         \u001b[0mmethod\u001b[0m\u001b[0;34m=\u001b[0m\u001b[0mmethod\u001b[0m\u001b[0;34m,\u001b[0m\u001b[0;34m\u001b[0m\u001b[0;34m\u001b[0m\u001b[0m\n\u001b[0m\u001b[1;32m    522\u001b[0m     )\n\u001b[1;32m    523\u001b[0m \u001b[0;34m\u001b[0m\u001b[0m\n",
      "\u001b[0;32m~/opt/anaconda3/envs/PythonData/lib/python3.6/site-packages/pandas/io/sql.py\u001b[0m in \u001b[0;36mto_sql\u001b[0;34m(self, frame, name, if_exists, index, index_label, schema, chunksize, dtype, method)\u001b[0m\n\u001b[1;32m   1315\u001b[0m         )\n\u001b[1;32m   1316\u001b[0m         \u001b[0mtable\u001b[0m\u001b[0;34m.\u001b[0m\u001b[0mcreate\u001b[0m\u001b[0;34m(\u001b[0m\u001b[0;34m)\u001b[0m\u001b[0;34m\u001b[0m\u001b[0;34m\u001b[0m\u001b[0m\n\u001b[0;32m-> 1317\u001b[0;31m         \u001b[0mtable\u001b[0m\u001b[0;34m.\u001b[0m\u001b[0minsert\u001b[0m\u001b[0;34m(\u001b[0m\u001b[0mchunksize\u001b[0m\u001b[0;34m,\u001b[0m \u001b[0mmethod\u001b[0m\u001b[0;34m=\u001b[0m\u001b[0mmethod\u001b[0m\u001b[0;34m)\u001b[0m\u001b[0;34m\u001b[0m\u001b[0;34m\u001b[0m\u001b[0m\n\u001b[0m\u001b[1;32m   1318\u001b[0m         \u001b[0;32mif\u001b[0m \u001b[0;32mnot\u001b[0m \u001b[0mname\u001b[0m\u001b[0;34m.\u001b[0m\u001b[0misdigit\u001b[0m\u001b[0;34m(\u001b[0m\u001b[0;34m)\u001b[0m \u001b[0;32mand\u001b[0m \u001b[0;32mnot\u001b[0m \u001b[0mname\u001b[0m\u001b[0;34m.\u001b[0m\u001b[0mislower\u001b[0m\u001b[0;34m(\u001b[0m\u001b[0;34m)\u001b[0m\u001b[0;34m:\u001b[0m\u001b[0;34m\u001b[0m\u001b[0;34m\u001b[0m\u001b[0m\n\u001b[1;32m   1319\u001b[0m             \u001b[0;31m# check for potentially case sensitivity issues (GH7815)\u001b[0m\u001b[0;34m\u001b[0m\u001b[0;34m\u001b[0m\u001b[0;34m\u001b[0m\u001b[0m\n",
      "\u001b[0;32m~/opt/anaconda3/envs/PythonData/lib/python3.6/site-packages/pandas/io/sql.py\u001b[0m in \u001b[0;36minsert\u001b[0;34m(self, chunksize, method)\u001b[0m\n\u001b[1;32m    753\u001b[0m \u001b[0;34m\u001b[0m\u001b[0m\n\u001b[1;32m    754\u001b[0m                 \u001b[0mchunk_iter\u001b[0m \u001b[0;34m=\u001b[0m \u001b[0mzip\u001b[0m\u001b[0;34m(\u001b[0m\u001b[0;34m*\u001b[0m\u001b[0;34m[\u001b[0m\u001b[0marr\u001b[0m\u001b[0;34m[\u001b[0m\u001b[0mstart_i\u001b[0m\u001b[0;34m:\u001b[0m\u001b[0mend_i\u001b[0m\u001b[0;34m]\u001b[0m \u001b[0;32mfor\u001b[0m \u001b[0marr\u001b[0m \u001b[0;32min\u001b[0m \u001b[0mdata_list\u001b[0m\u001b[0;34m]\u001b[0m\u001b[0;34m)\u001b[0m\u001b[0;34m\u001b[0m\u001b[0;34m\u001b[0m\u001b[0m\n\u001b[0;32m--> 755\u001b[0;31m                 \u001b[0mexec_insert\u001b[0m\u001b[0;34m(\u001b[0m\u001b[0mconn\u001b[0m\u001b[0;34m,\u001b[0m \u001b[0mkeys\u001b[0m\u001b[0;34m,\u001b[0m \u001b[0mchunk_iter\u001b[0m\u001b[0;34m)\u001b[0m\u001b[0;34m\u001b[0m\u001b[0;34m\u001b[0m\u001b[0m\n\u001b[0m\u001b[1;32m    756\u001b[0m \u001b[0;34m\u001b[0m\u001b[0m\n\u001b[1;32m    757\u001b[0m     def _query_iterator(\n",
      "\u001b[0;32m~/opt/anaconda3/envs/PythonData/lib/python3.6/site-packages/pandas/io/sql.py\u001b[0m in \u001b[0;36m_execute_insert\u001b[0;34m(self, conn, keys, data_iter)\u001b[0m\n\u001b[1;32m    667\u001b[0m         \"\"\"\n\u001b[1;32m    668\u001b[0m         \u001b[0mdata\u001b[0m \u001b[0;34m=\u001b[0m \u001b[0;34m[\u001b[0m\u001b[0mdict\u001b[0m\u001b[0;34m(\u001b[0m\u001b[0mzip\u001b[0m\u001b[0;34m(\u001b[0m\u001b[0mkeys\u001b[0m\u001b[0;34m,\u001b[0m \u001b[0mrow\u001b[0m\u001b[0;34m)\u001b[0m\u001b[0;34m)\u001b[0m \u001b[0;32mfor\u001b[0m \u001b[0mrow\u001b[0m \u001b[0;32min\u001b[0m \u001b[0mdata_iter\u001b[0m\u001b[0;34m]\u001b[0m\u001b[0;34m\u001b[0m\u001b[0;34m\u001b[0m\u001b[0m\n\u001b[0;32m--> 669\u001b[0;31m         \u001b[0mconn\u001b[0m\u001b[0;34m.\u001b[0m\u001b[0mexecute\u001b[0m\u001b[0;34m(\u001b[0m\u001b[0mself\u001b[0m\u001b[0;34m.\u001b[0m\u001b[0mtable\u001b[0m\u001b[0;34m.\u001b[0m\u001b[0minsert\u001b[0m\u001b[0;34m(\u001b[0m\u001b[0;34m)\u001b[0m\u001b[0;34m,\u001b[0m \u001b[0mdata\u001b[0m\u001b[0;34m)\u001b[0m\u001b[0;34m\u001b[0m\u001b[0;34m\u001b[0m\u001b[0m\n\u001b[0m\u001b[1;32m    670\u001b[0m \u001b[0;34m\u001b[0m\u001b[0m\n\u001b[1;32m    671\u001b[0m     \u001b[0;32mdef\u001b[0m \u001b[0m_execute_insert_multi\u001b[0m\u001b[0;34m(\u001b[0m\u001b[0mself\u001b[0m\u001b[0;34m,\u001b[0m \u001b[0mconn\u001b[0m\u001b[0;34m,\u001b[0m \u001b[0mkeys\u001b[0m\u001b[0;34m,\u001b[0m \u001b[0mdata_iter\u001b[0m\u001b[0;34m)\u001b[0m\u001b[0;34m:\u001b[0m\u001b[0;34m\u001b[0m\u001b[0;34m\u001b[0m\u001b[0m\n",
      "\u001b[0;32m~/opt/anaconda3/envs/PythonData/lib/python3.6/site-packages/sqlalchemy/engine/base.py\u001b[0m in \u001b[0;36mexecute\u001b[0;34m(self, object_, *multiparams, **params)\u001b[0m\n\u001b[1;32m   1009\u001b[0m             )\n\u001b[1;32m   1010\u001b[0m         \u001b[0;32melse\u001b[0m\u001b[0;34m:\u001b[0m\u001b[0;34m\u001b[0m\u001b[0;34m\u001b[0m\u001b[0m\n\u001b[0;32m-> 1011\u001b[0;31m             \u001b[0;32mreturn\u001b[0m \u001b[0mmeth\u001b[0m\u001b[0;34m(\u001b[0m\u001b[0mself\u001b[0m\u001b[0;34m,\u001b[0m \u001b[0mmultiparams\u001b[0m\u001b[0;34m,\u001b[0m \u001b[0mparams\u001b[0m\u001b[0;34m)\u001b[0m\u001b[0;34m\u001b[0m\u001b[0;34m\u001b[0m\u001b[0m\n\u001b[0m\u001b[1;32m   1012\u001b[0m \u001b[0;34m\u001b[0m\u001b[0m\n\u001b[1;32m   1013\u001b[0m     \u001b[0;32mdef\u001b[0m \u001b[0m_execute_function\u001b[0m\u001b[0;34m(\u001b[0m\u001b[0mself\u001b[0m\u001b[0;34m,\u001b[0m \u001b[0mfunc\u001b[0m\u001b[0;34m,\u001b[0m \u001b[0mmultiparams\u001b[0m\u001b[0;34m,\u001b[0m \u001b[0mparams\u001b[0m\u001b[0;34m)\u001b[0m\u001b[0;34m:\u001b[0m\u001b[0;34m\u001b[0m\u001b[0;34m\u001b[0m\u001b[0m\n",
      "\u001b[0;32m~/opt/anaconda3/envs/PythonData/lib/python3.6/site-packages/sqlalchemy/sql/elements.py\u001b[0m in \u001b[0;36m_execute_on_connection\u001b[0;34m(self, connection, multiparams, params)\u001b[0m\n\u001b[1;32m    296\u001b[0m     \u001b[0;32mdef\u001b[0m \u001b[0m_execute_on_connection\u001b[0m\u001b[0;34m(\u001b[0m\u001b[0mself\u001b[0m\u001b[0;34m,\u001b[0m \u001b[0mconnection\u001b[0m\u001b[0;34m,\u001b[0m \u001b[0mmultiparams\u001b[0m\u001b[0;34m,\u001b[0m \u001b[0mparams\u001b[0m\u001b[0;34m)\u001b[0m\u001b[0;34m:\u001b[0m\u001b[0;34m\u001b[0m\u001b[0;34m\u001b[0m\u001b[0m\n\u001b[1;32m    297\u001b[0m         \u001b[0;32mif\u001b[0m \u001b[0mself\u001b[0m\u001b[0;34m.\u001b[0m\u001b[0msupports_execution\u001b[0m\u001b[0;34m:\u001b[0m\u001b[0;34m\u001b[0m\u001b[0;34m\u001b[0m\u001b[0m\n\u001b[0;32m--> 298\u001b[0;31m             \u001b[0;32mreturn\u001b[0m \u001b[0mconnection\u001b[0m\u001b[0;34m.\u001b[0m\u001b[0m_execute_clauseelement\u001b[0m\u001b[0;34m(\u001b[0m\u001b[0mself\u001b[0m\u001b[0;34m,\u001b[0m \u001b[0mmultiparams\u001b[0m\u001b[0;34m,\u001b[0m \u001b[0mparams\u001b[0m\u001b[0;34m)\u001b[0m\u001b[0;34m\u001b[0m\u001b[0;34m\u001b[0m\u001b[0m\n\u001b[0m\u001b[1;32m    299\u001b[0m         \u001b[0;32melse\u001b[0m\u001b[0;34m:\u001b[0m\u001b[0;34m\u001b[0m\u001b[0;34m\u001b[0m\u001b[0m\n\u001b[1;32m    300\u001b[0m             \u001b[0;32mraise\u001b[0m \u001b[0mexc\u001b[0m\u001b[0;34m.\u001b[0m\u001b[0mObjectNotExecutableError\u001b[0m\u001b[0;34m(\u001b[0m\u001b[0mself\u001b[0m\u001b[0;34m)\u001b[0m\u001b[0;34m\u001b[0m\u001b[0;34m\u001b[0m\u001b[0m\n",
      "\u001b[0;32m~/opt/anaconda3/envs/PythonData/lib/python3.6/site-packages/sqlalchemy/engine/base.py\u001b[0m in \u001b[0;36m_execute_clauseelement\u001b[0;34m(self, elem, multiparams, params)\u001b[0m\n\u001b[1;32m   1128\u001b[0m             \u001b[0mdistilled_params\u001b[0m\u001b[0;34m,\u001b[0m\u001b[0;34m\u001b[0m\u001b[0;34m\u001b[0m\u001b[0m\n\u001b[1;32m   1129\u001b[0m             \u001b[0mcompiled_sql\u001b[0m\u001b[0;34m,\u001b[0m\u001b[0;34m\u001b[0m\u001b[0;34m\u001b[0m\u001b[0m\n\u001b[0;32m-> 1130\u001b[0;31m             \u001b[0mdistilled_params\u001b[0m\u001b[0;34m,\u001b[0m\u001b[0;34m\u001b[0m\u001b[0;34m\u001b[0m\u001b[0m\n\u001b[0m\u001b[1;32m   1131\u001b[0m         )\n\u001b[1;32m   1132\u001b[0m         \u001b[0;32mif\u001b[0m \u001b[0mself\u001b[0m\u001b[0;34m.\u001b[0m\u001b[0m_has_events\u001b[0m \u001b[0;32mor\u001b[0m \u001b[0mself\u001b[0m\u001b[0;34m.\u001b[0m\u001b[0mengine\u001b[0m\u001b[0;34m.\u001b[0m\u001b[0m_has_events\u001b[0m\u001b[0;34m:\u001b[0m\u001b[0;34m\u001b[0m\u001b[0;34m\u001b[0m\u001b[0m\n",
      "\u001b[0;32m~/opt/anaconda3/envs/PythonData/lib/python3.6/site-packages/sqlalchemy/engine/base.py\u001b[0m in \u001b[0;36m_execute_context\u001b[0;34m(self, dialect, constructor, statement, parameters, *args)\u001b[0m\n\u001b[1;32m   1315\u001b[0m         \u001b[0;32mexcept\u001b[0m \u001b[0mBaseException\u001b[0m \u001b[0;32mas\u001b[0m \u001b[0me\u001b[0m\u001b[0;34m:\u001b[0m\u001b[0;34m\u001b[0m\u001b[0;34m\u001b[0m\u001b[0m\n\u001b[1;32m   1316\u001b[0m             self._handle_dbapi_exception(\n\u001b[0;32m-> 1317\u001b[0;31m                 \u001b[0me\u001b[0m\u001b[0;34m,\u001b[0m \u001b[0mstatement\u001b[0m\u001b[0;34m,\u001b[0m \u001b[0mparameters\u001b[0m\u001b[0;34m,\u001b[0m \u001b[0mcursor\u001b[0m\u001b[0;34m,\u001b[0m \u001b[0mcontext\u001b[0m\u001b[0;34m\u001b[0m\u001b[0;34m\u001b[0m\u001b[0m\n\u001b[0m\u001b[1;32m   1318\u001b[0m             )\n\u001b[1;32m   1319\u001b[0m \u001b[0;34m\u001b[0m\u001b[0m\n",
      "\u001b[0;32m~/opt/anaconda3/envs/PythonData/lib/python3.6/site-packages/sqlalchemy/engine/base.py\u001b[0m in \u001b[0;36m_handle_dbapi_exception\u001b[0;34m(self, e, statement, parameters, cursor, context)\u001b[0m\n\u001b[1;32m   1509\u001b[0m             \u001b[0;32melif\u001b[0m \u001b[0mshould_wrap\u001b[0m\u001b[0;34m:\u001b[0m\u001b[0;34m\u001b[0m\u001b[0;34m\u001b[0m\u001b[0m\n\u001b[1;32m   1510\u001b[0m                 util.raise_(\n\u001b[0;32m-> 1511\u001b[0;31m                     \u001b[0msqlalchemy_exception\u001b[0m\u001b[0;34m,\u001b[0m \u001b[0mwith_traceback\u001b[0m\u001b[0;34m=\u001b[0m\u001b[0mexc_info\u001b[0m\u001b[0;34m[\u001b[0m\u001b[0;36m2\u001b[0m\u001b[0;34m]\u001b[0m\u001b[0;34m,\u001b[0m \u001b[0mfrom_\u001b[0m\u001b[0;34m=\u001b[0m\u001b[0me\u001b[0m\u001b[0;34m\u001b[0m\u001b[0;34m\u001b[0m\u001b[0m\n\u001b[0m\u001b[1;32m   1512\u001b[0m                 )\n\u001b[1;32m   1513\u001b[0m             \u001b[0;32melse\u001b[0m\u001b[0;34m:\u001b[0m\u001b[0;34m\u001b[0m\u001b[0;34m\u001b[0m\u001b[0m\n",
      "\u001b[0;32m~/opt/anaconda3/envs/PythonData/lib/python3.6/site-packages/sqlalchemy/util/compat.py\u001b[0m in \u001b[0;36mraise_\u001b[0;34m(***failed resolving arguments***)\u001b[0m\n\u001b[1;32m    180\u001b[0m \u001b[0;34m\u001b[0m\u001b[0m\n\u001b[1;32m    181\u001b[0m         \u001b[0;32mtry\u001b[0m\u001b[0;34m:\u001b[0m\u001b[0;34m\u001b[0m\u001b[0;34m\u001b[0m\u001b[0m\n\u001b[0;32m--> 182\u001b[0;31m             \u001b[0;32mraise\u001b[0m \u001b[0mexception\u001b[0m\u001b[0;34m\u001b[0m\u001b[0;34m\u001b[0m\u001b[0m\n\u001b[0m\u001b[1;32m    183\u001b[0m         \u001b[0;32mfinally\u001b[0m\u001b[0;34m:\u001b[0m\u001b[0;34m\u001b[0m\u001b[0;34m\u001b[0m\u001b[0m\n\u001b[1;32m    184\u001b[0m             \u001b[0;31m# credit to\u001b[0m\u001b[0;34m\u001b[0m\u001b[0;34m\u001b[0m\u001b[0;34m\u001b[0m\u001b[0m\n",
      "\u001b[0;32m~/opt/anaconda3/envs/PythonData/lib/python3.6/site-packages/sqlalchemy/engine/base.py\u001b[0m in \u001b[0;36m_execute_context\u001b[0;34m(self, dialect, constructor, statement, parameters, *args)\u001b[0m\n\u001b[1;32m   1255\u001b[0m                 \u001b[0;32mif\u001b[0m \u001b[0;32mnot\u001b[0m \u001b[0mevt_handled\u001b[0m\u001b[0;34m:\u001b[0m\u001b[0;34m\u001b[0m\u001b[0;34m\u001b[0m\u001b[0m\n\u001b[1;32m   1256\u001b[0m                     self.dialect.do_executemany(\n\u001b[0;32m-> 1257\u001b[0;31m                         \u001b[0mcursor\u001b[0m\u001b[0;34m,\u001b[0m \u001b[0mstatement\u001b[0m\u001b[0;34m,\u001b[0m \u001b[0mparameters\u001b[0m\u001b[0;34m,\u001b[0m \u001b[0mcontext\u001b[0m\u001b[0;34m\u001b[0m\u001b[0;34m\u001b[0m\u001b[0m\n\u001b[0m\u001b[1;32m   1258\u001b[0m                     )\n\u001b[1;32m   1259\u001b[0m             \u001b[0;32melif\u001b[0m \u001b[0;32mnot\u001b[0m \u001b[0mparameters\u001b[0m \u001b[0;32mand\u001b[0m \u001b[0mcontext\u001b[0m\u001b[0;34m.\u001b[0m\u001b[0mno_parameters\u001b[0m\u001b[0;34m:\u001b[0m\u001b[0;34m\u001b[0m\u001b[0;34m\u001b[0m\u001b[0m\n",
      "\u001b[0;32m~/opt/anaconda3/envs/PythonData/lib/python3.6/site-packages/sqlalchemy/dialects/postgresql/psycopg2.py\u001b[0m in \u001b[0;36mdo_executemany\u001b[0;34m(self, cursor, statement, parameters, context)\u001b[0m\n\u001b[1;32m    896\u001b[0m     \u001b[0;32mdef\u001b[0m \u001b[0mdo_executemany\u001b[0m\u001b[0;34m(\u001b[0m\u001b[0mself\u001b[0m\u001b[0;34m,\u001b[0m \u001b[0mcursor\u001b[0m\u001b[0;34m,\u001b[0m \u001b[0mstatement\u001b[0m\u001b[0;34m,\u001b[0m \u001b[0mparameters\u001b[0m\u001b[0;34m,\u001b[0m \u001b[0mcontext\u001b[0m\u001b[0;34m=\u001b[0m\u001b[0;32mNone\u001b[0m\u001b[0;34m)\u001b[0m\u001b[0;34m:\u001b[0m\u001b[0;34m\u001b[0m\u001b[0;34m\u001b[0m\u001b[0m\n\u001b[1;32m    897\u001b[0m         \u001b[0;32mif\u001b[0m \u001b[0mself\u001b[0m\u001b[0;34m.\u001b[0m\u001b[0mexecutemany_mode\u001b[0m \u001b[0;32mis\u001b[0m \u001b[0mEXECUTEMANY_DEFAULT\u001b[0m\u001b[0;34m:\u001b[0m\u001b[0;34m\u001b[0m\u001b[0;34m\u001b[0m\u001b[0m\n\u001b[0;32m--> 898\u001b[0;31m             \u001b[0mcursor\u001b[0m\u001b[0;34m.\u001b[0m\u001b[0mexecutemany\u001b[0m\u001b[0;34m(\u001b[0m\u001b[0mstatement\u001b[0m\u001b[0;34m,\u001b[0m \u001b[0mparameters\u001b[0m\u001b[0;34m)\u001b[0m\u001b[0;34m\u001b[0m\u001b[0;34m\u001b[0m\u001b[0m\n\u001b[0m\u001b[1;32m    899\u001b[0m             \u001b[0;32mreturn\u001b[0m\u001b[0;34m\u001b[0m\u001b[0;34m\u001b[0m\u001b[0m\n\u001b[1;32m    900\u001b[0m \u001b[0;34m\u001b[0m\u001b[0m\n",
      "\u001b[0;31mIntegrityError\u001b[0m: (psycopg2.errors.UniqueViolation) duplicate key value violates unique constraint \"spotify_csv_pkey\"\nDETAIL:  Key (id)=(0cS0A1fUEUd1EW3FcF8AEI) already exists.\n\n[SQL: INSERT INTO spotify_csv (id, s_name, s_artist, s_key, s_tempo, s_year, s_popularity) VALUES (%(id)s, %(s_name)s, %(s_artist)s, %(s_key)s, %(s_tempo)s, %(s_year)s, %(s_popularity)s)]\n[parameters: ({'id': '0cS0A1fUEUd1EW3FcF8AEI', 's_name': 'Keep A Song In Your Soul', 's_artist': \"['Mamie Smith']\", 's_key': 5, 's_tempo': 149.976, 's_year': 1920, 's_popularity': 12}, {'id': '0hbkKFIJm7Z05H8Zl9w30f', 's_name': 'I Put A Spell On You', 's_artist': '[\"Screamin\\' Jay Hawkins\"]', 's_key': 5, 's_tempo': 86.889, 's_year': 1920, 's_popularity': 7}, {'id': '11m7laMUgmOKqI3oYzuhne', 's_name': 'Golfing Papa', 's_artist': \"['Mamie Smith']\", 's_key': 0, 's_tempo': 97.6, 's_year': 1920, 's_popularity': 4}, {'id': '19Lc5SfJJ5O1oaxY0fpwfh', 's_name': 'True House Music - Xavier Santos & Carlos Gomix Remix', 's_artist': \"['Oscar Velazquez']\", 's_key': 2, 's_tempo': 127.997, 's_year': 1920, 's_popularity': 17}, {'id': '2hJjbsLCytGsnAHfdsLejp', 's_name': 'Xuniverxe', 's_artist': \"['Mixe']\", 's_key': 10, 's_tempo': 122.076, 's_year': 1920, 's_popularity': 2}, {'id': '3HnrHGLE9u2MjHtdobfWl9', 's_name': 'Crazy Blues - 78rpm Version', 's_artist': \"['Mamie Smith & Her Jazz Hounds']\", 's_key': 5, 's_tempo': 103.87, 's_year': 1920, 's_popularity': 9}, {'id': '5DlCyqLyX2AOVDTjjkDZ8x', 's_name': \"Don't You Advertise Your Man\", 's_artist': \"['Mamie Smith']\", 's_key': 5, 's_tempo': 85.652, 's_year': 1920, 's_popularity': 5}, {'id': '02FzJbHtqElixxCmrpSCUa', 's_name': 'Arkansas Blues', 's_artist': \"['Mamie Smith & Her Jazz Hounds']\", 's_key': 9, 's_tempo': 78.78399999999998, 's_year': 1920, 's_popularity': 0}  ... displaying 10 of 172230 total bound parameter sets ...  {'id': '7tue2Wemjd0FZzRtDrQFZd', 's_name': 'A Little More', 's_artist': \"['Alessia Cara']\", 's_key': 4, 's_tempo': 94.71, 's_year': 2021, 's_popularity': 0}, {'id': '1gcyHQpBQ1lfXGdhZmWrHP', 's_name': 'champagne problems', 's_artist': \"['Taylor Swift']\", 's_key': 0, 's_tempo': 171.31900000000005, 's_year': 2021, 's_popularity': 69})]\n(Background on this error at: http://sqlalche.me/e/13/gkpj)"
     ]
    }
   ],
   "source": [
    "# Load pandas dataframe new_csv_df to database music_db, table spotify_csv\n",
    "new_csv_df.to_sql(name='spotify_csv', con=engine, if_exists='append', index=False)"
   ]
  },
  {
   "cell_type": "code",
   "execution_count": null,
   "metadata": {},
   "outputs": [],
   "source": [
    "# Load pandas dataframe id_timesig_df to database music_db, table spotify_api\n",
    "id_timesig_df.to_sql(name='spotify_api', con=engine, if_exists='append', index=False)\n",
    "\n",
    "# Alternatively, id_timesig_df pandas dataframe has been saved as a csv file. This csv file can be loaded into postgres database directly in table 'spotify_api'\n",
    "# Relative csv link location: resources/id_timesig_df.csv\n"
   ]
  },
  {
   "cell_type": "code",
   "execution_count": 21,
   "metadata": {},
   "outputs": [
    {
     "output_type": "execute_result",
     "data": {
      "text/plain": [
       "   Unnamed: 0                      id  s_timesig\n",
       "0           0  0cS0A1fUEUd1EW3FcF8AEI          4\n",
       "1           1  0hbkKFIJm7Z05H8Zl9w30f          4\n",
       "2           2  11m7laMUgmOKqI3oYzuhne          4\n",
       "3           3  19Lc5SfJJ5O1oaxY0fpwfh          4\n",
       "4           4  2hJjbsLCytGsnAHfdsLejp          4"
      ],
      "text/html": "<div>\n<style scoped>\n    .dataframe tbody tr th:only-of-type {\n        vertical-align: middle;\n    }\n\n    .dataframe tbody tr th {\n        vertical-align: top;\n    }\n\n    .dataframe thead th {\n        text-align: right;\n    }\n</style>\n<table border=\"1\" class=\"dataframe\">\n  <thead>\n    <tr style=\"text-align: right;\">\n      <th></th>\n      <th>Unnamed: 0</th>\n      <th>id</th>\n      <th>s_timesig</th>\n    </tr>\n  </thead>\n  <tbody>\n    <tr>\n      <th>0</th>\n      <td>0</td>\n      <td>0cS0A1fUEUd1EW3FcF8AEI</td>\n      <td>4</td>\n    </tr>\n    <tr>\n      <th>1</th>\n      <td>1</td>\n      <td>0hbkKFIJm7Z05H8Zl9w30f</td>\n      <td>4</td>\n    </tr>\n    <tr>\n      <th>2</th>\n      <td>2</td>\n      <td>11m7laMUgmOKqI3oYzuhne</td>\n      <td>4</td>\n    </tr>\n    <tr>\n      <th>3</th>\n      <td>3</td>\n      <td>19Lc5SfJJ5O1oaxY0fpwfh</td>\n      <td>4</td>\n    </tr>\n    <tr>\n      <th>4</th>\n      <td>4</td>\n      <td>2hJjbsLCytGsnAHfdsLejp</td>\n      <td>4</td>\n    </tr>\n  </tbody>\n</table>\n</div>"
     },
     "metadata": {},
     "execution_count": 21
    }
   ],
   "source": [
    "ts_df = pd.read_csv('resources/id_timesig_df.csv')\n",
    "ts_df.head()"
   ]
  },
  {
   "cell_type": "code",
   "execution_count": 27,
   "metadata": {},
   "outputs": [],
   "source": [
    "ts_df=ts_df[['id','s_timesig']]\n",
    "ts_df\n",
    "\n",
    "ts_df.to_csv('resources/id_timesig_df.csv', index=False) "
   ]
  },
  {
   "cell_type": "code",
   "execution_count": null,
   "metadata": {},
   "outputs": [],
   "source": []
  }
 ]
}