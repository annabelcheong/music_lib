{
 "cells": [
  {
   "source": [
    "## Web Scraping\n",
    "*** Go to \"Rate Your Music\" website and retrieve a chart of the top albums of all time ***"
   ],
   "cell_type": "markdown",
   "metadata": {}
  },
  {
   "cell_type": "code",
   "execution_count": 1,
   "metadata": {},
   "outputs": [],
   "source": [
    "# Import Libraries\n",
    "from splinter import Browser\n",
    "from bs4 import BeautifulSoup\n",
    "import time\n",
    "import pandas as pd\n",
    "from sqlalchemy import create_engine\n"
   ]
  },
  {
   "source": [
    "*** Extract ***\n",
    "* Use Splinter to navigate the \"Top Albums of all Time\" - 40 Albums per web page\n",
    "* Use Beautiful Soup to extract individual Album details - Title, Album, Rating and Spotify link\n",
    "* Capture intial results in Pandas "
   ],
   "cell_type": "markdown",
   "metadata": {}
  },
  {
   "cell_type": "code",
   "execution_count": 2,
   "metadata": {},
   "outputs": [
    {
     "output_type": "stream",
     "name": "stderr",
     "text": [
      "[WDM] - ====== WebDriver manager ======\n",
      "[WDM] - Current google-chrome version is 88.0.4324\n",
      "[WDM] - Get LATEST driver version for 88.0.4324\n",
      "\n",
      "\n",
      "[WDM] - Driver [C:\\Users\\bentl\\.wdm\\drivers\\chromedriver\\win32\\88.0.4324.96\\chromedriver.exe] found in cache\n"
     ]
    }
   ],
   "source": [
    "from webdriver_manager.chrome import ChromeDriverManager\n",
    "executable_path = {'executable_path': ChromeDriverManager().install()}\n",
    "browser = Browser('chrome', **executable_path, headless=True)"
   ]
  },
  {
   "cell_type": "code",
   "execution_count": 3,
   "metadata": {},
   "outputs": [],
   "source": [
    "# Rate Your Music web site - Top Albums of all time chart\n",
    "url = 'https://rateyourmusic.com/charts/top/album/all-time/'\n",
    "browser.visit(url)\n",
    "\n",
    "# Initialise a list to store dictionaries for each album scapped\n",
    "album_list = []"
   ]
  },
  {
   "cell_type": "code",
   "execution_count": 4,
   "metadata": {
    "tags": []
   },
   "outputs": [
    {
     "output_type": "stream",
     "name": "stdout",
     "text": [
      "Scraping Complete\n"
     ]
    }
   ],
   "source": [
    "# Iterate through all pages of the \"Top Albums of all time\"\n",
    "for x in range(125):\n",
    "    # HTML object\n",
    "    html = browser.html\n",
    "    # Parse HTML with Beautiful Soup\n",
    "    soup = BeautifulSoup(html, 'html.parser')\n",
    "    # Retrieve all elements that contain album information\n",
    "    albums = soup.find_all('div', class_='topcharts_itembox chart_item_release')\n",
    "        \n",
    "    # Iterate through each album\n",
    "    for album in albums:\n",
    "        # Use Beautiful Soup's find() method to navigate and retrieve album attributes\n",
    "        try:\n",
    "            album_dict = {\n",
    "                \"position\" : album.find('div', class_='topcharts_position').text,\n",
    "                \"title\" : album.find('a', class_='release').text,\n",
    "                \"artist\" : album.find('a', class_='artist').text,\n",
    "                \"release_date\" : album.find('div', class_='topcharts_item_releasedate').text.strip('\\t\\r\\n'),\n",
    "                \"genres\" : album.find('div', class_='topcharts_item_genres_container').text.strip('\\t\\r\\n'),\n",
    "                \"secondarygenres\" : album.find('div', class_='topcharts_item_secondarygenres_container').text.strip('\\t\\r\\n'),\n",
    "                \"avg_rating\" : album.find('span', class_='topcharts_stat topcharts_avg_rating_stat').text,\n",
    "                \"rating_count\" : album.find('span', class_='topcharts_stat topcharts_ratings_stat').text,\n",
    "                \"review_count\" : album.find('span', class_='topcharts_stat topcharts_reviews_stat').text,\n",
    "                \"spotify_link\" : album.find('a', class_='ui_media_link_btn ui_media_link_btn_spotify').attrs.get(\"href\") }\n",
    "        # Capture error when Spotify Link is not available       \n",
    "        except AttributeError:\n",
    "            continue\n",
    "        \n",
    "        album_list.append(album_dict)\n",
    "\n",
    "    # Click the 'Next' button on each page\n",
    "    try:\n",
    "        browser.click_link_by_partial_text('Next')\n",
    "          \n",
    "    except:\n",
    "        print(\"Scraping Complete\")\n",
    "\n",
    "    time.sleep(1)\n"
   ]
  },
  {
   "cell_type": "code",
   "execution_count": 5,
   "metadata": {},
   "outputs": [
    {
     "output_type": "execute_result",
     "data": {
      "text/plain": [
       "  position                             title        artist  \\\n",
       "0       1.                       OK Computer     Radiohead   \n",
       "1       2.                Wish You Were Here    Pink Floyd   \n",
       "2       3.  In the Court of the Crimson King  King Crimson   \n",
       "3       4.                             Kid A     Radiohead   \n",
       "4       6.         The Dark Side of the Moon    Pink Floyd   \n",
       "\n",
       "                                        release_date  \\\n",
       "0  16 June 1997 \\n                  \\n           ...   \n",
       "1  12 September 1975 \\n                  \\n      ...   \n",
       "2  10 October 1969 \\n                  \\n        ...   \n",
       "3  3 October 2000 \\n                  \\n         ...   \n",
       "4  23 March 1973 \\n                  \\n          ...   \n",
       "\n",
       "                                        genres  \\\n",
       "0                 Alternative Rock, \\nArt Rock   \n",
       "1                 Progressive Rock, \\nArt Rock   \n",
       "2                 Progressive Rock, \\nArt Rock   \n",
       "3  Art Rock, \\nExperimental Rock, \\nElectronic   \n",
       "4                 Art Rock, \\nProgressive Rock   \n",
       "\n",
       "                                     secondarygenres avg_rating rating_count  \\\n",
       "0                                                          4.23       64,317   \n",
       "1                                   Psychedelic Rock       4.29       44,399   \n",
       "2  Symphonic Prog, \\nFree Improvisation, \\nJazz-R...       4.30       40,667   \n",
       "3                              Ambient, \\nElectronic       4.21       53,511   \n",
       "4                     Psychedelic Rock, \\nSpace Rock       4.20       53,385   \n",
       "\n",
       "  review_count                                       spotify_link  \n",
       "0         1530  https://open.spotify.com/album/7dxKtc08dYeRVHt...  \n",
       "1          948  https://open.spotify.com/album/0bCAjiUamIFqKJs...  \n",
       "2          833  https://open.spotify.com/album/5wec5BciMpDMzlE...  \n",
       "3          730  https://open.spotify.com/album/19RUXBFyM4PpmrL...  \n",
       "4         1534  https://open.spotify.com/album/4LH4d3cOWNNsVw4...  "
      ],
      "text/html": "<div>\n<style scoped>\n    .dataframe tbody tr th:only-of-type {\n        vertical-align: middle;\n    }\n\n    .dataframe tbody tr th {\n        vertical-align: top;\n    }\n\n    .dataframe thead th {\n        text-align: right;\n    }\n</style>\n<table border=\"1\" class=\"dataframe\">\n  <thead>\n    <tr style=\"text-align: right;\">\n      <th></th>\n      <th>position</th>\n      <th>title</th>\n      <th>artist</th>\n      <th>release_date</th>\n      <th>genres</th>\n      <th>secondarygenres</th>\n      <th>avg_rating</th>\n      <th>rating_count</th>\n      <th>review_count</th>\n      <th>spotify_link</th>\n    </tr>\n  </thead>\n  <tbody>\n    <tr>\n      <th>0</th>\n      <td>1.</td>\n      <td>OK Computer</td>\n      <td>Radiohead</td>\n      <td>16 June 1997 \\n                  \\n           ...</td>\n      <td>Alternative Rock, \\nArt Rock</td>\n      <td></td>\n      <td>4.23</td>\n      <td>64,317</td>\n      <td>1530</td>\n      <td>https://open.spotify.com/album/7dxKtc08dYeRVHt...</td>\n    </tr>\n    <tr>\n      <th>1</th>\n      <td>2.</td>\n      <td>Wish You Were Here</td>\n      <td>Pink Floyd</td>\n      <td>12 September 1975 \\n                  \\n      ...</td>\n      <td>Progressive Rock, \\nArt Rock</td>\n      <td>Psychedelic Rock</td>\n      <td>4.29</td>\n      <td>44,399</td>\n      <td>948</td>\n      <td>https://open.spotify.com/album/0bCAjiUamIFqKJs...</td>\n    </tr>\n    <tr>\n      <th>2</th>\n      <td>3.</td>\n      <td>In the Court of the Crimson King</td>\n      <td>King Crimson</td>\n      <td>10 October 1969 \\n                  \\n        ...</td>\n      <td>Progressive Rock, \\nArt Rock</td>\n      <td>Symphonic Prog, \\nFree Improvisation, \\nJazz-R...</td>\n      <td>4.30</td>\n      <td>40,667</td>\n      <td>833</td>\n      <td>https://open.spotify.com/album/5wec5BciMpDMzlE...</td>\n    </tr>\n    <tr>\n      <th>3</th>\n      <td>4.</td>\n      <td>Kid A</td>\n      <td>Radiohead</td>\n      <td>3 October 2000 \\n                  \\n         ...</td>\n      <td>Art Rock, \\nExperimental Rock, \\nElectronic</td>\n      <td>Ambient, \\nElectronic</td>\n      <td>4.21</td>\n      <td>53,511</td>\n      <td>730</td>\n      <td>https://open.spotify.com/album/19RUXBFyM4PpmrL...</td>\n    </tr>\n    <tr>\n      <th>4</th>\n      <td>6.</td>\n      <td>The Dark Side of the Moon</td>\n      <td>Pink Floyd</td>\n      <td>23 March 1973 \\n                  \\n          ...</td>\n      <td>Art Rock, \\nProgressive Rock</td>\n      <td>Psychedelic Rock, \\nSpace Rock</td>\n      <td>4.20</td>\n      <td>53,385</td>\n      <td>1534</td>\n      <td>https://open.spotify.com/album/4LH4d3cOWNNsVw4...</td>\n    </tr>\n  </tbody>\n</table>\n</div>"
     },
     "metadata": {},
     "execution_count": 5
    }
   ],
   "source": [
    "# Convert the list of album dictionaries into a Pandas dataframe\n",
    "top_albums = pd.DataFrame(album_list)\n",
    "top_albums.head()"
   ]
  },
  {
   "source": [
    "*** Transform ***\n",
    "* Remove end of line characters\n",
    "* Set the index to the position\n",
    "* Sort by position in the chart"
   ],
   "cell_type": "markdown",
   "metadata": {}
  },
  {
   "cell_type": "code",
   "execution_count": 6,
   "metadata": {},
   "outputs": [],
   "source": [
    "# Remove end of line characters\n",
    "top_albums['release_date'].replace(r'\\s+|\\\\n', ' ', regex=True, inplace=True)\n",
    "top_albums['genres'].replace(r'\\s+|\\\\n', ' ', regex=True, inplace=True)\n",
    "top_albums['secondarygenres'].replace(r'\\s+|\\\\n', ' ', regex=True, inplace=True)\n",
    "# Remove the full stop at the end of position\n",
    "top_albums['position'] = top_albums['position'].str.replace('[^\\w\\s]','')\n",
    "# Convert to integer\n",
    "top_albums['rating_count'] = top_albums['rating_count'].str.replace(',','').astype(int)\n",
    "top_albums['review_count'] = top_albums['review_count'].str.replace(',','').astype(int)\n",
    "# Clean the data by dropping duplicates and setting the index\n",
    "top_albums.drop_duplicates(\"position\", inplace=True)\n",
    "top_albums.set_index(\"position\", inplace=True)\n"
   ]
  },
  {
   "cell_type": "code",
   "execution_count": 7,
   "metadata": {},
   "outputs": [
    {
     "output_type": "execute_result",
     "data": {
      "text/plain": [
       "                                                      title  \\\n",
       "position                                                      \n",
       "1                                               OK Computer   \n",
       "2                                        Wish You Were Here   \n",
       "3                          In the Court of the Crimson King   \n",
       "4                                                     Kid A   \n",
       "6                                 The Dark Side of the Moon   \n",
       "7                                                Abbey Road   \n",
       "8                             The Velvet Underground & Nico   \n",
       "9                                       To Pimp a Butterfly   \n",
       "10        The Rise and Fall of Ziggy Stardust and the Sp...   \n",
       "11                                                 Revolver   \n",
       "12                      The Black Saint and the Sinner Lady   \n",
       "13                                          Remain in Light   \n",
       "14                                           A Love Supreme   \n",
       "15                                              Madvillainy   \n",
       "16                                              In Rainbows   \n",
       "\n",
       "                          artist        release_date  \\\n",
       "position                                               \n",
       "1                      Radiohead       16 June 1997    \n",
       "2                     Pink Floyd  12 September 1975    \n",
       "3                   King Crimson    10 October 1969    \n",
       "4                      Radiohead     3 October 2000    \n",
       "6                     Pink Floyd      23 March 1973    \n",
       "7                    The Beatles  26 September 1969    \n",
       "8         The Velvet Underground      12 March 1967    \n",
       "9                 Kendrick Lamar      15 March 2015    \n",
       "10                   David Bowie       16 June 1972    \n",
       "11                   The Beatles      5 August 1966    \n",
       "12                        Mingus          July 1963    \n",
       "13                 Talking Heads     8 October 1980    \n",
       "14                 John Coltrane      February 1965    \n",
       "15                    Madvillain      23 March 2004    \n",
       "16                     Radiohead    10 October 2007    \n",
       "\n",
       "                                                   genres  \\\n",
       "position                                                    \n",
       "1                              Alternative Rock, Art Rock   \n",
       "2                              Progressive Rock, Art Rock   \n",
       "3                              Progressive Rock, Art Rock   \n",
       "4                 Art Rock, Experimental Rock, Electronic   \n",
       "6                              Art Rock, Progressive Rock   \n",
       "7                                                Pop Rock   \n",
       "8                             Art Rock, Experimental Rock   \n",
       "9         Conscious Hip Hop, West Coast Hip Hop, Jazz Rap   \n",
       "10                                    Glam Rock, Pop Rock   \n",
       "11                              Pop Rock, Psychedelic Pop   \n",
       "12                         Avant-Garde Jazz, Third Stream   \n",
       "13                                    New Wave, Post-Punk   \n",
       "14                                         Spiritual Jazz   \n",
       "15                                       Abstract Hip Hop   \n",
       "16                             Art Rock, Alternative Rock   \n",
       "\n",
       "                                            secondarygenres avg_rating  \\\n",
       "position                                                                 \n",
       "1                                                                 4.23   \n",
       "2                                          Psychedelic Rock       4.29   \n",
       "3         Symphonic Prog, Free Improvisation, Jazz-Rock,...       4.30   \n",
       "4                                       Ambient, Electronic       4.21   \n",
       "6                              Psychedelic Rock, Space Rock       4.20   \n",
       "7                 Psychedelic Pop, Progressive Pop, Art Pop       4.26   \n",
       "8         Proto-Punk, Noise Rock, Garage Rock, Psychedel...       4.24   \n",
       "9         Political Hip Hop, Neo-Soul, Funk, Poetry, Exp...       4.25   \n",
       "10                                     Art Rock, Rock Opera       4.26   \n",
       "11                        Psychedelic Rock, Psychedelic Pop       4.23   \n",
       "12                     Experimental Big Band, Flamenco Jazz       4.35   \n",
       "13            Funk, Afrobeat, Experimental Rock, Dance-Punk       4.25   \n",
       "14                                     Modal Jazz, Post-Bop       4.31   \n",
       "15        Jazz Rap, Experimental Hip Hop, Instrumental H...       4.25   \n",
       "16                           Electronic, Dream Pop, Art Pop       4.17   \n",
       "\n",
       "          rating_count  review_count  \\\n",
       "position                               \n",
       "1                64317          1530   \n",
       "2                44399           948   \n",
       "3                40667           833   \n",
       "4                53511           730   \n",
       "6                53385          1534   \n",
       "7                40898           928   \n",
       "8                42268           922   \n",
       "9                38136           333   \n",
       "10               36209           710   \n",
       "11               39800          1229   \n",
       "12               18170           352   \n",
       "13               32765           493   \n",
       "14               22941           419   \n",
       "15               30923           357   \n",
       "16               43616           734   \n",
       "\n",
       "                                               spotify_link  \n",
       "position                                                     \n",
       "1         https://open.spotify.com/album/7dxKtc08dYeRVHt...  \n",
       "2         https://open.spotify.com/album/0bCAjiUamIFqKJs...  \n",
       "3         https://open.spotify.com/album/5wec5BciMpDMzlE...  \n",
       "4         https://open.spotify.com/album/19RUXBFyM4PpmrL...  \n",
       "6         https://open.spotify.com/album/4LH4d3cOWNNsVw4...  \n",
       "7         https://open.spotify.com/album/0ETFjACtuP2ADo6...  \n",
       "8         https://open.spotify.com/album/4xwx0x7k6c5VuTh...  \n",
       "9         https://open.spotify.com/album/7ycBtnsMtyVbbwT...  \n",
       "10        https://open.spotify.com/album/48D1hRORqJq52qs...  \n",
       "11        https://open.spotify.com/album/3PRoXYsngSwjEQW...  \n",
       "12        https://open.spotify.com/album/6Sts4Yh7KsDFwq2...  \n",
       "13        https://open.spotify.com/album/1JvXxLsm0PxlGH4...  \n",
       "14        https://open.spotify.com/album/7Eoz7hJvaX1eFkb...  \n",
       "15        https://open.spotify.com/album/01FCoGEQ3NFWF4f...  \n",
       "16        https://open.spotify.com/album/7eyQXxuf2nGj9d2...  "
      ],
      "text/html": "<div>\n<style scoped>\n    .dataframe tbody tr th:only-of-type {\n        vertical-align: middle;\n    }\n\n    .dataframe tbody tr th {\n        vertical-align: top;\n    }\n\n    .dataframe thead th {\n        text-align: right;\n    }\n</style>\n<table border=\"1\" class=\"dataframe\">\n  <thead>\n    <tr style=\"text-align: right;\">\n      <th></th>\n      <th>title</th>\n      <th>artist</th>\n      <th>release_date</th>\n      <th>genres</th>\n      <th>secondarygenres</th>\n      <th>avg_rating</th>\n      <th>rating_count</th>\n      <th>review_count</th>\n      <th>spotify_link</th>\n    </tr>\n    <tr>\n      <th>position</th>\n      <th></th>\n      <th></th>\n      <th></th>\n      <th></th>\n      <th></th>\n      <th></th>\n      <th></th>\n      <th></th>\n      <th></th>\n    </tr>\n  </thead>\n  <tbody>\n    <tr>\n      <th>1</th>\n      <td>OK Computer</td>\n      <td>Radiohead</td>\n      <td>16 June 1997</td>\n      <td>Alternative Rock, Art Rock</td>\n      <td></td>\n      <td>4.23</td>\n      <td>64317</td>\n      <td>1530</td>\n      <td>https://open.spotify.com/album/7dxKtc08dYeRVHt...</td>\n    </tr>\n    <tr>\n      <th>2</th>\n      <td>Wish You Were Here</td>\n      <td>Pink Floyd</td>\n      <td>12 September 1975</td>\n      <td>Progressive Rock, Art Rock</td>\n      <td>Psychedelic Rock</td>\n      <td>4.29</td>\n      <td>44399</td>\n      <td>948</td>\n      <td>https://open.spotify.com/album/0bCAjiUamIFqKJs...</td>\n    </tr>\n    <tr>\n      <th>3</th>\n      <td>In the Court of the Crimson King</td>\n      <td>King Crimson</td>\n      <td>10 October 1969</td>\n      <td>Progressive Rock, Art Rock</td>\n      <td>Symphonic Prog, Free Improvisation, Jazz-Rock,...</td>\n      <td>4.30</td>\n      <td>40667</td>\n      <td>833</td>\n      <td>https://open.spotify.com/album/5wec5BciMpDMzlE...</td>\n    </tr>\n    <tr>\n      <th>4</th>\n      <td>Kid A</td>\n      <td>Radiohead</td>\n      <td>3 October 2000</td>\n      <td>Art Rock, Experimental Rock, Electronic</td>\n      <td>Ambient, Electronic</td>\n      <td>4.21</td>\n      <td>53511</td>\n      <td>730</td>\n      <td>https://open.spotify.com/album/19RUXBFyM4PpmrL...</td>\n    </tr>\n    <tr>\n      <th>6</th>\n      <td>The Dark Side of the Moon</td>\n      <td>Pink Floyd</td>\n      <td>23 March 1973</td>\n      <td>Art Rock, Progressive Rock</td>\n      <td>Psychedelic Rock, Space Rock</td>\n      <td>4.20</td>\n      <td>53385</td>\n      <td>1534</td>\n      <td>https://open.spotify.com/album/4LH4d3cOWNNsVw4...</td>\n    </tr>\n    <tr>\n      <th>7</th>\n      <td>Abbey Road</td>\n      <td>The Beatles</td>\n      <td>26 September 1969</td>\n      <td>Pop Rock</td>\n      <td>Psychedelic Pop, Progressive Pop, Art Pop</td>\n      <td>4.26</td>\n      <td>40898</td>\n      <td>928</td>\n      <td>https://open.spotify.com/album/0ETFjACtuP2ADo6...</td>\n    </tr>\n    <tr>\n      <th>8</th>\n      <td>The Velvet Underground &amp; Nico</td>\n      <td>The Velvet Underground</td>\n      <td>12 March 1967</td>\n      <td>Art Rock, Experimental Rock</td>\n      <td>Proto-Punk, Noise Rock, Garage Rock, Psychedel...</td>\n      <td>4.24</td>\n      <td>42268</td>\n      <td>922</td>\n      <td>https://open.spotify.com/album/4xwx0x7k6c5VuTh...</td>\n    </tr>\n    <tr>\n      <th>9</th>\n      <td>To Pimp a Butterfly</td>\n      <td>Kendrick Lamar</td>\n      <td>15 March 2015</td>\n      <td>Conscious Hip Hop, West Coast Hip Hop, Jazz Rap</td>\n      <td>Political Hip Hop, Neo-Soul, Funk, Poetry, Exp...</td>\n      <td>4.25</td>\n      <td>38136</td>\n      <td>333</td>\n      <td>https://open.spotify.com/album/7ycBtnsMtyVbbwT...</td>\n    </tr>\n    <tr>\n      <th>10</th>\n      <td>The Rise and Fall of Ziggy Stardust and the Sp...</td>\n      <td>David Bowie</td>\n      <td>16 June 1972</td>\n      <td>Glam Rock, Pop Rock</td>\n      <td>Art Rock, Rock Opera</td>\n      <td>4.26</td>\n      <td>36209</td>\n      <td>710</td>\n      <td>https://open.spotify.com/album/48D1hRORqJq52qs...</td>\n    </tr>\n    <tr>\n      <th>11</th>\n      <td>Revolver</td>\n      <td>The Beatles</td>\n      <td>5 August 1966</td>\n      <td>Pop Rock, Psychedelic Pop</td>\n      <td>Psychedelic Rock, Psychedelic Pop</td>\n      <td>4.23</td>\n      <td>39800</td>\n      <td>1229</td>\n      <td>https://open.spotify.com/album/3PRoXYsngSwjEQW...</td>\n    </tr>\n    <tr>\n      <th>12</th>\n      <td>The Black Saint and the Sinner Lady</td>\n      <td>Mingus</td>\n      <td>July 1963</td>\n      <td>Avant-Garde Jazz, Third Stream</td>\n      <td>Experimental Big Band, Flamenco Jazz</td>\n      <td>4.35</td>\n      <td>18170</td>\n      <td>352</td>\n      <td>https://open.spotify.com/album/6Sts4Yh7KsDFwq2...</td>\n    </tr>\n    <tr>\n      <th>13</th>\n      <td>Remain in Light</td>\n      <td>Talking Heads</td>\n      <td>8 October 1980</td>\n      <td>New Wave, Post-Punk</td>\n      <td>Funk, Afrobeat, Experimental Rock, Dance-Punk</td>\n      <td>4.25</td>\n      <td>32765</td>\n      <td>493</td>\n      <td>https://open.spotify.com/album/1JvXxLsm0PxlGH4...</td>\n    </tr>\n    <tr>\n      <th>14</th>\n      <td>A Love Supreme</td>\n      <td>John Coltrane</td>\n      <td>February 1965</td>\n      <td>Spiritual Jazz</td>\n      <td>Modal Jazz, Post-Bop</td>\n      <td>4.31</td>\n      <td>22941</td>\n      <td>419</td>\n      <td>https://open.spotify.com/album/7Eoz7hJvaX1eFkb...</td>\n    </tr>\n    <tr>\n      <th>15</th>\n      <td>Madvillainy</td>\n      <td>Madvillain</td>\n      <td>23 March 2004</td>\n      <td>Abstract Hip Hop</td>\n      <td>Jazz Rap, Experimental Hip Hop, Instrumental H...</td>\n      <td>4.25</td>\n      <td>30923</td>\n      <td>357</td>\n      <td>https://open.spotify.com/album/01FCoGEQ3NFWF4f...</td>\n    </tr>\n    <tr>\n      <th>16</th>\n      <td>In Rainbows</td>\n      <td>Radiohead</td>\n      <td>10 October 2007</td>\n      <td>Art Rock, Alternative Rock</td>\n      <td>Electronic, Dream Pop, Art Pop</td>\n      <td>4.17</td>\n      <td>43616</td>\n      <td>734</td>\n      <td>https://open.spotify.com/album/7eyQXxuf2nGj9d2...</td>\n    </tr>\n  </tbody>\n</table>\n</div>"
     },
     "metadata": {},
     "execution_count": 7
    }
   ],
   "source": [
    "top_albums.head(15)"
   ]
  },
  {
   "source": [
    "*** Load ***\n",
    "* Connect to music_db PostgresQL database\n",
    "* write the dataframe to the album table "
   ],
   "cell_type": "markdown",
   "metadata": {}
  },
  {
   "cell_type": "code",
   "execution_count": 8,
   "metadata": {},
   "outputs": [],
   "source": [
    "# PotgreSQL connection requirements\n",
    "from config import userid\n",
    "from config import password"
   ]
  },
  {
   "cell_type": "code",
   "execution_count": 9,
   "metadata": {},
   "outputs": [],
   "source": [
    "# Connect to database\n",
    "rds_connection_string = f\"{userid}:{password}@localhost:5432/music_db\"\n",
    "engine = create_engine(f'postgresql://{rds_connection_string}')"
   ]
  },
  {
   "cell_type": "code",
   "execution_count": 10,
   "metadata": {},
   "outputs": [
    {
     "output_type": "execute_result",
     "data": {
      "text/plain": [
       "['spotify_csv', 'spotify_api', 'album']"
      ]
     },
     "metadata": {},
     "execution_count": 10
    }
   ],
   "source": [
    "# Confirm tables\n",
    "engine.table_names()"
   ]
  },
  {
   "cell_type": "code",
   "execution_count": 11,
   "metadata": {},
   "outputs": [],
   "source": [
    "# wite the dataframe to the database\n",
    "top_albums.to_sql(name='album', con=engine, if_exists='append', index=True)"
   ]
  },
  {
   "cell_type": "code",
   "execution_count": 19,
   "metadata": {},
   "outputs": [
    {
     "output_type": "execute_result",
     "data": {
      "text/plain": [
       "{'_sa_instance_state': <sqlalchemy.orm.state.InstanceState at 0x2be68c6cc18>,\n",
       " 'release_date': '16 June 1997 ',\n",
       " 'title': 'OK Computer',\n",
       " 'review_count': 1530,\n",
       " 'avg_rating': Decimal('4.23'),\n",
       " 'genres': 'Alternative Rock, Art Rock',\n",
       " 'artist': 'Radiohead',\n",
       " 'position': 1,\n",
       " 'spotify_link': 'https://open.spotify.com/album/7dxKtc08dYeRVHt3p9CZJn',\n",
       " 'rating_count': 64317,\n",
       " 'secondarygenres': ''}"
      ]
     },
     "metadata": {},
     "execution_count": 19
    }
   ],
   "source": [
    "# Confirm records in database\n",
    "from sqlalchemy.orm import Session\n",
    "from sqlalchemy.ext.automap import automap_base\n",
    "\n",
    "Base = automap_base()\n",
    "Base.prepare(engine, reflect=True)\n",
    "# Base.classes.keys()\n",
    "\n",
    "Album = Base.classes.album\n",
    "\n",
    "session = Session(engine)\n",
    "\n",
    "first_row = session.query(Album).first()\n",
    "first_row.__dict__"
   ]
  },
  {
   "cell_type": "code",
   "execution_count": 21,
   "metadata": {},
   "outputs": [],
   "source": [
    "# Also dump to CSV\n",
    "top_albums.to_csv('resources/albums.csv')"
   ]
  },
  {
   "cell_type": "code",
   "execution_count": null,
   "metadata": {},
   "outputs": [],
   "source": []
  }
 ],
 "metadata": {
  "kernelspec": {
   "name": "python3",
   "display_name": "Python 3",
   "language": "python"
  },
  "language_info": {
   "codemirror_mode": {
    "name": "ipython",
    "version": 3
   },
   "file_extension": ".py",
   "mimetype": "text/x-python",
   "name": "python",
   "nbconvert_exporter": "python",
   "pygments_lexer": "ipython3",
   "version": "3.6.10-final"
  },
  "varInspector": {
   "cols": {
    "lenName": 16,
    "lenType": 16,
    "lenVar": 40
   },
   "kernels_config": {
    "python": {
     "delete_cmd_postfix": "",
     "delete_cmd_prefix": "del ",
     "library": "var_list.py",
     "varRefreshCmd": "print(var_dic_list())"
    },
    "r": {
     "delete_cmd_postfix": ") ",
     "delete_cmd_prefix": "rm(",
     "library": "var_list.r",
     "varRefreshCmd": "cat(var_dic_list()) "
    }
   },
   "types_to_exclude": [
    "module",
    "function",
    "builtin_function_or_method",
    "instance",
    "_Feature"
   ],
   "window_display": false
  }
 },
 "nbformat": 4,
 "nbformat_minor": 2
}